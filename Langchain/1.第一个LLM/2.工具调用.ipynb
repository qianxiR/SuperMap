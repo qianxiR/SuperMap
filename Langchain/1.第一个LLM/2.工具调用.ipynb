{
 "cells": [
  {
   "cell_type": "code",
   "execution_count": 1,
   "id": "b8cea31a",
   "metadata": {},
   "outputs": [
    {
     "name": "stdout",
     "output_type": "stream",
     "text": [
      "SSL配置已设置\n"
     ]
    }
   ],
   "source": [
    "# SSL连接错误解决方案\n",
    "import ssl\n",
    "import urllib3\n",
    "import os\n",
    "\n",
    "# 方案1：禁用SSL验证（不推荐用于生产环境）\n",
    "urllib3.disable_warnings(urllib3.exceptions.InsecureRequestWarning)\n",
    "os.environ['PYTHONHTTPSVERIFY'] = '0'\n",
    "\n",
    "# 方案2：设置SSL上下文\n",
    "ssl_context = ssl.create_default_context()\n",
    "ssl_context.check_hostname = False\n",
    "ssl_context.verify_mode = ssl.CERT_NONE\n",
    "\n",
    "print(\"SSL配置已设置\")\n"
   ]
  },
  {
   "cell_type": "code",
   "execution_count": 2,
   "id": "d6c8416c",
   "metadata": {},
   "outputs": [],
   "source": [
    "import getpass\n",
    "import os\n",
    "\n",
    "if not os.getenv(\"DASHSCOPE_API_KEY\"):\n",
    "    os.environ[\"DASHSCOPE_API_KEY\"] = getpass.getpass(\"Enter your Dashscope API key: \")\n"
   ]
  },
  {
   "cell_type": "code",
   "execution_count": 3,
   "id": "fa06ffce",
   "metadata": {},
   "outputs": [
    {
     "name": "stdout",
     "output_type": "stream",
     "text": [
      "content='' additional_kwargs={'tool_calls': [{'function': {'name': 'multiply', 'arguments': '{\"first_int\": 5, \"second_int\": 42}'}, 'index': 0, 'id': 'call_c9e470066e7542ab8bf6d9', 'type': 'function'}]} response_metadata={'model_name': 'qwen-turbo', 'finish_reason': 'tool_calls', 'request_id': '323283c8-d850-4231-9e30-9cdba6f75d30', 'token_usage': {'input_tokens': 213, 'output_tokens': 27, 'total_tokens': 240, 'prompt_tokens_details': {'cached_tokens': 0}}} id='run--d309eae0-cf7a-462f-891a-aef9e27c2434-0' tool_calls=[{'name': 'multiply', 'args': {'first_int': 5, 'second_int': 42}, 'id': 'call_c9e470066e7542ab8bf6d9', 'type': 'tool_call'}]\n"
     ]
    }
   ],
   "source": [
    "# 导入必要的模块\n",
    "from langchain_community.chat_models.tongyi import ChatTongyi  # 导入通义千问聊天模型\n",
    "from langchain_core.tools import tool  # 导入工具装饰器\n",
    "\n",
    "\n",
    "# 使用@tool装饰器定义一个工具函数\n",
    "@tool\n",
    "def multiply(first_int: int, second_int: int) -> int:\n",
    "    \"\"\"\n",
    "    将两个整数相乘的工具函数\n",
    "    \n",
    "    Args:\n",
    "        first_int: 第一个整数\n",
    "        second_int: 第二个整数\n",
    "    \n",
    "    Returns:\n",
    "        int: 两个整数的乘积\n",
    "    \"\"\"\n",
    "    return first_int * second_int\n",
    "\n",
    "\n",
    "# 创建通义千问语言模型实例\n",
    "llm = ChatTongyi(model=\"qwen-turbo\")\n",
    "\n",
    "# 将工具绑定到语言模型上，使模型能够调用这个工具\n",
    "llm_with_tools = llm.bind_tools([multiply])\n",
    "\n",
    "# 向模型发送一个需要计算的问题\n",
    "msg = llm_with_tools.invoke(\"What's 5 times forty two\")\n",
    "\n",
    "# 打印模型的响应（应该包含工具调用信息）\n",
    "print(msg)"
   ]
  },
  {
   "cell_type": "markdown",
   "id": "51ed73d0",
   "metadata": {},
   "source": [
    "# 工具调用功能说明\n",
    "\n",
    "## 什么是工具调用？\n",
    "工具调用（Tool Calling）是让AI模型能够调用外部函数或工具的能力。当模型遇到需要计算、查询数据或执行特定操作时，它可以自动调用相应的工具。\n",
    "\n",
    "## 代码执行流程：\n",
    "1. **定义工具**：使用 `@tool` 装饰器定义 `multiply` 函数\n",
    "2. **绑定工具**：使用 `bind_tools()` 将工具绑定到语言模型\n",
    "3. **发送请求**：向模型发送需要计算的问题\n",
    "4. **自动调用**：模型识别需要计算，自动调用 `multiply` 工具\n",
    "5. **返回结果**：模型返回工具调用的结果\n",
    "\n",
    "## 输出解释：\n",
    "从输出可以看到：\n",
    "- `tool_calls`: 包含工具调用的详细信息\n",
    "- `function.name`: 调用的函数名 \"multiply\"\n",
    "- `function.arguments`: 传入的参数 `{\"first_int\": 5, \"second_int\": 42}`\n",
    "- `finish_reason`: \"tool_calls\" 表示模型决定调用工具\n",
    "\n",
    "## 实际应用场景：\n",
    "- 数学计算\n",
    "- 数据查询\n",
    "- API调用\n",
    "- 文件操作\n",
    "- 数据库查询\n"
   ]
  },
  {
   "cell_type": "code",
   "execution_count": 4,
   "id": "7e433d58",
   "metadata": {},
   "outputs": [
    {
     "name": "stdout",
     "output_type": "stream",
     "text": [
      "工具名称: multiply\n",
      "调用参数: {'first_int': 5, 'second_int': 42}\n",
      "计算结果: 210\n",
      "\n",
      "最终回答: 5 times forty two is 210.\n"
     ]
    }
   ],
   "source": [
    "# 执行工具调用并获取最终结果\n",
    "from langchain_core.messages import ToolMessage\n",
    "\n",
    "# 检查是否有工具调用\n",
    "if msg.tool_calls:\n",
    "    # 获取工具调用信息\n",
    "    tool_call = msg.tool_calls[0]\n",
    "    print(f\"工具名称: {tool_call['name']}\")\n",
    "    print(f\"调用参数: {tool_call['args']}\")\n",
    "    \n",
    "    # 执行工具调用\n",
    "    result = multiply.invoke(tool_call['args'])\n",
    "    print(f\"计算结果: {result}\")\n",
    "    \n",
    "    # 创建工具消息\n",
    "    tool_message = ToolMessage(\n",
    "        content=str(result),\n",
    "        tool_call_id=tool_call['id']\n",
    "    )\n",
    "    \n",
    "    # 将工具结果发送回模型，获取最终回答\n",
    "    final_response = llm_with_tools.invoke([\n",
    "        {\"role\": \"user\", \"content\": \"What's 5 times forty two\"},\n",
    "        msg,  # 模型的工具调用\n",
    "        tool_message  # 工具执行结果\n",
    "    ])\n",
    "    \n",
    "    print(f\"\\n最终回答: {final_response.content}\")\n",
    "else:\n",
    "    print(\"没有工具调用\")\n"
   ]
  },
  {
   "cell_type": "code",
   "execution_count": 5,
   "id": "93de53a2",
   "metadata": {},
   "outputs": [
    {
     "data": {
      "text/plain": [
       "AIMessage(content='', additional_kwargs={'tool_calls': [{'function': {'name': 'get_current_weather', 'arguments': '{\"location\": \"San Francisco\"}'}, 'index': 0, 'id': 'call_27ae3606c3c74c74a3c698', 'type': 'function'}]}, response_metadata={'model_name': 'qwen-turbo', 'finish_reason': 'tool_calls', 'request_id': '98a5d548-d2ab-414b-aea1-b5c23182b292', 'token_usage': {'input_tokens': 221, 'output_tokens': 21, 'total_tokens': 242, 'prompt_tokens_details': {'cached_tokens': 0}}}, id='run--4a58ead2-da1d-45df-94b5-1c66028f8bab-0', tool_calls=[{'name': 'get_current_weather', 'args': {'location': 'San Francisco'}, 'id': 'call_27ae3606c3c74c74a3c698', 'type': 'tool_call'}])"
      ]
     },
     "execution_count": 5,
     "metadata": {},
     "output_type": "execute_result"
    }
   ],
   "source": [
    "# 导入必要的模块\n",
    "from langchain_community.chat_models.tongyi import ChatTongyi  # 导入通义千问聊天模型\n",
    "from langchain_core.messages import HumanMessage, SystemMessage  # 导入消息类型\n",
    "\n",
    "# 定义工具列表 - 使用字典格式定义工具（OpenAI Function Calling 格式）\n",
    "tools = [\n",
    "    {\n",
    "        \"type\": \"function\",  # 工具类型：函数\n",
    "        \"function\": {\n",
    "            \"name\": \"get_current_time\",  # 函数名称\n",
    "            \"description\": \"当你想知道现在的时间时非常有用。\",  # 函数描述\n",
    "            \"parameters\": {},  # 函数参数（无参数）\n",
    "        },\n",
    "    },\n",
    "    {\n",
    "        \"type\": \"function\",  # 工具类型：函数\n",
    "        \"function\": {\n",
    "            \"name\": \"get_current_weather\",  # 函数名称\n",
    "            \"description\": \"当你想查询指定城市的天气时非常有用。\",  # 函数描述\n",
    "            \"parameters\": {  # 函数参数定义\n",
    "                \"type\": \"object\",  # 参数类型：对象\n",
    "                \"properties\": {  # 参数属性\n",
    "                    \"location\": {  # 位置参数\n",
    "                        \"type\": \"string\",  # 参数类型：字符串\n",
    "                        \"description\": \"城市或县区，比如北京市、杭州市、余杭区等。\",  # 参数描述\n",
    "                    }\n",
    "                },\n",
    "            },\n",
    "            \"required\": [\"location\"],  # 必需参数列表\n",
    "        },\n",
    "    },\n",
    "]\n",
    "\n",
    "# 构建对话消息列表\n",
    "messages = [\n",
    "    SystemMessage(content=\"You are a Tools helpful assistant.\"),  # 系统消息：定义AI角色\n",
    "    HumanMessage(content=\"What is the weather like in San Francisco?\"),  # 用户消息：询问天气\n",
    "]\n",
    "\n",
    "# 创建通义千问聊天模型实例\n",
    "chatLLM = ChatTongyi()\n",
    "\n",
    "# 定义模型调用参数\n",
    "llm_kwargs = {\n",
    "    \"tools\": tools,  # 绑定工具列表\n",
    "    \"result_format\": \"message\"  # 结果格式：消息格式\n",
    "}\n",
    "\n",
    "# 绑定工具并调用模型\n",
    "ai_message = chatLLM.bind(**llm_kwargs).invoke(messages)\n",
    "\n",
    "# 显示模型响应\n",
    "ai_message"
   ]
  },
  {
   "cell_type": "markdown",
   "id": "ea312792",
   "metadata": {},
   "source": [
    "# 工具定义的两种方式对比\n",
    "\n",
    "## 方式一：使用 @tool 装饰器（推荐）\n",
    "```python\n",
    "@tool\n",
    "def multiply(first_int: int, second_int: int) -> int:\n",
    "    \"\"\"将两个整数相乘的工具函数\"\"\"\n",
    "    return first_int * second_int\n",
    "\n",
    "llm_with_tools = llm.bind_tools([multiply])\n",
    "```\n",
    "\n",
    "## 方式二：使用字典格式（OpenAI Function Calling 格式）\n",
    "```python\n",
    "tools = [\n",
    "    {\n",
    "        \"type\": \"function\",\n",
    "        \"function\": {\n",
    "            \"name\": \"get_current_weather\",\n",
    "            \"description\": \"当你想查询指定城市的天气时非常有用。\",\n",
    "            \"parameters\": {\n",
    "                \"type\": \"object\",\n",
    "                \"properties\": {\n",
    "                    \"location\": {\n",
    "                        \"type\": \"string\",\n",
    "                        \"description\": \"城市或县区，比如北京市、杭州市、余杭区等。\",\n",
    "                    }\n",
    "                },\n",
    "                \"required\": [\"location\"],\n",
    "            },\n",
    "        },\n",
    "    }\n",
    "]\n",
    "\n",
    "llm_kwargs = {\"tools\": tools, \"result_format\": \"message\"}\n",
    "ai_message = chatLLM.bind(**llm_kwargs).invoke(messages)\n",
    "```\n",
    "\n",
    "## 两种方式的区别：\n",
    "\n",
    "### @tool 装饰器方式：\n",
    "- ✅ **简单易用**：直接定义Python函数\n",
    "- ✅ **类型安全**：自动类型检查\n",
    "- ✅ **自动生成**：自动生成工具描述和参数\n",
    "- ✅ **可执行**：函数可以直接调用\n",
    "\n",
    "### 字典格式方式：\n",
    "- ✅ **标准化**：符合OpenAI Function Calling规范\n",
    "- ✅ **灵活性**：可以定义虚拟工具（不需要实际函数）\n",
    "- ✅ **兼容性**：与更多模型兼容\n",
    "- ❌ **复杂**：需要手动编写JSON Schema\n",
    "- ❌ **不可执行**：只是工具描述，需要额外实现\n",
    "\n",
    "## 使用建议：\n",
    "- **实际功能**：使用 `@tool` 装饰器\n",
    "- **虚拟工具**：使用字典格式\n",
    "- **复杂参数**：使用字典格式更灵活\n"
   ]
  },
  {
   "cell_type": "code",
   "execution_count": null,
   "id": "17b35112",
   "metadata": {},
   "outputs": [
    {
     "data": {
      "text/plain": [
       "AIMessage(content='苏醒，万物复苏，花儿竞相开放，绿草如茵，空气中弥漫着淡淡的花香。鸟儿在枝头欢唱，仿佛在赞美这美好的季节。我漫步在田野间，心中充满喜悦，感受到春天的温暖与生机，仿佛整个世界都焕然一新，充满了希望与活力。', additional_kwargs={}, response_metadata={'model_name': 'qwen-turbo', 'finish_reason': 'stop', 'request_id': '73bbb2c1-ae97-4a73-a6e2-49e92cc9be08', 'token_usage': {'input_tokens': 37, 'output_tokens': 70, 'total_tokens': 107, 'prompt_tokens_details': {'cached_tokens': 0}}}, id='run--4b621655-1762-485c-8181-31de1bf47ab8-0')"
      ]
     },
     "execution_count": 7,
     "metadata": {},
     "output_type": "execute_result"
    }
   ],
   "source": [
    "from langchain_community.chat_models.tongyi import ChatTongyi\n",
    "from langchain_core.messages import AIMessage, HumanMessage\n",
    "\n",
    "messages = [\n",
    "    HumanMessage(\n",
    "        content=\"\"\"请续写句子\"春天来了，大地\"来表达春天的美丽和作者的喜悦之情。\"\"\"\n",
    "    ),\n",
    "    AIMessage(\n",
    "        content=\"春天来了，大地\", additional_kwargs={\"partial\": True}\n",
    "    ),\n",
    "]\n",
    "chatLLM = ChatTongyi()\n",
    "ai_message = chatLLM.invoke(messages)\n",
    "ai_message"
   ]
  },
  {
   "cell_type": "markdown",
   "id": "074edca5",
   "metadata": {},
   "source": []
  }
 ],
 "metadata": {
  "kernelspec": {
   "display_name": "py310",
   "language": "python",
   "name": "python3"
  },
  "language_info": {
   "codemirror_mode": {
    "name": "ipython",
    "version": 3
   },
   "file_extension": ".py",
   "mimetype": "text/x-python",
   "name": "python",
   "nbconvert_exporter": "python",
   "pygments_lexer": "ipython3",
   "version": "3.10.18"
  }
 },
 "nbformat": 4,
 "nbformat_minor": 5
}
