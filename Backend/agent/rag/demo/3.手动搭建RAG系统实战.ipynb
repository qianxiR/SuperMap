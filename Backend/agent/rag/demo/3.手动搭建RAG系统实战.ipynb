{
 "cells": [
  {
   "cell_type": "markdown",
   "id": "1de684bd-6355-4c9a-a696-01ff2acee8bd",
   "metadata": {
    "jp-MarkdownHeadingCollapsed": true
   },
   "source": [
    "## <font face=\"仿宋\">课程说明："
   ]
  },
  {
   "cell_type": "markdown",
   "id": "6475ed12-4745-4760-97be-6ccb88ece841",
   "metadata": {},
   "source": [
    "- 体验课内容节选自[《2025大模型Agent智能体开发实战》(7月班)](https://ix9mq.xetslk.com/s/3Zfsc8)完整版付费课程"
   ]
  },
  {
   "cell_type": "markdown",
   "id": "0afe8f5b-da51-4779-b6a1-dce73f3d5686",
   "metadata": {},
   "source": [
    "&emsp;&emsp;体验课时间有限，若想深度学习大模型技术，欢迎大家报名由我主讲的[《2025大模型Agent智能体开发实战》(7月班)](https://ix9mq.xetslk.com/s/3Zfsc8)"
   ]
  },
  {
   "cell_type": "markdown",
   "id": "49d3e477-f437-42b6-94ad-ee53695be982",
   "metadata": {},
   "source": [
    "<center><img src=\"https://ml2022.oss-cn-hangzhou.aliyuncs.com/img/06661cb459aa3e4b655aface404435d.png\" alt=\"06661cb459aa3e4b655aface404435d\" style=\"zoom:15%;\" />"
   ]
  },
  {
   "cell_type": "markdown",
   "id": "c978c716-d91e-4c6b-b847-94420b8aad39",
   "metadata": {},
   "source": [
    "**[《2025大模型Agent智能体开发实战》(7月班)](https://ix9mq.xetslk.com/s/3Zfsc8)为【100+小时】体系大课，总共20大模块精讲精析，零基础直达大模型企业级应用！**"
   ]
  },
  {
   "cell_type": "markdown",
   "id": "79029586-12f6-460b-b8e4-23c22459e0f2",
   "metadata": {},
   "source": [
    "<center><img src=\"https://ml2022.oss-cn-hangzhou.aliyuncs.com/img/202506172010074.png\" alt=\"a55d48e952ed59f8d93e050594843bc\" style=\"zoom:33%;\" />"
   ]
  },
  {
   "cell_type": "markdown",
   "id": "66543b05-8c45-436e-b84a-361e097a2b96",
   "metadata": {},
   "source": [
    "部分项目成果演示"
   ]
  },
  {
   "cell_type": "code",
   "execution_count": 1,
   "id": "4731cbaf-8d98-47a4-b1c9-fe176e665481",
   "metadata": {},
   "outputs": [],
   "source": [
    "from IPython.display import Video"
   ]
  },
  {
   "cell_type": "markdown",
   "id": "81e2a1a1-c1bd-4673-ae5f-31bbff282029",
   "metadata": {},
   "source": [
    "- **MateGen项目演示**"
   ]
  },
  {
   "cell_type": "code",
   "execution_count": 4,
   "id": "a96a808b-e2a9-443b-858c-b6a0d340b28d",
   "metadata": {},
   "outputs": [
    {
     "data": {
      "text/html": [
       "<video src=\"https://ml2022.oss-cn-hangzhou.aliyuncs.com/MG%E6%BC%94%E7%A4%BA%E8%A7%86%E9%A2%91.mp4\" controls  width=\"800\"  height=\"400\">\n",
       "      Your browser does not support the <code>video</code> element.\n",
       "    </video>"
      ],
      "text/plain": [
       "<IPython.core.display.Video object>"
      ]
     },
     "execution_count": 4,
     "metadata": {},
     "output_type": "execute_result"
    }
   ],
   "source": [
    "Video(\"https://ml2022.oss-cn-hangzhou.aliyuncs.com/MG%E6%BC%94%E7%A4%BA%E8%A7%86%E9%A2%91.mp4\", width=800, height=400)"
   ]
  },
  {
   "cell_type": "markdown",
   "id": "8792dab7-8291-4ccb-83e2-9ee588684c75",
   "metadata": {},
   "source": [
    "- **智能客服项目演示**"
   ]
  },
  {
   "cell_type": "code",
   "execution_count": 5,
   "id": "84b9c43b-822e-4f26-9a9c-7df8dc36a7b1",
   "metadata": {},
   "outputs": [
    {
     "data": {
      "text/html": [
       "<video src=\"https://ml2022.oss-cn-hangzhou.aliyuncs.com/%E6%99%BA%E8%83%BD%E5%AE%A2%E6%9C%8D%E6%A1%88%E4%BE%8B%E8%A7%86%E9%A2%91.mp4\" controls  width=\"800\"  height=\"400\">\n",
       "      Your browser does not support the <code>video</code> element.\n",
       "    </video>"
      ],
      "text/plain": [
       "<IPython.core.display.Video object>"
      ]
     },
     "execution_count": 5,
     "metadata": {},
     "output_type": "execute_result"
    }
   ],
   "source": [
    "Video(\"https://ml2022.oss-cn-hangzhou.aliyuncs.com/%E6%99%BA%E8%83%BD%E5%AE%A2%E6%9C%8D%E6%A1%88%E4%BE%8B%E8%A7%86%E9%A2%91.mp4\", width=800, height=400)"
   ]
  },
  {
   "cell_type": "markdown",
   "id": "bc8c9139-01ae-4cd8-828f-aae1430a1430",
   "metadata": {},
   "source": [
    "- **Dify项目演示**"
   ]
  },
  {
   "cell_type": "code",
   "execution_count": 6,
   "id": "da01fa46-b9f2-4b67-b3fe-9ee36638a445",
   "metadata": {},
   "outputs": [
    {
     "data": {
      "text/html": [
       "<video src=\"https://ml2022.oss-cn-hangzhou.aliyuncs.com/2f1b47f42c65fd59e8d3a83e6cb9f13b_raw.mp4\" controls  width=\"800\"  height=\"400\">\n",
       "      Your browser does not support the <code>video</code> element.\n",
       "    </video>"
      ],
      "text/plain": [
       "<IPython.core.display.Video object>"
      ]
     },
     "execution_count": 6,
     "metadata": {},
     "output_type": "execute_result"
    }
   ],
   "source": [
    "Video(\"https://ml2022.oss-cn-hangzhou.aliyuncs.com/2f1b47f42c65fd59e8d3a83e6cb9f13b_raw.mp4\", width=800, height=400)"
   ]
  },
  {
   "cell_type": "markdown",
   "id": "d8dcd99b-94f6-409c-b040-76dc7f006af3",
   "metadata": {},
   "source": [
    "- **LangChain&LangGraph搭建Multi-Agnet**"
   ]
  },
  {
   "cell_type": "code",
   "execution_count": 7,
   "id": "a32794a2-374d-4c63-97ee-fa46aedc0fd1",
   "metadata": {},
   "outputs": [
    {
     "data": {
      "text/html": [
       "<video src=\"https://ml2022.oss-cn-hangzhou.aliyuncs.com/%E5%8F%AF%E8%A7%86%E5%8C%96%E6%95%B0%E6%8D%AE%E5%88%86%E6%9E%90Multi-Agent%E6%95%88%E6%9E%9C%E6%BC%94%E7%A4%BA%E6%95%88%E6%9E%9C.mp4\" controls  width=\"800\"  height=\"400\">\n",
       "      Your browser does not support the <code>video</code> element.\n",
       "    </video>"
      ],
      "text/plain": [
       "<IPython.core.display.Video object>"
      ]
     },
     "execution_count": 7,
     "metadata": {},
     "output_type": "execute_result"
    }
   ],
   "source": [
    "Video(\"https://ml2022.oss-cn-hangzhou.aliyuncs.com/%E5%8F%AF%E8%A7%86%E5%8C%96%E6%95%B0%E6%8D%AE%E5%88%86%E6%9E%90Multi-Agent%E6%95%88%E6%9E%9C%E6%BC%94%E7%A4%BA%E6%95%88%E6%9E%9C.mp4\", width=800, height=400)"
   ]
  },
  {
   "cell_type": "markdown",
   "id": "754767e5-4644-4584-8646-eef500432d63",
   "metadata": {},
   "source": [
    "此外，若是对大模型底层原理感兴趣，也欢迎报名由我和菜菜老师共同主讲的[《2025大模型原理与实战课程》(夏季班)](https://ix9mq.xetslk.com/s/3VITgV)"
   ]
  },
  {
   "cell_type": "markdown",
   "id": "0df62946-76b5-4f1e-871f-b77943736c3d",
   "metadata": {},
   "source": [
    "<center><img src=\"https://ml2022.oss-cn-hangzhou.aliyuncs.com/img/202506171650709.png\" alt=\"4a11b7807056e9f5b281278c0e37dad\" style=\"zoom:20%;\" />"
   ]
  },
  {
   "cell_type": "markdown",
   "id": "5adbcaed-5470-49f3-b348-0023aca1ce48",
   "metadata": {},
   "source": [
    "**两门大模型课程夏季班目前上新特惠，直播间下单可享618平价钜惠，合购还有更多优惠哦~<span style=\"color:red;\">详细信息扫码添加助教，回复“大模型”，即可领取课程大纲&查看课程详情👇</span>**"
   ]
  },
  {
   "cell_type": "markdown",
   "id": "4bfdaa04-7aca-4900-8b65-18f1bc540999",
   "metadata": {},
   "source": [
    "<center><img src=\"https://ml2022.oss-cn-hangzhou.aliyuncs.com/img/d490904dc5d491768ed1ea938fdf5ef.png\" alt=\"d490904dc5d491768ed1ea938fdf5ef\" style=\"zoom:50%;\" />"
   ]
  },
  {
   "cell_type": "markdown",
   "id": "ed51af42-d2a9-4a57-b49d-f6cf04edaef0",
   "metadata": {},
   "source": [
    "<center><img src=\"https://ml2022.oss-cn-hangzhou.aliyuncs.com/img/634ffcbc916b5e6a2b68a084a561e19.png\" alt=\"634ffcbc916b5e6a2b68a084a561e19\" style=\"zoom: 50%;\" />"
   ]
  },
  {
   "cell_type": "markdown",
   "id": "2ad58251-d0b4-4baa-b006-49c90e53f518",
   "metadata": {},
   "source": [
    "---"
   ]
  },
  {
   "cell_type": "markdown",
   "id": "1cd2a1b7-0210-47c6-9f4b-fa7393c0bb26",
   "metadata": {},
   "source": [
    "# <center> RAG技术实战公开课\n",
    "# <center> Part 3.LangChain RAG系统开发实战"
   ]
  },
  {
   "cell_type": "markdown",
   "id": "58c66658-a0c9-4e42-9719-2fbe377531e2",
   "metadata": {},
   "source": [
    "## 一、LangChain RAG Demo项目回顾"
   ]
  },
  {
   "cell_type": "code",
   "execution_count": 5,
   "id": "b6cf0cb1-d6f8-425a-8a42-58a1a5ef96ae",
   "metadata": {},
   "outputs": [
    {
     "data": {
      "text/plain": [
       "True"
      ]
     },
     "execution_count": 5,
     "metadata": {},
     "output_type": "execute_result"
    }
   ],
   "source": [
    "import os\n",
    "from dotenv import load_dotenv \n",
    "load_dotenv(override=True)"
   ]
  },
  {
   "cell_type": "code",
   "execution_count": 6,
   "id": "f68f5b01-7d5a-4239-a924-a073612b45df",
   "metadata": {},
   "outputs": [],
   "source": [
    "# ! pip install streamlit PyPDF2 dashscope faiss-cpu"
   ]
  },
  {
   "cell_type": "markdown",
   "id": "4bae85d7-93ff-4bcc-afb5-bd8c44489ce4",
   "metadata": {},
   "source": [
    "```python\n",
    "    import streamlit as st\n",
    "    from PyPDF2 import PdfReader\n",
    "    from langchain.text_splitter import RecursiveCharacterTextSplitter\n",
    "    from langchain_core.prompts import ChatPromptTemplate\n",
    "    from langchain_community.vectorstores import FAISS\n",
    "    from langchain.tools.retriever import create_retriever_tool\n",
    "    from langchain.agents import AgentExecutor, create_tool_calling_agent\n",
    "    from langchain_community.embeddings import DashScopeEmbeddings\n",
    "    from langchain.chat_models import init_chat_model\n",
    "    import os\n",
    "    from dotenv import load_dotenv \n",
    "    load_dotenv(override=True)\n",
    "\n",
    "\n",
    "    DeepSeek_API_KEY = os.getenv(\"DEEPSEEK_API_KEY\")\n",
    "    dashscope_api_key = os.getenv(\"dashscope_api_key\")\n",
    "\n",
    "    os.environ[\"KMP_DUPLICATE_LIB_OK\"]=\"TRUE\"\n",
    "\n",
    "\n",
    "    embeddings = DashScopeEmbeddings(\n",
    "        model=\"text-embedding-v1\", dashscope_api_key=dashscope_api_key\n",
    "    )\n",
    "\n",
    "    def pdf_read(pdf_doc):\n",
    "        text = \"\"\n",
    "        for pdf in pdf_doc:\n",
    "            pdf_reader = PdfReader(pdf)\n",
    "            for page in pdf_reader.pages:\n",
    "                text += page.extract_text()\n",
    "        return text\n",
    "\n",
    "\n",
    "    def get_chunks(text):\n",
    "        text_splitter = RecursiveCharacterTextSplitter(chunk_size=1000, chunk_overlap=200)\n",
    "        chunks = text_splitter.split_text(text)\n",
    "        return chunks\n",
    "\n",
    "    def vector_store(text_chunks):\n",
    "        vector_store = FAISS.from_texts(text_chunks, embedding=embeddings)\n",
    "        vector_store.save_local(\"faiss_db\")\n",
    "\n",
    "    def get_conversational_chain(tools, ques):\n",
    "        llm = init_chat_model(\"deepseek-chat\", model_provider=\"deepseek\")\n",
    "        prompt = ChatPromptTemplate.from_messages([\n",
    "            (\n",
    "                \"system\",\n",
    "                \"\"\"你是AI助手，请根据提供的上下文回答问题，确保提供所有细节，如果答案不在上下文中，请说\"答案不在上下文中\"，不要提供错误的答案\"\"\",\n",
    "            ),\n",
    "            (\"placeholder\", \"{chat_history}\"),\n",
    "            (\"human\", \"{input}\"),\n",
    "            (\"placeholder\", \"{agent_scratchpad}\"),\n",
    "        ])\n",
    "        \n",
    "        tool = [tools]\n",
    "        agent = create_tool_calling_agent(llm, tool, prompt)\n",
    "        agent_executor = AgentExecutor(agent=agent, tools=tool, verbose=True)\n",
    "        \n",
    "        response = agent_executor.invoke({\"input\": ques})\n",
    "        print(response)\n",
    "        st.write(\"🤖 回答: \", response['output'])\n",
    "\n",
    "    def check_database_exists():\n",
    "        \"\"\"检查FAISS数据库是否存在\"\"\"\n",
    "        return os.path.exists(\"faiss_db\") and os.path.exists(\"faiss_db/index.faiss\")\n",
    "\n",
    "    def user_input(user_question):\n",
    "        # 检查数据库是否存在\n",
    "        if not check_database_exists():\n",
    "            st.error(\"❌ 请先上传PDF文件并点击'Submit & Process'按钮来处理文档！\")\n",
    "            st.info(\"💡 步骤：1️⃣ 上传PDF → 2️⃣ 点击处理 → 3️⃣ 开始提问\")\n",
    "            return\n",
    "        \n",
    "        try:\n",
    "            # 加载FAISS数据库\n",
    "            new_db = FAISS.load_local(\"faiss_db\", embeddings, allow_dangerous_deserialization=True)\n",
    "            \n",
    "            retriever = new_db.as_retriever()\n",
    "            retrieval_chain = create_retriever_tool(retriever, \"pdf_extractor\", \"This tool is to give answer to queries from the pdf\")\n",
    "            get_conversational_chain(retrieval_chain, user_question)\n",
    "            \n",
    "        except Exception as e:\n",
    "            st.error(f\"❌ 加载数据库时出错: {str(e)}\")\n",
    "            st.info(\"请重新处理PDF文件\")\n",
    "\n",
    "    def main():\n",
    "        st.set_page_config(\"🤖 LangChain B站公开课 By九天Hector\")\n",
    "        st.header(\"🤖 LangChain B站公开课 By九天Hector\")\n",
    "        \n",
    "        # 显示数据库状态\n",
    "        col1, col2 = st.columns([3, 1])\n",
    "        \n",
    "        with col1:\n",
    "            if check_database_exists():\n",
    "            pass\n",
    "            else:\n",
    "                st.warning(\"⚠️ 请先上传并处理PDF文件\")\n",
    "        \n",
    "        with col2:\n",
    "            if st.button(\"🗑️ 清除数据库\"):\n",
    "                try:\n",
    "                    import shutil\n",
    "                    if os.path.exists(\"faiss_db\"):\n",
    "                        shutil.rmtree(\"faiss_db\")\n",
    "                    st.success(\"数据库已清除\")\n",
    "                    st.rerun()\n",
    "                except Exception as e:\n",
    "                    st.error(f\"清除失败: {e}\")\n",
    "\n",
    "        # 用户问题输入\n",
    "        user_question = st.text_input(\"💬 请输入问题\", \n",
    "                                    placeholder=\"例如：这个文档的主要内容是什么？\",\n",
    "                                    disabled=not check_database_exists())\n",
    "\n",
    "        if user_question:\n",
    "            if check_database_exists():\n",
    "                with st.spinner(\"🤔 AI正在分析文档...\"):\n",
    "                    user_input(user_question)\n",
    "            else:\n",
    "                st.error(\"❌ 请先上传并处理PDF文件！\")\n",
    "\n",
    "        # 侧边栏\n",
    "        with st.sidebar:\n",
    "            st.title(\"📁 文档管理\")\n",
    "            \n",
    "            # 显示当前状态\n",
    "            if check_database_exists():\n",
    "                st.success(\"✅ 数据库状态：已就绪\")\n",
    "            else:\n",
    "                st.info(\"📝 状态：等待上传PDF\")\n",
    "            \n",
    "            st.markdown(\"---\")\n",
    "            \n",
    "            # 文件上传\n",
    "            pdf_doc = st.file_uploader(\n",
    "                \"📎 上传PDF文件\", \n",
    "                accept_multiple_files=True,\n",
    "                type=['pdf'],\n",
    "                help=\"支持上传多个PDF文件\"\n",
    "            )\n",
    "            \n",
    "            if pdf_doc:\n",
    "                st.info(f\"📄 已选择 {len(pdf_doc)} 个文件\")\n",
    "                for i, pdf in enumerate(pdf_doc, 1):\n",
    "                    st.write(f\"{i}. {pdf.name}\")\n",
    "            \n",
    "            # 处理按钮\n",
    "            process_button = st.button(\n",
    "                \"🚀 提交并处理\", \n",
    "                disabled=not pdf_doc,\n",
    "                use_container_width=True\n",
    "            )\n",
    "            \n",
    "            if process_button:\n",
    "                if pdf_doc:\n",
    "                    with st.spinner(\"📊 正在处理PDF文件...\"):\n",
    "                        try:\n",
    "                            # 读取PDF内容\n",
    "                            raw_text = pdf_read(pdf_doc)\n",
    "                            \n",
    "                            if not raw_text.strip():\n",
    "                                st.error(\"❌ 无法从PDF中提取文本，请检查文件是否有效\")\n",
    "                                return\n",
    "                            \n",
    "                            # 分割文本\n",
    "                            text_chunks = get_chunks(raw_text)\n",
    "                            st.info(f\"📝 文本已分割为 {len(text_chunks)} 个片段\")\n",
    "                            \n",
    "                            # 创建向量数据库\n",
    "                            vector_store(text_chunks)\n",
    "                            \n",
    "                            st.success(\"✅ PDF处理完成！现在可以开始提问了\")\n",
    "                            st.balloons()\n",
    "                            st.rerun()\n",
    "                            \n",
    "                        except Exception as e:\n",
    "                            st.error(f\"❌ 处理PDF时出错: {str(e)}\")\n",
    "                else:\n",
    "                    st.warning(\"⚠️ 请先选择PDF文件\")\n",
    "            \n",
    "            # 使用说明\n",
    "            with st.expander(\"💡 使用说明\"):\n",
    "                st.markdown(\"\"\"\n",
    "                **步骤：**\n",
    "                1. 📎 上传一个或多个PDF文件\n",
    "                2. 🚀 点击\"Submit & Process\"处理文档\n",
    "                3. 💬 在主页面输入您的问题\n",
    "                4. 🤖 AI将基于PDF内容回答问题\n",
    "                \n",
    "                **提示：**\n",
    "                - 支持多个PDF文件同时上传\n",
    "                - 处理大文件可能需要一些时间\n",
    "                - 可以随时清除数据库重新开始\n",
    "                \"\"\")\n",
    "\n",
    "    if __name__ == \"__main__\":\n",
    "        main()\n",
    "```"
   ]
  },
  {
   "cell_type": "markdown",
   "id": "63d6b4dd-bafe-40d3-9204-4910bef57c85",
   "metadata": {},
   "source": [
    "基于此，我们能够实现：\n",
    "\n",
    "* **LangChain 的多模块能力**（向量搜索 + Agent工具）\n",
    "* **Streamlit 前端交互**\n",
    "* **FAISS 向量数据库**\n",
    "* **DashScope Embedding + DeepSeek 模型接入**\n",
    "* 并完成了完整的 RAG（检索增强生成）流程\n",
    "\n",
    "以下是各部分功能实现代码讲解：\n",
    "\n",
    "#### 🔧 1. 导入库 & 环境初始化\n",
    "\n",
    "```python\n",
    "import streamlit as st\n",
    "from PyPDF2 import PdfReader\n",
    "from langchain.text_splitter import RecursiveCharacterTextSplitter\n",
    "...\n",
    "load_dotenv(override=True)\n",
    "```\n",
    "\n",
    "* `Streamlit` 用于构建网页界面。\n",
    "* `PyPDF2` 用来读取 PDF 文本。\n",
    "* `load_dotenv()` 加载 `.env` 中的 API Key，例如：\n",
    "\n",
    "  ```dotenv\n",
    "  DEEPSEEK_API_KEY=sk-xxx\n",
    "  DASHSCOPE_API_KEY=xxx\n",
    "  ```\n",
    "\n",
    "---\n",
    "\n",
    "#### 🔐 2. 加载 API 密钥与设置环境变量\n",
    "\n",
    "```python\n",
    "DeepSeek_API_KEY = os.getenv(\"DEEPSEEK_API_KEY\")\n",
    "dashscope_api_key = os.getenv(\"dashscope_api_key\")\n",
    "os.environ[\"KMP_DUPLICATE_LIB_OK\"]=\"TRUE\"\n",
    "```\n",
    "\n",
    "* 从环境变量中读取 DashScope 和 DeepSeek API。\n",
    "* 设置 `KMP_DUPLICATE_LIB_OK` 避免某些 MKL 多线程报错。\n",
    "\n",
    "---\n",
    "\n",
    "#### 🧠 3. 初始化向量 Embedding 模型\n",
    "\n",
    "```python\n",
    "embeddings = DashScopeEmbeddings(\n",
    "    model=\"text-embedding-v1\", dashscope_api_key=dashscope_api_key\n",
    ")\n",
    "```\n",
    "\n",
    "* 用阿里云 DashScope 提供的 `text-embedding-v1` 将文本转为向量表示，用于相似度搜索。\n",
    "\n",
    "---\n",
    "\n",
    "#### 📄 4. 处理 PDF 文本与向量化逻辑\n",
    "\n",
    "```python\n",
    "def pdf_read(pdf_doc):\n",
    "    ...\n",
    "def get_chunks(text):\n",
    "    ...\n",
    "def vector_store(text_chunks):\n",
    "    ...\n",
    "```\n",
    "\n",
    "* `pdf_read`：逐页读取 PDF 内容并拼接。\n",
    "* `get_chunks`：将长文本切片为多个段落（chunk），每段 1000 字，重叠 200 字。\n",
    "* `vector_store`：用 FAISS 建立向量索引，并保存到本地 `faiss_db/`。\n",
    "\n",
    "---\n",
    "\n",
    "#### 🔁 5. Agent对话链 + 工具调用（核心 RAG）\n",
    "\n",
    "```python\n",
    "def get_conversational_chain(tools, ques):\n",
    "    llm = init_chat_model(\"deepseek-chat\", model_provider=\"deepseek\")\n",
    "    ...\n",
    "    agent_executor = AgentExecutor(...)\n",
    "    response = agent_executor.invoke({\"input\": ques})\n",
    "    ...\n",
    "```\n",
    "\n",
    "* 初始化 DeepSeek 模型为 Agent。\n",
    "* 使用 LangChain 的 `create_tool_calling_agent` 构造 Agent，输入：\n",
    "\n",
    "  * prompt（你设定的系统角色）\n",
    "  * 工具（retriever 工具）\n",
    "* `AgentExecutor.invoke`：LangChain 自动判断是否调用工具，完成“读取上下文 → 查询 → 回答”流程。\n",
    "\n",
    "---\n",
    "\n",
    "#### 🔍 6. 用户提问逻辑（调用 FAISS）\n",
    "\n",
    "```python\n",
    "def user_input(user_question):\n",
    "    ...\n",
    "    new_db = FAISS.load_local(\"faiss_db\", embeddings, ...)\n",
    "    retriever = new_db.as_retriever()\n",
    "    retrieval_chain = create_retriever_tool(retriever, \"pdf_extractor\", ...)\n",
    "    get_conversational_chain(retrieval_chain, user_question)\n",
    "```\n",
    "\n",
    "* 加载本地 FAISS 向量库；\n",
    "* 将其转为 LangChain 的检索工具；\n",
    "* 交由 Agent 调用完成回答。\n",
    "\n",
    "---\n",
    "\n",
    "#### 🧠 7. 检查数据库是否存在\n",
    "\n",
    "```python\n",
    "def check_database_exists():\n",
    "    return os.path.exists(\"faiss_db\") and os.path.exists(\"faiss_db/index.faiss\")\n",
    "```\n",
    "\n",
    "简单检查本地是否已有向量化数据。\n",
    "\n",
    "---\n",
    "\n",
    "#### 🌐 8. 主界面逻辑（Streamlit）\n",
    "\n",
    "```python\n",
    "def main():\n",
    "    st.set_page_config(...)\n",
    "    ...\n",
    "```\n",
    "\n",
    "* 页面标题与界面配置。\n",
    "* `st.columns` 分栏：左边显示提示，右边放置“清空数据库”按钮。\n",
    "* 主输入框：`st.text_input(\"请输入问题\")`\n",
    "\n",
    "  * 只有当数据库存在时才能提问。\n",
    "* 侧边栏：\n",
    "\n",
    "  * PDF 上传器；\n",
    "  * 提交按钮（处理上传的 PDF → 分片 → 向量化 → 存储）。\n",
    "\n",
    "---\n",
    "\n",
    "#### 🎯 9. 提交 PDF 后执行的逻辑\n",
    "\n",
    "```python\n",
    "if process_button:\n",
    "    raw_text = pdf_read(pdf_doc)\n",
    "    ...\n",
    "    text_chunks = get_chunks(raw_text)\n",
    "    vector_store(text_chunks)\n",
    "```\n",
    "\n",
    "* 当点击“提交并处理”后：\n",
    "\n",
    "  1. 读取上传的 PDF；\n",
    "  2. 切片文本；\n",
    "  3. 向量化入库；\n",
    "  4. 弹出气球提示，并 `st.rerun()` 刷新页面状态。\n",
    "\n",
    "---\n",
    "\n",
    "#### 📎 项目结构总结\n",
    "\n",
    "| 模块                | 说明                             |\n",
    "| ----------------- | ------------------------------ |\n",
    "| 🧾 PDF解析          | 读取用户上传的 PDF                    |\n",
    "| ✂️ 文本切片           | 按段落分割内容                        |\n",
    "| 📊 向量化            | DashScope Embedding + FAISS 建库 |\n",
    "| 🔁 查询接口           | 用户输入 → 召回相关 chunk              |\n",
    "| 🤖 DeepSeek Agent | 调用检索工具并给出回答                    |\n",
    "| 💻 UI层            | Streamlit 实现全部交互               |"
   ]
  },
  {
   "cell_type": "markdown",
   "id": "aae2cffd-f562-4306-a1c6-39ae7646ec02",
   "metadata": {},
   "source": [
    "&emsp;&emsp;完整的代码已经上传至百度网盘中的`langchain_rag.py`文件中，大家可以扫描下方二维码免费领取"
   ]
  },
  {
   "cell_type": "markdown",
   "id": "aa8ed84c-f837-47cc-b21a-310019550681",
   "metadata": {},
   "source": [
    "<center><img src=\"https://ml2022.oss-cn-hangzhou.aliyuncs.com/img/image-20250708195855889.png\" alt=\"image-20250708195855889\" style=\"zoom:50%;\" />"
   ]
  },
  {
   "cell_type": "markdown",
   "id": "01d553c2-98cd-476e-9e37-3a4453f1a214",
   "metadata": {},
   "source": [
    "<center><img src=\"https://ml2022.oss-cn-hangzhou.aliyuncs.com/img/634ffcbc916b5e6a2b68a084a561e19.png\" alt=\"634ffcbc916b5e6a2b68a084a561e19\" style=\"zoom: 50%;\" />"
   ]
  },
  {
   "cell_type": "markdown",
   "id": "ea9a879e-46af-4faa-9d27-f1b30ba4fd32",
   "metadata": {},
   "source": [
    "实际运行时输入`streamlit run langchian_rag.py`即可，实际运行效果如下所示："
   ]
  },
  {
   "cell_type": "code",
   "execution_count": 1,
   "id": "662a5585-4289-4bec-b942-c0eb50810cc1",
   "metadata": {},
   "outputs": [],
   "source": [
    "from IPython.display import Video"
   ]
  },
  {
   "cell_type": "code",
   "execution_count": 2,
   "id": "ba59f3e9-c82c-4d2d-9c17-0e47af40b66c",
   "metadata": {},
   "outputs": [
    {
     "data": {
      "text/html": [
       "<video src=\"https://ml2022.oss-cn-hangzhou.aliyuncs.com/2025-07-11%2017-39-07.mp4\" controls  width=\"800\"  height=\"400\">\n",
       "      Your browser does not support the <code>video</code> element.\n",
       "    </video>"
      ],
      "text/plain": [
       "<IPython.core.display.Video object>"
      ]
     },
     "execution_count": 2,
     "metadata": {},
     "output_type": "execute_result"
    }
   ],
   "source": [
    "Video(\"https://ml2022.oss-cn-hangzhou.aliyuncs.com/2025-07-11%2017-39-07.mp4\", width=800, height=400)"
   ]
  },
  {
   "cell_type": "markdown",
   "id": "5cb8eb20-67cf-447f-90bd-54800ac125e8",
   "metadata": {},
   "source": [
    "## 二、搭建基于LangChain实现复杂RAG聊天机器人"
   ]
  },
  {
   "cell_type": "markdown",
   "id": "a7692840-1380-4850-aa9f-3600769df6dc",
   "metadata": {},
   "source": [
    "&emsp;&emsp;接下来，我们进一步探讨 `LangChain` 和 `DeepSeek v3`模型如何构建一个复杂的 `RAG` 聊天机器人，能够处理复杂的查询，并且可以通过聊天历史记录维护上下文，并使用 `LangChain` 的 `LCEL`语法遵守严格的`Guardrails`（护栏）。"
   ]
  },
  {
   "cell_type": "markdown",
   "id": "94e54c47-b8ac-4831-ae0f-a323a18793c3",
   "metadata": {},
   "source": [
    "- 文本准备"
   ]
  },
  {
   "cell_type": "markdown",
   "id": "c219aee4-a028-448c-97c7-0a006b7aac95",
   "metadata": {},
   "source": [
    "&emsp;&emsp;这里我们创建了一份模拟的公司员工手册，并以md文档格式进行存储："
   ]
  },
  {
   "cell_type": "markdown",
   "id": "27b5b9d1-e719-4d04-96ff-ac6989e04b98",
   "metadata": {},
   "source": [
    "<center><img src=\"https://ml2022.oss-cn-hangzhou.aliyuncs.com/img/image-20250711180830080.png\" alt=\"image-20250711180830080\" style=\"zoom:33%;\" />"
   ]
  },
  {
   "cell_type": "markdown",
   "id": "6fa3fe7f-b131-4dba-ae9f-631cb4f04b88",
   "metadata": {},
   "source": [
    "<center><img src=\"https://ml2022.oss-cn-hangzhou.aliyuncs.com/img/image-20250711181029635.png\" alt=\"image-20250711181029635\" style=\"zoom:50%;\" />"
   ]
  },
  {
   "cell_type": "markdown",
   "id": "cbf45282-aa84-4bf1-afc8-9f310dd7469f",
   "metadata": {},
   "source": [
    "<center><img src=\"https://ml2022.oss-cn-hangzhou.aliyuncs.com/img/634ffcbc916b5e6a2b68a084a561e19.png\" alt=\"634ffcbc916b5e6a2b68a084a561e19\" style=\"zoom: 50%;\" />"
   ]
  },
  {
   "cell_type": "markdown",
   "id": "74e2efc4-4403-4405-a7ad-b2f2158fc930",
   "metadata": {},
   "source": [
    "- 护栏功能"
   ]
  },
  {
   "cell_type": "markdown",
   "id": "e097c808-7ca1-4316-9a4d-d5a7eb2f5029",
   "metadata": {},
   "source": [
    "&emsp;&emsp;`Guardrails`(护栏)对于确保`AI`系统的安全性和可靠性是比较重要的。通过设定明确的界限，我们可以防止大模型生成有害或误导性的内容。拒绝机制使机器人能够礼貌地拒绝违反这些护栏的请求，例如与敏感主题或非法活动相关的请求。"
   ]
  },
  {
   "cell_type": "markdown",
   "id": "346fe31c-b774-4277-a360-8ea9c4cb13e9",
   "metadata": {},
   "source": [
    "&emsp;&emsp;这里我们创建一个智能HR聊天机器人助手，该机器人将能够利用私有知识库回答有关公司政策、程序和福利的问题。其业务流程图如下所示："
   ]
  },
  {
   "cell_type": "markdown",
   "id": "651a8bd3-9eae-48ca-aa5f-aa7cfe85647d",
   "metadata": {},
   "source": [
    "<div align=center><img src=\"https://muyu001.oss-cn-beijing.aliyuncs.com/img/image-20250113222612358.png\" width=80%></div>"
   ]
  },
  {
   "cell_type": "markdown",
   "id": "47dc5a65-64c8-4b2f-b2db-8ba000627415",
   "metadata": {},
   "source": [
    "### 1. LangChain 接入对话模型"
   ]
  },
  {
   "cell_type": "markdown",
   "id": "2181c4c2-2f4f-426a-8c66-ac892d42e240",
   "metadata": {},
   "source": [
    "&emsp;&emsp;接下来我们要考虑的是，对于这样一个`DeepSeek`官方的`API`，如何接入到`LangChain`中呢？其实非常简单，我们只需要使用`LangChain`中的一个`DeepSeek`组件即可向像述代码一样，直接使用相同的`DeepSeek API KEY`与大模型进行交互。因此，我们首先需要安装`LangChain`的`DeepSeek`组件，安装命令如下："
   ]
  },
  {
   "cell_type": "code",
   "execution_count": 3,
   "id": "59275acd-cabe-4e70-87e9-9f8dbae95dd1",
   "metadata": {},
   "outputs": [],
   "source": [
    "# ! pip install langchain-deepseek"
   ]
  },
  {
   "cell_type": "markdown",
   "id": "16016215-57a8-4bee-b550-4e952c18861b",
   "metadata": {},
   "source": [
    "&emsp;&emsp;安装好`LangChain`集成`DeepSeek`模型的依赖包后，需要通过一个`init_chat_model`函数来初始化大模型，代码如下："
   ]
  },
  {
   "cell_type": "code",
   "execution_count": 10,
   "id": "823676ec-e44c-4c5b-b049-25488d4738e2",
   "metadata": {},
   "outputs": [],
   "source": [
    "from langchain.chat_models import init_chat_model\n",
    "\n",
    "model = init_chat_model(model=\"deepseek-chat\", model_provider=\"deepseek\")  "
   ]
  },
  {
   "cell_type": "markdown",
   "id": "7d57c7e7-bbf3-4beb-a126-29d273198ef8",
   "metadata": {},
   "source": [
    "&emsp;&emsp;其中`model`用来指定要使用的模型名称，而`model_provider`用来指定模型提供者，当写入`deepseek`时，会自动加载`langchain-deepseek`的依赖包，并使用在`model`中指定的模型名称用来进行交互。"
   ]
  },
  {
   "cell_type": "code",
   "execution_count": 11,
   "id": "455ed771-6237-4253-8e37-b7cc955d8970",
   "metadata": {},
   "outputs": [
    {
     "name": "stdout",
     "output_type": "stream",
     "text": [
      "你好！我是 **DeepSeek Chat**，由深度求索（DeepSeek）公司研发的智能AI助手。我的最新版本是 **DeepSeek-V3**，知识更新至 **2024年7月**，具备强大的自然语言理解和生成能力，可以帮助你解答问题、提供建议、分析数据、撰写文章等。  \n",
      "\n",
      "### **我的特点：**  \n",
      "🔹 **免费使用**：目前无需付费，你可以随时向我提问！  \n",
      "🔹 **超长上下文支持**：可以处理 **128K** 长度的文本，适合处理长文档和复杂对话。  \n",
      "🔹 **文件阅读**：支持上传 **PDF、Word、Excel、PPT、TXT** 等文件，并从中提取信息进行分析。  \n",
      "🔹 **多语言能力**：可以用中文、英文等多种语言交流，并辅助翻译和润色。  \n",
      "🔹 **逻辑与创造力兼备**：既能帮你写代码、解数学题，也能创作诗歌、故事或营销文案。  \n",
      "\n",
      "### **我能帮你做什么？**  \n",
      "📚 **学习 & 研究**：解答专业知识、总结论文、整理笔记。  \n",
      "💼 **工作 & 效率**：撰写邮件、优化简历、生成报告、分析数据。  \n",
      "✍ **创作 & 娱乐**：写小说、编笑话、头脑风暴创意点子。  \n",
      "💡 **编程 & 技术**：代码调试、算法讲解、自动化脚本编写。  \n",
      "\n",
      "如果你有任何问题，尽管问我吧！😊 你今天想了解什么呢？\n"
     ]
    }
   ],
   "source": [
    "question = \"你好，请你介绍一下你自己。\"\n",
    "\n",
    "result = model.invoke(question)\n",
    "print(result.content)"
   ]
  },
  {
   "cell_type": "markdown",
   "id": "223d8a7f-48a3-48b7-9507-278d782a98b4",
   "metadata": {},
   "source": [
    "### 2. 文档切分与构建词向量数据库"
   ]
  },
  {
   "cell_type": "markdown",
   "id": "a7eb0262-14bd-4326-94fd-631bd7d417f1",
   "metadata": {},
   "source": [
    "&emsp;&emsp;使用`OpenAI`的`Embeddings`模型将自然语言转化成词向量的表示。"
   ]
  },
  {
   "cell_type": "code",
   "execution_count": 12,
   "id": "742a7fb6-1e20-4984-9a84-2897e1a9b09b",
   "metadata": {},
   "outputs": [],
   "source": [
    "OPENAI_EMBEDDING_API_KEY = os.getenv(\"OPENAI_API_KEY\")\n",
    "OPENAI_EMBEDDING_BASE_URL = \"https://ai.devtool.tech/proxy/v1\""
   ]
  },
  {
   "cell_type": "code",
   "execution_count": 13,
   "id": "75916afb-e3d5-43f1-a544-cdf652ab39a0",
   "metadata": {},
   "outputs": [],
   "source": [
    "from langchain_openai import OpenAIEmbeddings\n",
    "\n",
    "embed = OpenAIEmbeddings(\n",
    "    api_key=OPENAI_EMBEDDING_API_KEY,\n",
    "    base_url=OPENAI_EMBEDDING_BASE_URL,\n",
    "    model=\"text-embedding-3-small\" \n",
    ")"
   ]
  },
  {
   "cell_type": "markdown",
   "id": "e8c46ca6-4e1d-4cbe-b2f5-17f0032ea3ee",
   "metadata": {},
   "source": [
    "&emsp;&emsp;接下来，为了进一步丰富大家对`LangChain`中向量数据库的了解，这里我们不重复使用`Chroma`，而是使用`FAISS`作为矢量数据库。 `FAISS` 是 `Facebook AI Research` 开发的一个库，用于高效相似性搜索和密集向量聚类。`LangChain`在第三方集成模块（`Langchain_community`）中已经接入了`FAISS`向量数据库，所以我们就可以直接使用。"
   ]
  },
  {
   "cell_type": "code",
   "execution_count": 15,
   "id": "b4167f55-9893-4cea-89fd-b7808cc14ff3",
   "metadata": {},
   "outputs": [],
   "source": [
    "# ! pip install langchain-text-splitters faiss-cpu --index-url https://pypi.tuna.tsinghua.edu.cn/simple"
   ]
  },
  {
   "cell_type": "code",
   "execution_count": 16,
   "id": "5cdd4bab-0023-41e1-94d9-a2283352b556",
   "metadata": {},
   "outputs": [],
   "source": [
    "file_path = \"模拟公司员工手册.md\"\n",
    "\n",
    "with open(file_path, \"r\", encoding=\"utf-8\") as f:\n",
    "    md_content = f.read()"
   ]
  },
  {
   "cell_type": "code",
   "execution_count": 17,
   "id": "a31bda56-136a-4f1a-9e8f-d67d2e2c4c37",
   "metadata": {
    "scrolled": true
   },
   "outputs": [
    {
     "data": {
      "text/plain": [
       "'# 创新科技股份有限公司员工手册\\n\\n## 前言\\n\\n尊敬的员工：\\n\\n欢迎您加入创新科技股份有限公司（以下简称“公司”）。作为一家致力于推动科技创新的企业，我们深信每一位员工都是公司成功的关键。本员工手册是公司为所有员工提供的全面指导文件，旨在帮助您了解公司的核心价值观、行为准则、工作规范以及各项政策。通过本手册，您将更好地融入公司文化，并与公司共同实现卓越目标。\\n\\n本手册详细阐述了公司的政策、程序和期望，包括员工权利、义务、福利待遇以及纪律措施。公司保留随时修改本手册内容的权利，任何变更将通过电子邮件、内部通知系统或更新手册版本的形式及时告知所有员工。作为员工，您有责任定期审阅本手册，并确保您的行为符合其规定。如果您对任何内容有疑问，请随时联系人力资源部门，我们将提供必要的解释和支持。\\n\\n请注意，本手册并非正式的雇佣合同，而是作为指导性文件存在。它旨在促进公司与员工之间的互信与合作。公司相信，通过严格遵守这些准则，我们将共同营造一个高效、创新、和谐的工作环境，推动公司可持续发展。\\n\\n我们期待与您携手共进，共创辉煌。\\n\\n公司管理层  \\n2025年7月11日  \\n\\n## 第一章：公司概述\\n\\n### 1.1 公司使命与愿景\\n\\n创新科技股份有限公司成立于2010年，总部位于北京，是一家专注于人工智能、云计算、大数据和物联网解决方案的高科技企业。公司使命是“通过前沿技术创新，驱动全球数字化转型”，愿景是成为世界领先的科技服务提供商，为客户提供高效、可靠的解决方案，推动社会进步。\\n\\n公司的核心价值观包括：创新（鼓励大胆尝试新想法）、诚信（以诚实为基础开展所有业务）、协作（强调团队合作与跨部门沟通）、卓越（追求最高标准的工作质量）和责任（对员工、客户和社会承担义务）。这些价值观不仅仅是口号，而是渗透到公司日常运营的每一个环节。例如，在项目开发中，我们优先考虑可持续性和伦理因素，确保技术应用符合社会责任。\\n\\n截至2025年，公司员工规模已超过800人，在上海、深圳、广州设有分支机构，并在硅谷和新加坡设有海外办事处。公司服务范围涵盖金融、医疗、教育、制造业和智能城市等领域。我们与多家国际知名企业合作，如阿里巴巴、腾讯和IBM，共同开发前沿项目。公司还积极参与社会公益活动，例如每年捐赠部分利润用于教育科技普及项目。\\n\\n公司的发展历程包括几个关键里程碑：2012年推出首款云计算平台；2018年获得国家高新技术企业认证；2023年完成A轮融资，估值超过10亿美元。这些成就得益于员工的集体努力，我们鼓励每位员工以公司愿景为导向，贡献个人力量。\\n\\n### 1.2 组织结构\\n\\n公司采用矩阵式组织结构，以确保高效决策和资源分配。董事会由创始人和外部投资者组成，负责战略方向。首席执行官（CEO）领导高层管理团队，包括首席运营官（COO）、首席技术官（CTO）、首席财务官（CFO）和首席人力资源官（CHRO）。\\n\\n下设主要部门包括：\\n\\n- **人力资源部**：负责招聘、培训、绩效管理和员工关系。\\n\\n- **财务部**：管理预算、会计和财务报告。\\n\\n- **市场部**：处理品牌推广、市场调研和客户关系。\\n\\n- **研发部**：专注于技术创新和产品开发，分设AI实验室和云计算团队。\\n\\n- **运营部**：监督日常运作、供应链和项目管理。\\n\\n- **销售部**：负责客户开发和合同谈判。\\n\\n每个部门负责人直接向相应的高管汇报。公司鼓励扁平化管理，员工可通过内部门户网站查看详细组织图表、部门职责和联系信息。此外，公司设有跨职能团队，如创新委员会，定期讨论战略项目，促进部门间协作。\\n\\n为适应快速发展，公司每年审视组织结构，并在必要时进行调整。例如，2024年我们新增了可持续发展部门，专注于环保技术整合。\\n\\n### 1.3 雇佣原则\\n\\n公司坚持平等雇佣机会原则（EEO），禁止基于种族、民族、性别、年龄、宗教信仰、残疾、性取向、国籍或其他受保护特征的歧视。公司招聘过程透明公正，包括以下步骤：\\n\\n1. **职位发布**：通过公司网站、招聘平台和内部推荐发布职位。\\n\\n2. **简历筛选**：基于资格和经验筛选候选人。\\n\\n3. **面试**：多轮面试，包括技术评估、行为面试和团队互动。\\n\\n4. **背景调查**：验证教育、工作经历和参考人。\\n\\n5. **录用**：发放录用通知书，并要求签署雇佣合同和保密协议。\\n\\n新员工入职后，将参加为期两周的入职培训程序。该程序包括公司文化介绍、安全协议培训、岗位职责讲解和团队建设活动。公司提供导师制度，帮助新员工快速适应。\\n\\n公司重视多样性和包容性（D&I），通过针对性招聘和培训提升女性和少数群体比例。截至2025年，女性员工占比达40%。我们还提供无障碍设施，确保残疾员工平等参与。\\n\\n## 第二章：员工行为准则\\n\\n### 2.1 职业道德\\n\\n员工必须始终维护公司的声誉和利益，遵守所有适用的法律法规。公司禁止任何形式的腐败、贿赂、洗钱或利益冲突。员工若涉及外部业务活动，如兼职或投资，必须事先向人力资源部申报并获得书面批准。\\n\\n诚信是公司文化的核心。员工应诚实报告工作信息、财务数据和项目进展，避免任何虚假陈述或误导行为。例如，在报告项目延误时，必须提供真实原因和解决方案。违反道德的行为将被视为严重违纪，可能导致立即解雇。\\n\\n公司提供年度道德培训课程，涵盖案例分析和情景模拟，帮助员工识别潜在风险。我们还设有匿名举报热线，鼓励员工报告可疑行为，而不担心报复。\\n\\n### 2.2 保密义务\\n\\n员工有严格的保密义务，保护公司所有机密信息，包括商业计划、技术数据、客户资料和财务报告。公司要求所有员工签署保密协议（NDA），协议有效期覆盖雇佣期及离职后两年。\\n\\n未经授权披露、复制或使用机密信息将被视为违约。公司实施多层保护措施，如数据加密、访问控制和监控系统。员工使用公司设备时，必须遵守信息安全政策，避免在公共网络传输敏感数据。\\n\\n公司定期开展保密培训和审计。如果发生泄密事件，公司将调查并追究责任，包括法律行动。示例：员工不得在社交媒体讨论公司内部项目。\\n\\n### 2.3 知识产权\\n\\n公司拥有员工在雇佣期间创造的所有知识产权，包括发明、软件代码、设计图纸和研究成果。员工必须及时报告任何创新想法，并配合公司专利申请过程。\\n\\n公司鼓励知识产权贡献，提供奖励机制：如专利奖金（最高5万元）和股权激励。员工使用外部资源时，必须确保不侵犯第三方知识产权。公司设有知识产权委员会，负责审查和保护。\\n\\n离职员工须签署知识产权转让协议，确保公司权益不受影响。\\n\\n### 2.4 反歧视与反骚扰政策\\n\\n公司致力于营造一个尊重、多样化的工作环境，禁止任何形式的歧视和骚扰，包括基于性别、种族、年龄等的言语、身体或视觉骚扰。示例：不当笑话、肢体接触或歧视性评论均属禁止。\\n\\n员工若遭遇或目睹此类事件，应立即报告人力资源部或通过匿名渠道。公司将启动调查程序，包括采访证人、审查证据，并保密处理。调查结果将导致适当措施，如警告、培训、调岗或解雇。\\n\\n公司每年开展反骚扰培训，并设立D&I委员会监督政策执行。我们相信，零容忍政策有助于提升员工满意度和生产力。\\n\\n### 2.5 冲突解决\\n\\n工作场所冲突不可避免，公司鼓励通过建设性方式解决。首先，员工应尝试直接沟通，表达关切并寻求共识。若无效，可寻求主管调解。\\n\\n人力资源部提供正式调解程序，包括第三方调解员。公司还设有仲裁机制，对于严重冲突，可诉诸外部仲裁。所有过程记录在案，确保公平透明。\\n\\n示例：团队内部意见分歧可通过脑暴会议解决，避免升级。\\n\\n## 第三章：工作时间与出勤\\n\\n### 3.1 工作时间\\n\\n公司实行标准工作制，每周五天，每天8小时（上午9:00至下午6:00，包括1小时午休）。为适应不同岗位，公司提供灵活工作选项，如弹性上班时间（8:30-9:30间到岗）和远程办公（每周最多3天），需经主管批准。\\n\\n加班须事先申请，并按国家劳动法补偿：平日加班1.5倍工资，周末2倍，法定假日3倍。公司监控加班情况，避免员工过度劳累，年度加班上限为200小时。\\n\\n公司使用电子打卡系统记录时间，支持移动APP打卡。特殊岗位如研发，可采用成果导向制，强调输出而非时长。\\n\\n### 3.2 出勤要求\\n\\n员工必须准时出勤，迟到或早退定义为超过10分钟。连续三次迟到将口头警告，累计五次进入书面记录。旷工一天视为严重违纪。\\n\\n病假或事假须提前24小时通知，并提供医生证明或说明。年度出勤率低于95%将影响绩效奖金。公司提供弹性出勤政策，如育儿假调整时间。\\n\\n远程工作员工须每日报告进度，并参加视频会议。公司定期审计出勤数据，确保合规。\\n\\n### 3.3 假期与休假\\n\\n公司提供丰富的假期福利，遵守国家规定：\\n\\n- **法定假期**：包括元旦、春节、清明、劳动节、端午、中秋和国庆，共计11天。\\n\\n- **带薪年假**：服务1-10年者10天，10-20年15天，20年以上20天。未使用年假可顺延或补偿。\\n\\n- **病假**：带薪病假按服务年限计算，最长6个月。\\n\\n- **产假/陪产假**：女性158天，男性15天。\\n\\n- **其他**：丧假3天，婚假10天。\\n\\n休假申请通过在线系统提交，主管批准后生效。公司鼓励员工规划休假，维持工作生活平衡。示例：年假可分次使用，避免高峰期冲突。\\n\\n## 第四章：薪酬与福利\\n\\n### 4.1 薪酬结构\\n\\n公司薪酬体系竞争性强，基于市场调研、岗位价值和个人表现。结构包括：\\n\\n- **基本工资**：固定部分，占总薪酬70%。\\n\\n- **绩效奖金**：根据KPI发放，最高基本工资30%。\\n\\n- **津贴**：交通补贴（每月500元）、餐补（每日20元）和通讯费（每月100元）。\\n\\n- **股权激励**：适用于中高层，基于公司业绩。\\n\\n年度薪酬审查于12月进行，考虑通胀和贡献。员工可通过绩效对话协商调整。公司确保薪酬公平，避免性别或资历歧视。\\n\\n### 4.2 福利计划\\n\\n公司提供全面福利，提升员工生活质量：\\n\\n- **社会保险**：五险一金，全额缴纳。\\n\\n- **补充医疗**：覆盖门诊和住院，年度限额10万元。\\n\\n- **健康福利**：年度体检、健身卡补贴（每年2000元）和心理咨询服务。\\n\\n- **教育援助**：报销职业培训费用，上限5000元/年。\\n\\n- **家庭支持**：儿童教育补贴和弹性工作制。\\n\\n- **退休计划**：企业年金，匹配员工贡献5%。\\n\\n福利选项弹性化，员工可通过积分系统选择偏好。公司每年审视福利，基于反馈优化。\\n\\n### 4.3 报销政策\\n\\n业务费用报销需遵守严格程序：\\n\\n- **差旅费**：机票、住宿和交通，按标准限额（经济舱、三星酒店）。\\n\\n- **培训费**：课程和材料，需预批准。\\n\\n- **其他**：办公用品和娱乐，月上限1000元。\\n\\n员工提交电子收据，主管审核，人力资源部支付。个人费用禁止报销，违规扣款并警告。公司使用ERP系统跟踪报销，确保透明。\\n\\n## 第五章：绩效评估\\n\\n### 5.1 评估程序\\n\\n公司采用综合绩效评估系统，每半年一次，包括：\\n\\n1. **目标设定**：年初定义SMART目标。\\n\\n2. **中期审查**：反馈进展。\\n\\n3. **年度评估**：自我评估、主管评分和360度反馈。\\n\\n评估维度：目标达成（50%）、技能发展（20%）、团队贡献（20%）和价值观体现（10%）。结果分级：优秀、良好、合格、需改进。\\n\\n评估影响薪酬、奖金和晋升。公司提供工具如绩效软件，支持实时跟踪。\\n\\n### 5.2 培训与发展\\n\\n公司投资员工成长，年度培训预算每人8000元。程序包括：\\n\\n- **内部培训**：技能workshop和领导力课程。\\n\\n- **外部机会**：研讨会、在线平台如Coursera。\\n\\n- **职业路径**：导师指导、轮岗和晋升计划。\\n\\n绩效不佳者进入PIP（绩效改进计划），持续90天，包括目标和支持。若无改善，可能降职或解雇。公司鼓励终身学习，提供证书奖励。\\n\\n## 第六章：纪律与惩戒\\n\\n### 6.1 违纪定义\\n\\n违纪分类：\\n\\n- **轻微**：迟到、未穿工服。\\n\\n- **中等**：重复违纪、泄露非机密信息。\\n\\n- **严重**：盗窃、骚扰、欺诈。\\n\\n公司列出详尽清单，避免歧义。违纪影响记录，可能暂停奖金。\\n\\n### 6.2 惩戒程序\\n\\n过程：报告、调查（采访和证据）、听证、决定。员工有权辩护，所有步骤文档化。\\n\\n惩戒措施：警告、扣薪、停职、解雇。公司确保一致性，考虑情有可原因素。\\n\\n### 6.3 申诉机制\\n\\n员工对决定不服，可7日内书面申诉。高层复审，提供公正决议。申诉保密，保护员工权利。\\n\\n## 第七章：健康与安全\\n\\n### 7.1 安全政策\\n\\n公司遵守 OSHA 和国家安全标准，提供培训、PPE 和设施。办公室配备灭火器、急救箱和监控。\\n\\n员工报告隐患，公司每月审计。安全委员会监督执行。\\n\\n### 7.2 健康促进\\n\\n推广健康：健身活动、健康讲座和营养指导。疫情协议包括口罩和远程选项。\\n\\n年度健康检查免费，公司支持戒烟计划。\\n\\n### 7.3 紧急程序\\n\\n紧急时：警报、疏散到指定点。提供培训和演习，联系人名单在门户。\\n\\n公司保险覆盖工伤。\\n\\n## 第八章：信息安全与数据保护\\n\\n### 8.1 信息安全政策\\n\\n员工遵守GDPR和中国数据法，使用强密码和VPN。禁止未授权软件。\\n\\n公司监控网络，培训网络钓鱼。\\n\\n### 8.2 数据保护\\n\\n处理个人数据需同意，报告泄露。审计确保合规。\\n\\n### 8.3 违规后果\\n\\n违反导致惩戒，包括罚款。\\n\\n## 第九章：多样性、公平与包容\\n\\n### 9.1 政策声明\\n\\n公司推动D&I，确保机会平等。目标：多样化团队。\\n\\n### 9.2 倡议与培训\\n\\n招聘偏好多样，培训偏见意识。员工资源组支持少数群体。\\n\\n### 9.3 监测与报告\\n\\n年度报告D&I指标，调整政策。\\n\\n## 第十章：环境与可持续发展\\n\\n### 10.1 环境政策\\n\\n减少碳足迹：回收、节能设备。\\n\\n员工参与绿色活动。\\n\\n### 10.2 可持续发展目标\\n\\n整合SDGs，如可再生能源项目。\\n\\n### 10.3 合规与报告\\n\\n报告环境影响，鼓励建议。\\n\\n## 第十一章：离职程序\\n\\n### 11.1 自愿离职\\n\\n提前30天通知，处理移交和结算。\\n\\n### 11.2 非自愿离职\\n\\n补偿按法计算，提供职业指导。\\n\\n### 11.3 退出访谈\\n\\n收集反馈，改进实践。\\n\\n## 第十二章：附录\\n\\n### 12.1 联系信息\\n\\n人力资源：hr@innovationtech.com，010-12345678。\\n\\n其他部门列表。\\n\\n### 12.2 表格与模板\\n\\n包括申请表、协议样本。\\n\\n### 12.3 确认声明\\n\\n我已阅读并同意遵守。\\n\\n员工签名：____________________ 日期：____________________\\n\\n（本手册已扩展，提供更详细指导。如需进一步修改，请告知。）'"
      ]
     },
     "execution_count": 17,
     "metadata": {},
     "output_type": "execute_result"
    }
   ],
   "source": [
    "md_content"
   ]
  },
  {
   "cell_type": "code",
   "execution_count": 20,
   "id": "d8bfd985-bc43-4aad-9aa4-31337f4b640f",
   "metadata": {},
   "outputs": [],
   "source": [
    "from langchain_text_splitters import MarkdownHeaderTextSplitter\n",
    "\n",
    "headers_to_split_on = [\n",
    "    (\"#\", \"Header 1\"),\n",
    "    (\"##\", \"Header 2\")\n",
    "]\n",
    "\n",
    "markdown_splitter = MarkdownHeaderTextSplitter(headers_to_split_on=headers_to_split_on)\n",
    "md_header_splits = markdown_splitter.split_text(md_content)"
   ]
  },
  {
   "cell_type": "code",
   "execution_count": 21,
   "id": "45bfa98d-0520-465d-89eb-407d6bd339fd",
   "metadata": {
    "scrolled": true
   },
   "outputs": [
    {
     "data": {
      "text/plain": [
       "[Document(metadata={'Header 1': '创新科技股份有限公司员工手册', 'Header 2': '前言'}, page_content='尊敬的员工：  \\n欢迎您加入创新科技股份有限公司（以下简称“公司”）。作为一家致力于推动科技创新的企业，我们深信每一位员工都是公司成功的关键。本员工手册是公司为所有员工提供的全面指导文件，旨在帮助您了解公司的核心价值观、行为准则、工作规范以及各项政策。通过本手册，您将更好地融入公司文化，并与公司共同实现卓越目标。  \\n本手册详细阐述了公司的政策、程序和期望，包括员工权利、义务、福利待遇以及纪律措施。公司保留随时修改本手册内容的权利，任何变更将通过电子邮件、内部通知系统或更新手册版本的形式及时告知所有员工。作为员工，您有责任定期审阅本手册，并确保您的行为符合其规定。如果您对任何内容有疑问，请随时联系人力资源部门，我们将提供必要的解释和支持。  \\n请注意，本手册并非正式的雇佣合同，而是作为指导性文件存在。它旨在促进公司与员工之间的互信与合作。公司相信，通过严格遵守这些准则，我们将共同营造一个高效、创新、和谐的工作环境，推动公司可持续发展。  \\n我们期待与您携手共进，共创辉煌。  \\n公司管理层\\n2025年7月11日'),\n",
       " Document(metadata={'Header 1': '创新科技股份有限公司员工手册', 'Header 2': '第一章：公司概述'}, page_content='### 1.1 公司使命与愿景  \\n创新科技股份有限公司成立于2010年，总部位于北京，是一家专注于人工智能、云计算、大数据和物联网解决方案的高科技企业。公司使命是“通过前沿技术创新，驱动全球数字化转型”，愿景是成为世界领先的科技服务提供商，为客户提供高效、可靠的解决方案，推动社会进步。  \\n公司的核心价值观包括：创新（鼓励大胆尝试新想法）、诚信（以诚实为基础开展所有业务）、协作（强调团队合作与跨部门沟通）、卓越（追求最高标准的工作质量）和责任（对员工、客户和社会承担义务）。这些价值观不仅仅是口号，而是渗透到公司日常运营的每一个环节。例如，在项目开发中，我们优先考虑可持续性和伦理因素，确保技术应用符合社会责任。  \\n截至2025年，公司员工规模已超过800人，在上海、深圳、广州设有分支机构，并在硅谷和新加坡设有海外办事处。公司服务范围涵盖金融、医疗、教育、制造业和智能城市等领域。我们与多家国际知名企业合作，如阿里巴巴、腾讯和IBM，共同开发前沿项目。公司还积极参与社会公益活动，例如每年捐赠部分利润用于教育科技普及项目。  \\n公司的发展历程包括几个关键里程碑：2012年推出首款云计算平台；2018年获得国家高新技术企业认证；2023年完成A轮融资，估值超过10亿美元。这些成就得益于员工的集体努力，我们鼓励每位员工以公司愿景为导向，贡献个人力量。  \\n### 1.2 组织结构  \\n公司采用矩阵式组织结构，以确保高效决策和资源分配。董事会由创始人和外部投资者组成，负责战略方向。首席执行官（CEO）领导高层管理团队，包括首席运营官（COO）、首席技术官（CTO）、首席财务官（CFO）和首席人力资源官（CHRO）。  \\n下设主要部门包括：  \\n- **人力资源部**：负责招聘、培训、绩效管理和员工关系。  \\n- **财务部**：管理预算、会计和财务报告。  \\n- **市场部**：处理品牌推广、市场调研和客户关系。  \\n- **研发部**：专注于技术创新和产品开发，分设AI实验室和云计算团队。  \\n- **运营部**：监督日常运作、供应链和项目管理。  \\n- **销售部**：负责客户开发和合同谈判。  \\n每个部门负责人直接向相应的高管汇报。公司鼓励扁平化管理，员工可通过内部门户网站查看详细组织图表、部门职责和联系信息。此外，公司设有跨职能团队，如创新委员会，定期讨论战略项目，促进部门间协作。  \\n为适应快速发展，公司每年审视组织结构，并在必要时进行调整。例如，2024年我们新增了可持续发展部门，专注于环保技术整合。  \\n### 1.3 雇佣原则  \\n公司坚持平等雇佣机会原则（EEO），禁止基于种族、民族、性别、年龄、宗教信仰、残疾、性取向、国籍或其他受保护特征的歧视。公司招聘过程透明公正，包括以下步骤：  \\n1. **职位发布**：通过公司网站、招聘平台和内部推荐发布职位。  \\n2. **简历筛选**：基于资格和经验筛选候选人。  \\n3. **面试**：多轮面试，包括技术评估、行为面试和团队互动。  \\n4. **背景调查**：验证教育、工作经历和参考人。  \\n5. **录用**：发放录用通知书，并要求签署雇佣合同和保密协议。  \\n新员工入职后，将参加为期两周的入职培训程序。该程序包括公司文化介绍、安全协议培训、岗位职责讲解和团队建设活动。公司提供导师制度，帮助新员工快速适应。  \\n公司重视多样性和包容性（D&I），通过针对性招聘和培训提升女性和少数群体比例。截至2025年，女性员工占比达40%。我们还提供无障碍设施，确保残疾员工平等参与。'),\n",
       " Document(metadata={'Header 1': '创新科技股份有限公司员工手册', 'Header 2': '第二章：员工行为准则'}, page_content='### 2.1 职业道德  \\n员工必须始终维护公司的声誉和利益，遵守所有适用的法律法规。公司禁止任何形式的腐败、贿赂、洗钱或利益冲突。员工若涉及外部业务活动，如兼职或投资，必须事先向人力资源部申报并获得书面批准。  \\n诚信是公司文化的核心。员工应诚实报告工作信息、财务数据和项目进展，避免任何虚假陈述或误导行为。例如，在报告项目延误时，必须提供真实原因和解决方案。违反道德的行为将被视为严重违纪，可能导致立即解雇。  \\n公司提供年度道德培训课程，涵盖案例分析和情景模拟，帮助员工识别潜在风险。我们还设有匿名举报热线，鼓励员工报告可疑行为，而不担心报复。  \\n### 2.2 保密义务  \\n员工有严格的保密义务，保护公司所有机密信息，包括商业计划、技术数据、客户资料和财务报告。公司要求所有员工签署保密协议（NDA），协议有效期覆盖雇佣期及离职后两年。  \\n未经授权披露、复制或使用机密信息将被视为违约。公司实施多层保护措施，如数据加密、访问控制和监控系统。员工使用公司设备时，必须遵守信息安全政策，避免在公共网络传输敏感数据。  \\n公司定期开展保密培训和审计。如果发生泄密事件，公司将调查并追究责任，包括法律行动。示例：员工不得在社交媒体讨论公司内部项目。  \\n### 2.3 知识产权  \\n公司拥有员工在雇佣期间创造的所有知识产权，包括发明、软件代码、设计图纸和研究成果。员工必须及时报告任何创新想法，并配合公司专利申请过程。  \\n公司鼓励知识产权贡献，提供奖励机制：如专利奖金（最高5万元）和股权激励。员工使用外部资源时，必须确保不侵犯第三方知识产权。公司设有知识产权委员会，负责审查和保护。  \\n离职员工须签署知识产权转让协议，确保公司权益不受影响。  \\n### 2.4 反歧视与反骚扰政策  \\n公司致力于营造一个尊重、多样化的工作环境，禁止任何形式的歧视和骚扰，包括基于性别、种族、年龄等的言语、身体或视觉骚扰。示例：不当笑话、肢体接触或歧视性评论均属禁止。  \\n员工若遭遇或目睹此类事件，应立即报告人力资源部或通过匿名渠道。公司将启动调查程序，包括采访证人、审查证据，并保密处理。调查结果将导致适当措施，如警告、培训、调岗或解雇。  \\n公司每年开展反骚扰培训，并设立D&I委员会监督政策执行。我们相信，零容忍政策有助于提升员工满意度和生产力。  \\n### 2.5 冲突解决  \\n工作场所冲突不可避免，公司鼓励通过建设性方式解决。首先，员工应尝试直接沟通，表达关切并寻求共识。若无效，可寻求主管调解。  \\n人力资源部提供正式调解程序，包括第三方调解员。公司还设有仲裁机制，对于严重冲突，可诉诸外部仲裁。所有过程记录在案，确保公平透明。  \\n示例：团队内部意见分歧可通过脑暴会议解决，避免升级。'),\n",
       " Document(metadata={'Header 1': '创新科技股份有限公司员工手册', 'Header 2': '第三章：工作时间与出勤'}, page_content='### 3.1 工作时间  \\n公司实行标准工作制，每周五天，每天8小时（上午9:00至下午6:00，包括1小时午休）。为适应不同岗位，公司提供灵活工作选项，如弹性上班时间（8:30-9:30间到岗）和远程办公（每周最多3天），需经主管批准。  \\n加班须事先申请，并按国家劳动法补偿：平日加班1.5倍工资，周末2倍，法定假日3倍。公司监控加班情况，避免员工过度劳累，年度加班上限为200小时。  \\n公司使用电子打卡系统记录时间，支持移动APP打卡。特殊岗位如研发，可采用成果导向制，强调输出而非时长。  \\n### 3.2 出勤要求  \\n员工必须准时出勤，迟到或早退定义为超过10分钟。连续三次迟到将口头警告，累计五次进入书面记录。旷工一天视为严重违纪。  \\n病假或事假须提前24小时通知，并提供医生证明或说明。年度出勤率低于95%将影响绩效奖金。公司提供弹性出勤政策，如育儿假调整时间。  \\n远程工作员工须每日报告进度，并参加视频会议。公司定期审计出勤数据，确保合规。  \\n### 3.3 假期与休假  \\n公司提供丰富的假期福利，遵守国家规定：  \\n- **法定假期**：包括元旦、春节、清明、劳动节、端午、中秋和国庆，共计11天。  \\n- **带薪年假**：服务1-10年者10天，10-20年15天，20年以上20天。未使用年假可顺延或补偿。  \\n- **病假**：带薪病假按服务年限计算，最长6个月。  \\n- **产假/陪产假**：女性158天，男性15天。  \\n- **其他**：丧假3天，婚假10天。  \\n休假申请通过在线系统提交，主管批准后生效。公司鼓励员工规划休假，维持工作生活平衡。示例：年假可分次使用，避免高峰期冲突。'),\n",
       " Document(metadata={'Header 1': '创新科技股份有限公司员工手册', 'Header 2': '第四章：薪酬与福利'}, page_content='### 4.1 薪酬结构  \\n公司薪酬体系竞争性强，基于市场调研、岗位价值和个人表现。结构包括：  \\n- **基本工资**：固定部分，占总薪酬70%。  \\n- **绩效奖金**：根据KPI发放，最高基本工资30%。  \\n- **津贴**：交通补贴（每月500元）、餐补（每日20元）和通讯费（每月100元）。  \\n- **股权激励**：适用于中高层，基于公司业绩。  \\n年度薪酬审查于12月进行，考虑通胀和贡献。员工可通过绩效对话协商调整。公司确保薪酬公平，避免性别或资历歧视。  \\n### 4.2 福利计划  \\n公司提供全面福利，提升员工生活质量：  \\n- **社会保险**：五险一金，全额缴纳。  \\n- **补充医疗**：覆盖门诊和住院，年度限额10万元。  \\n- **健康福利**：年度体检、健身卡补贴（每年2000元）和心理咨询服务。  \\n- **教育援助**：报销职业培训费用，上限5000元/年。  \\n- **家庭支持**：儿童教育补贴和弹性工作制。  \\n- **退休计划**：企业年金，匹配员工贡献5%。  \\n福利选项弹性化，员工可通过积分系统选择偏好。公司每年审视福利，基于反馈优化。  \\n### 4.3 报销政策  \\n业务费用报销需遵守严格程序：  \\n- **差旅费**：机票、住宿和交通，按标准限额（经济舱、三星酒店）。  \\n- **培训费**：课程和材料，需预批准。  \\n- **其他**：办公用品和娱乐，月上限1000元。  \\n员工提交电子收据，主管审核，人力资源部支付。个人费用禁止报销，违规扣款并警告。公司使用ERP系统跟踪报销，确保透明。'),\n",
       " Document(metadata={'Header 1': '创新科技股份有限公司员工手册', 'Header 2': '第五章：绩效评估'}, page_content='### 5.1 评估程序  \\n公司采用综合绩效评估系统，每半年一次，包括：  \\n1. **目标设定**：年初定义SMART目标。  \\n2. **中期审查**：反馈进展。  \\n3. **年度评估**：自我评估、主管评分和360度反馈。  \\n评估维度：目标达成（50%）、技能发展（20%）、团队贡献（20%）和价值观体现（10%）。结果分级：优秀、良好、合格、需改进。  \\n评估影响薪酬、奖金和晋升。公司提供工具如绩效软件，支持实时跟踪。  \\n### 5.2 培训与发展  \\n公司投资员工成长，年度培训预算每人8000元。程序包括：  \\n- **内部培训**：技能workshop和领导力课程。  \\n- **外部机会**：研讨会、在线平台如Coursera。  \\n- **职业路径**：导师指导、轮岗和晋升计划。  \\n绩效不佳者进入PIP（绩效改进计划），持续90天，包括目标和支持。若无改善，可能降职或解雇。公司鼓励终身学习，提供证书奖励。'),\n",
       " Document(metadata={'Header 1': '创新科技股份有限公司员工手册', 'Header 2': '第六章：纪律与惩戒'}, page_content='### 6.1 违纪定义  \\n违纪分类：  \\n- **轻微**：迟到、未穿工服。  \\n- **中等**：重复违纪、泄露非机密信息。  \\n- **严重**：盗窃、骚扰、欺诈。  \\n公司列出详尽清单，避免歧义。违纪影响记录，可能暂停奖金。  \\n### 6.2 惩戒程序  \\n过程：报告、调查（采访和证据）、听证、决定。员工有权辩护，所有步骤文档化。  \\n惩戒措施：警告、扣薪、停职、解雇。公司确保一致性，考虑情有可原因素。  \\n### 6.3 申诉机制  \\n员工对决定不服，可7日内书面申诉。高层复审，提供公正决议。申诉保密，保护员工权利。'),\n",
       " Document(metadata={'Header 1': '创新科技股份有限公司员工手册', 'Header 2': '第七章：健康与安全'}, page_content='### 7.1 安全政策  \\n公司遵守 OSHA 和国家安全标准，提供培训、PPE 和设施。办公室配备灭火器、急救箱和监控。  \\n员工报告隐患，公司每月审计。安全委员会监督执行。  \\n### 7.2 健康促进  \\n推广健康：健身活动、健康讲座和营养指导。疫情协议包括口罩和远程选项。  \\n年度健康检查免费，公司支持戒烟计划。  \\n### 7.3 紧急程序  \\n紧急时：警报、疏散到指定点。提供培训和演习，联系人名单在门户。  \\n公司保险覆盖工伤。'),\n",
       " Document(metadata={'Header 1': '创新科技股份有限公司员工手册', 'Header 2': '第八章：信息安全与数据保护'}, page_content='### 8.1 信息安全政策  \\n员工遵守GDPR和中国数据法，使用强密码和VPN。禁止未授权软件。  \\n公司监控网络，培训网络钓鱼。  \\n### 8.2 数据保护  \\n处理个人数据需同意，报告泄露。审计确保合规。  \\n### 8.3 违规后果  \\n违反导致惩戒，包括罚款。'),\n",
       " Document(metadata={'Header 1': '创新科技股份有限公司员工手册', 'Header 2': '第九章：多样性、公平与包容'}, page_content='### 9.1 政策声明  \\n公司推动D&I，确保机会平等。目标：多样化团队。  \\n### 9.2 倡议与培训  \\n招聘偏好多样，培训偏见意识。员工资源组支持少数群体。  \\n### 9.3 监测与报告  \\n年度报告D&I指标，调整政策。'),\n",
       " Document(metadata={'Header 1': '创新科技股份有限公司员工手册', 'Header 2': '第十章：环境与可持续发展'}, page_content='### 10.1 环境政策  \\n减少碳足迹：回收、节能设备。  \\n员工参与绿色活动。  \\n### 10.2 可持续发展目标  \\n整合SDGs，如可再生能源项目。  \\n### 10.3 合规与报告  \\n报告环境影响，鼓励建议。'),\n",
       " Document(metadata={'Header 1': '创新科技股份有限公司员工手册', 'Header 2': '第十一章：离职程序'}, page_content='### 11.1 自愿离职  \\n提前30天通知，处理移交和结算。  \\n### 11.2 非自愿离职  \\n补偿按法计算，提供职业指导。  \\n### 11.3 退出访谈  \\n收集反馈，改进实践。'),\n",
       " Document(metadata={'Header 1': '创新科技股份有限公司员工手册', 'Header 2': '第十二章：附录'}, page_content='### 12.1 联系信息  \\n人力资源：hr@innovationtech.com，010-12345678。  \\n其他部门列表。  \\n### 12.2 表格与模板  \\n包括申请表、协议样本。  \\n### 12.3 确认声明  \\n我已阅读并同意遵守。  \\n员工签名：____________________ 日期：____________________  \\n（本手册已扩展，提供更详细指导。如需进一步修改，请告知。）')]"
      ]
     },
     "execution_count": 21,
     "metadata": {},
     "output_type": "execute_result"
    }
   ],
   "source": [
    "md_header_splits"
   ]
  },
  {
   "cell_type": "code",
   "execution_count": 23,
   "id": "6e05ffd5-cef0-417e-96ae-9c48542eac23",
   "metadata": {
    "scrolled": true
   },
   "outputs": [],
   "source": [
    "vector_store = FAISS.from_documents(md_header_splits, embedding=embed)\n",
    "vector_store.save_local(\"staff_handbook_db\")"
   ]
  },
  {
   "cell_type": "markdown",
   "id": "708a8790-53da-4d5c-aa70-79bbf765cdf8",
   "metadata": {},
   "source": [
    "<center><img src=\"https://ml2022.oss-cn-hangzhou.aliyuncs.com/img/image-20250711181945687.png\" alt=\"image-20250711181945687\" style=\"zoom:50%;\" />"
   ]
  },
  {
   "cell_type": "markdown",
   "id": "3d14ad27-ef69-4b7a-b86e-c8d56e40b9ac",
   "metadata": {},
   "source": [
    "&emsp;&emsp;创建矢量数据库后，我们可以进行测试："
   ]
  },
  {
   "cell_type": "code",
   "execution_count": 24,
   "id": "ed0cbc1a-7ef7-48cb-b925-3cf4e9531ab3",
   "metadata": {
    "scrolled": true
   },
   "outputs": [
    {
     "name": "stdout",
     "output_type": "stream",
     "text": [
      "Content: ### 3.1 工作时间  \n",
      "公司实行标准工作制，每周五天，每天8小时（上午9:00至下午6:00，包括1小时午休）。为适应不同岗位，公司提供灵活工作选项，如弹性上班时间（8:30-9:30间到岗）和远程办公（每周最多3天），需经主管批准。  \n",
      "加班须事先申请，并按国家劳动法补偿：平日加班1.5倍工资，周末2倍，法定假日3倍。公司监控加班情况，避免员工过度劳累，年度加班上限为200小时。  \n",
      "公司使用电子打卡系统记录时间，支持移动APP打卡。特殊岗位如研发，可采用成果导向制，强调输出而非时长。  \n",
      "### 3.2 出勤要求  \n",
      "员工必须准时出勤，迟到或早退定义为超过10分钟。连续三次迟到将口头警告，累计五次进入书面记录。旷工一天视为严重违纪。  \n",
      "病假或事假须提前24小时通知，并提供医生证明或说明。年度出勤率低于95%将影响绩效奖金。公司提供弹性出勤政策，如育儿假调整时间。  \n",
      "远程工作员工须每日报告进度，并参加视频会议。公司定期审计出勤数据，确保合规。  \n",
      "### 3.3 假期与休假  \n",
      "公司提供丰富的假期福利，遵守国家规定：  \n",
      "- **法定假期**：包括元旦、春节、清明、劳动节、端午、中秋和国庆，共计11天。  \n",
      "- **带薪年假**：服务1-10年者10天，10-20年15天，20年以上20天。未使用年假可顺延或补偿。  \n",
      "- **病假**：带薪病假按服务年限计算，最长6个月。  \n",
      "- **产假/陪产假**：女性158天，男性15天。  \n",
      "- **其他**：丧假3天，婚假10天。  \n",
      "休假申请通过在线系统提交，主管批准后生效。公司鼓励员工规划休假，维持工作生活平衡。示例：年假可分次使用，避免高峰期冲突。\n",
      "Content: ### 7.1 安全政策  \n",
      "公司遵守 OSHA 和国家安全标准，提供培训、PPE 和设施。办公室配备灭火器、急救箱和监控。  \n",
      "员工报告隐患，公司每月审计。安全委员会监督执行。  \n",
      "### 7.2 健康促进  \n",
      "推广健康：健身活动、健康讲座和营养指导。疫情协议包括口罩和远程选项。  \n",
      "年度健康检查免费，公司支持戒烟计划。  \n",
      "### 7.3 紧急程序  \n",
      "紧急时：警报、疏散到指定点。提供培训和演习，联系人名单在门户。  \n",
      "公司保险覆盖工伤。\n",
      "Content: ### 4.1 薪酬结构  \n",
      "公司薪酬体系竞争性强，基于市场调研、岗位价值和个人表现。结构包括：  \n",
      "- **基本工资**：固定部分，占总薪酬70%。  \n",
      "- **绩效奖金**：根据KPI发放，最高基本工资30%。  \n",
      "- **津贴**：交通补贴（每月500元）、餐补（每日20元）和通讯费（每月100元）。  \n",
      "- **股权激励**：适用于中高层，基于公司业绩。  \n",
      "年度薪酬审查于12月进行，考虑通胀和贡献。员工可通过绩效对话协商调整。公司确保薪酬公平，避免性别或资历歧视。  \n",
      "### 4.2 福利计划  \n",
      "公司提供全面福利，提升员工生活质量：  \n",
      "- **社会保险**：五险一金，全额缴纳。  \n",
      "- **补充医疗**：覆盖门诊和住院，年度限额10万元。  \n",
      "- **健康福利**：年度体检、健身卡补贴（每年2000元）和心理咨询服务。  \n",
      "- **教育援助**：报销职业培训费用，上限5000元/年。  \n",
      "- **家庭支持**：儿童教育补贴和弹性工作制。  \n",
      "- **退休计划**：企业年金，匹配员工贡献5%。  \n",
      "福利选项弹性化，员工可通过积分系统选择偏好。公司每年审视福利，基于反馈优化。  \n",
      "### 4.3 报销政策  \n",
      "业务费用报销需遵守严格程序：  \n",
      "- **差旅费**：机票、住宿和交通，按标准限额（经济舱、三星酒店）。  \n",
      "- **培训费**：课程和材料，需预批准。  \n",
      "- **其他**：办公用品和娱乐，月上限1000元。  \n",
      "员工提交电子收据，主管审核，人力资源部支付。个人费用禁止报销，违规扣款并警告。公司使用ERP系统跟踪报销，确保透明。\n"
     ]
    }
   ],
   "source": [
    "# 加载本地的Faiss向量文件，allow_dangerous_deserialization 用于控制是否允许在加载向量存储时进行潜在的危险反序列化操作。\n",
    "vector_store = FAISS.load_local(embeddings=embed, folder_path='staff_handbook_db',allow_dangerous_deserialization=True)\n",
    " \n",
    "# 将 FAISS 向量存储转换为一个 retriever（检索器），并为该检索器设置一些搜索相关的参数。k=1 表示检索时返回 最相似的 3 个文档\n",
    "retriever = vector_store.as_retriever(search_kwargs={'k': 3})\n",
    "\n",
    "# 执行相似度搜素\n",
    "query = \"请问我们公司有没有病假？\"\n",
    "results = retriever.invoke(query)\n",
    "\n",
    "for doc in results:\n",
    "    print(f\"Content: {doc.page_content}\")"
   ]
  },
  {
   "cell_type": "markdown",
   "id": "020faa55-dfcb-483c-a5ea-156a29db39e8",
   "metadata": {},
   "source": [
    "### 3. 智能HR聊天机器人助手"
   ]
  },
  {
   "cell_type": "markdown",
   "id": "8a90f5ed-ff5b-41a0-abaa-b9ccc137caf6",
   "metadata": {},
   "source": [
    "&emsp;&emsp;我们从一个最简单的链开始，只接受用户问题，在提示中格式化它并输出该问题的答案（不检索）。这里使用 `Langchain` 的`PromptTemplate`并使用`LCEL`对其进行管道传输。"
   ]
  },
  {
   "cell_type": "code",
   "execution_count": 25,
   "id": "161f7d45-2071-4571-b400-c32ff6d0e670",
   "metadata": {},
   "outputs": [
    {
     "name": "stdout",
     "output_type": "stream",
     "text": [
      "人工智能（AI）是计算机科学的一个分支，旨在开发能够模拟人类智能的系统和机器。这些系统可以执行通常需要人类智能的任务，如学习、推理、问题解决、语言理解和视觉识别。AI技术包括机器学习、深度学习、自然语言处理等，广泛应用于医疗、金融、自动驾驶等领域。\n"
     ]
    }
   ],
   "source": [
    "from langchain.prompts import PromptTemplate\n",
    "from langchain.schema.output_parser import StrOutputParser\n",
    "\n",
    "# 定义提示模板\n",
    "prompt = PromptTemplate(\n",
    "  input_variables = [\"question\"],\n",
    "  template = \"你是一个乐于助人的智能小助理。擅长根据用户输入的问题给出一个简短的回答：: {question}\"\n",
    ")\n",
    "\n",
    "\n",
    "# 构建Chains\n",
    "chain = (\n",
    "  prompt\n",
    "  | model\n",
    "  | StrOutputParser()\n",
    ")\n",
    "print(chain.invoke({\"question\": \"请问什么是人工智能？\"}))"
   ]
  },
  {
   "cell_type": "markdown",
   "id": "e0259434-a22b-4289-94b9-7fad2ddb0147",
   "metadata": {},
   "source": [
    "&emsp;&emsp;在这个过程中，会将带有`question`键的字典被传递到提示模板中，其中`question`值被提取并在模板中格式化，然后作为输入传递到`model`，最后将结果提取为使用`StrOutputPaser()`最终输出字符串。"
   ]
  },
  {
   "cell_type": "markdown",
   "id": "d98d6e06-6007-4ca2-b62b-387729ac7e9a",
   "metadata": {},
   "source": [
    "&emsp;&emsp;接下来，因为最终我们想要构建一个聊天机器人，所以需要让它支持聊天历史记录，作为`RAG`系统的一个基础组件。当调用链时，以列表的形式传递历史记录，指定每条消息是由用户还是助手发送的。例如：\n",
    "\n",
    "```python\n",
    "［ {\"role\": \"user\", \"content\": \"我每年可以请多少天病假？\"}，\n",
    "   {\"role\": \"assistant\", \"content\": \"你每年可以请的病假天数取决于你的具体雇佣合同和公司政策。然而，一般来说，员工有权享受一定的病假。具体细节请参阅员工手册或与人力资源部门联系。\"},\n",
    "   {\"role\": \"user\", \"content\": \"我在哪里可以找到员工手册？\"}，\n",
    "   {\"role\": \"assistant\", \"content“: ”员工手册通常在公司内部网上提供。你也可以联系你的人力资源部门索要一份实体副本。\"}\n",
    "］\n",
    "```"
   ]
  },
  {
   "cell_type": "markdown",
   "id": "390329b7-895c-49cf-a3ee-db5e3e97d2ab",
   "metadata": {},
   "source": [
    "&emsp;&emsp;然后创建链组件，将此输入转换为传递给`prompt_with_history`的输入。与上面的代码类似，但在这里我们需要创建一个 `RunnableLambda`，它用来获取消息列表并从中提取问题和历史记录。然后使用 `LangChain LCEL` 为变量`问题`分配一个管道，该管道首先从字典中提取关键消息。"
   ]
  },
  {
   "cell_type": "code",
   "execution_count": 26,
   "id": "55f8235c-2d30-4639-b0f5-1a73662a39ef",
   "metadata": {},
   "outputs": [
    {
     "name": "stdout",
     "output_type": "stream",
     "text": [
      "根据公司政策，提交病假请求的具体流程请参阅员工手册中的相关规定。\n"
     ]
    }
   ],
   "source": [
    "from langchain.schema.runnable import RunnableLambda\n",
    "from operator import itemgetter\n",
    "\n",
    "# 问题是历史记录中的最后一项\n",
    "def extract_question(input):\n",
    "    return input[-1][\"content\"]\n",
    "\n",
    "# 历史记录是除了最后一个问题之外的所有内容\n",
    "def extract_history(input):\n",
    "    return input[:-1]\n",
    "\n",
    "\n",
    "prompt_with_history_str = \"\"\"\n",
    "你是一个人力资源助理聊天机器人。请只回答HR相关问题。如果你不知道或者这个问题与人力资源无关，就不要回答。\n",
    "这是你与用户对话的历史记录: {chat_history}\n",
    "现在，请回答这个问题: {question}\n",
    "\n",
    "注意：再回答时请根据历史检索到的内容进行回答，不要编造及额外扩展无关内容。\n",
    "\"\"\"\n",
    "\n",
    "# 构建提示模板\n",
    "prompt_with_history = PromptTemplate(\n",
    "  input_variables = [\"chat_history\", \"question\"],\n",
    "  template = prompt_with_history_str\n",
    ")\n",
    "\n",
    "\n",
    "# 构建带有历史会话记录的链\n",
    "chain_with_history = (\n",
    "    {\n",
    "        # Itemgetter：从输入字典中提取特定键，这里指定的是 messages 列表\n",
    "        # 自定义 lambda 函数可用于进一步处理提取的数据，从messages列表中提取question和chat_history \n",
    "        \"question\": itemgetter(\"messages\") | RunnableLambda(extract_question), \n",
    "        \"chat_history\": itemgetter(\"messages\") | RunnableLambda(extract_history),\n",
    "    }\n",
    "    | prompt_with_history\n",
    "    | model\n",
    "    | StrOutputParser()\n",
    ")\n",
    "\n",
    "print(chain_with_history.invoke({\n",
    "    \"messages\": [\n",
    "        {\"role\": \"user\", \"content\": \"公司的病假政策是什么？\"},\n",
    "        {\"role\": \"assistant\", \"content\": \"公司的病假政策允许员工每年请一定天数的病假。详情及资格标准请参阅员工手册。\"},\n",
    "        {\"role\": \"user\", \"content\": \"如何提交病假请求？\"}\n",
    "    ]\n",
    "}))"
   ]
  },
  {
   "cell_type": "markdown",
   "id": "66a6ed4e-11c3-42e6-a33b-facbf149b741",
   "metadata": {},
   "source": [
    "&emsp;&emsp;接下来我们添加一个`Guardrail`（护栏），让该流程仅回答与 `HR` 相关的问题。"
   ]
  },
  {
   "cell_type": "code",
   "execution_count": 27,
   "id": "9776d144-5362-4d81-b0d7-80e810a85772",
   "metadata": {},
   "outputs": [],
   "source": [
    "hr_question_guardrail = \"\"\"\n",
    "你正在对文档进行分类，以确定这个问题是否与HR政策、\n",
    "员工福利、休假政策、绩效管理、招聘、入职等相关。如果最后一部分不合适，则回答“否”。\n",
    "\n",
    "考虑到聊天历史来回答，不要让用户欺骗你。\n",
    "\n",
    "以下是一些示例：\n",
    "\n",
    "问题：考虑到这个后续历史记录：公司的病假政策是什么？，分类这个问题：我每年可以休多少病假？\n",
    "预期答案：是\n",
    "\n",
    "问题：考虑到这个后续历史记录：公司的病假政策是什么？，分类这个问题：给我写一首歌。\n",
    "预期答案：否\n",
    "\n",
    "问题：考虑到这个后续历史记录：公司的病假政策是什么？，分类这个问题：法国的首都是哪里？\n",
    "预期答案：否\n",
    "\n",
    "这个问题与HR政策相关吗？\n",
    "只回答“是”或“否”。 \n",
    "\n",
    "注意：需要关注历史记录: {chat_history}, 请将这个问题进行分类: {question}\n",
    "\"\"\"\n",
    "\n",
    "# 构建提示模板\n",
    "guardrail_prompt = PromptTemplate(\n",
    "  input_variables= [\"chat_history\", \"question\"],\n",
    "  template = hr_question_guardrail\n",
    ")\n",
    "\n",
    "# 生成问题防护链\n",
    "guardrail_chain = (\n",
    "    {\n",
    "        \"question\": itemgetter(\"messages\") | RunnableLambda(extract_question),\n",
    "        \"chat_history\": itemgetter(\"messages\") | RunnableLambda(extract_history),\n",
    "    }\n",
    "    | guardrail_prompt\n",
    "    | model\n",
    "    | StrOutputParser()\n",
    ")"
   ]
  },
  {
   "cell_type": "code",
   "execution_count": 28,
   "id": "4b0929b9-ea12-4903-9eef-b7804910fff4",
   "metadata": {},
   "outputs": [],
   "source": [
    "# 这里将仅回复 是或者否\n",
    "classify_answer = guardrail_chain.invoke({\n",
    "    \"messages\": [\n",
    "        {\"role\": \"user\", \"content\": \"公司的病假政策是什么？?\"}, \n",
    "        {\"role\": \"assistant\", \"content\": \"公司的病假政策允许员工每年休一定数量的病假。具体的细节和资格标准请参阅员工手册。\"}, \n",
    "        {\"role\": \"user\", \"content\": \"我怎么提交病假申请？\"}\n",
    "    ]\n",
    "})"
   ]
  },
  {
   "cell_type": "code",
   "execution_count": 29,
   "id": "adb77900-144a-4b27-9c22-d2ad0a1895b1",
   "metadata": {},
   "outputs": [
    {
     "data": {
      "text/plain": [
       "'是'"
      ]
     },
     "execution_count": 29,
     "metadata": {},
     "output_type": "execute_result"
    }
   ],
   "source": [
    "classify_answer"
   ]
  },
  {
   "cell_type": "code",
   "execution_count": 30,
   "id": "095498e1-e1c0-40a2-969e-3d4ca88918ca",
   "metadata": {},
   "outputs": [
    {
     "data": {
      "text/plain": [
       "'否'"
      ]
     },
     "execution_count": 30,
     "metadata": {},
     "output_type": "execute_result"
    }
   ],
   "source": [
    "# 这里将仅回复 是或者否\n",
    "classify_answer = guardrail_chain.invoke({\n",
    "    \"messages\": [\n",
    "        {\"role\": \"user\", \"content\": \"你好，请问在吗？\"}, \n",
    "    ]\n",
    "})\n",
    "\n",
    "classify_answer"
   ]
  },
  {
   "cell_type": "markdown",
   "id": "d6b4c8f4-a515-4c43-8845-4540f04ee7c5",
   "metadata": {},
   "source": [
    "<div align=center><img src=\"https://muyu001.oss-cn-beijing.aliyuncs.com/img/image-20250113222612358.png\" width=80%></div>"
   ]
  },
  {
   "cell_type": "markdown",
   "id": "e248894c-6ea6-4243-b376-6fb5f29712ae",
   "metadata": {},
   "source": [
    "至此我们就完成了用户输入到guardrail_chain输出是或否的开发过程。需要注意的是，我们是让guardrail_chain通过输出是或否来区分是否是公司员工管理手册相关内容，而在很多场景下，我们实际上是通过guardrail_chain判断是否需要进行进一步检索。"
   ]
  },
  {
   "cell_type": "markdown",
   "id": "492afa5f-5142-4374-8c74-343845fe6816",
   "metadata": {},
   "source": [
    "&emsp;&emsp;在生产应用中开发大模型应用时，提供某些防护措施以确保聊天机器人符合我们的意图非常重要。而接下来，我们进一步优化和丰富应用，添加我们的 `langchain` 检索器。"
   ]
  },
  {
   "cell_type": "code",
   "execution_count": 31,
   "id": "b9b15b81-b9b5-4ba9-82ca-336506dc746d",
   "metadata": {},
   "outputs": [
    {
     "name": "stdout",
     "output_type": "stream",
     "text": [
      "[Document(id='207cfc21-d40f-4736-8c71-7b34f12643c4', metadata={'Header 1': '创新科技股份有限公司员工手册', 'Header 2': '第三章：工作时间与出勤'}, page_content='### 3.1 工作时间  \\n公司实行标准工作制，每周五天，每天8小时（上午9:00至下午6:00，包括1小时午休）。为适应不同岗位，公司提供灵活工作选项，如弹性上班时间（8:30-9:30间到岗）和远程办公（每周最多3天），需经主管批准。  \\n加班须事先申请，并按国家劳动法补偿：平日加班1.5倍工资，周末2倍，法定假日3倍。公司监控加班情况，避免员工过度劳累，年度加班上限为200小时。  \\n公司使用电子打卡系统记录时间，支持移动APP打卡。特殊岗位如研发，可采用成果导向制，强调输出而非时长。  \\n### 3.2 出勤要求  \\n员工必须准时出勤，迟到或早退定义为超过10分钟。连续三次迟到将口头警告，累计五次进入书面记录。旷工一天视为严重违纪。  \\n病假或事假须提前24小时通知，并提供医生证明或说明。年度出勤率低于95%将影响绩效奖金。公司提供弹性出勤政策，如育儿假调整时间。  \\n远程工作员工须每日报告进度，并参加视频会议。公司定期审计出勤数据，确保合规。  \\n### 3.3 假期与休假  \\n公司提供丰富的假期福利，遵守国家规定：  \\n- **法定假期**：包括元旦、春节、清明、劳动节、端午、中秋和国庆，共计11天。  \\n- **带薪年假**：服务1-10年者10天，10-20年15天，20年以上20天。未使用年假可顺延或补偿。  \\n- **病假**：带薪病假按服务年限计算，最长6个月。  \\n- **产假/陪产假**：女性158天，男性15天。  \\n- **其他**：丧假3天，婚假10天。  \\n休假申请通过在线系统提交，主管批准后生效。公司鼓励员工规划休假，维持工作生活平衡。示例：年假可分次使用，避免高峰期冲突。'), Document(id='b8960570-ac5f-4945-bf4a-cbb27dca9941', metadata={'Header 1': '创新科技股份有限公司员工手册', 'Header 2': '第十一章：离职程序'}, page_content='### 11.1 自愿离职  \\n提前30天通知，处理移交和结算。  \\n### 11.2 非自愿离职  \\n补偿按法计算，提供职业指导。  \\n### 11.3 退出访谈  \\n收集反馈，改进实践。'), Document(id='b292e8ec-a30c-47cf-ada0-0a4834a90f3c', metadata={'Header 1': '创新科技股份有限公司员工手册', 'Header 2': '第七章：健康与安全'}, page_content='### 7.1 安全政策  \\n公司遵守 OSHA 和国家安全标准，提供培训、PPE 和设施。办公室配备灭火器、急救箱和监控。  \\n员工报告隐患，公司每月审计。安全委员会监督执行。  \\n### 7.2 健康促进  \\n推广健康：健身活动、健康讲座和营养指导。疫情协议包括口罩和远程选项。  \\n年度健康检查免费，公司支持戒烟计划。  \\n### 7.3 紧急程序  \\n紧急时：警报、疏散到指定点。提供培训和演习，联系人名单在门户。  \\n公司保险覆盖工伤。')]\n"
     ]
    }
   ],
   "source": [
    "from langchain_community.vectorstores import FAISS\n",
    "\n",
    "def get_retriever():\n",
    "    # 使用 OpenAI 的嵌入模型初始化嵌入对象\n",
    "    embed = OpenAIEmbeddings(\n",
    "        api_key=OPENAI_EMBEDDING_API_KEY,\n",
    "        base_url=OPENAI_EMBEDDING_BASE_URL,\n",
    "        model=\"text-embedding-3-small\"\n",
    "    )\n",
    "    \n",
    "    # 从本地加载 FAISS 向量存储，并且指定嵌入对象\n",
    "    vector_store = FAISS.load_local(embeddings=embed, folder_path='staff_handbook_db',allow_dangerous_deserialization=True)\n",
    "     \n",
    "    # 配置文档检索，返回最相关的 1 个文档\n",
    "    retriever = vector_store.as_retriever(search_kwargs={'k': 3})\n",
    "    return retriever\n",
    "\n",
    "# 构建检索器实例\n",
    "retriever = get_retriever()\n",
    "\n",
    "# 生成检索链\n",
    "retrieve_document_chain = (\n",
    "    itemgetter(\"messages\") \n",
    "    | RunnableLambda(extract_question)\n",
    "    | retriever\n",
    ")\n",
    "\n",
    "print(retrieve_document_chain.invoke({\"messages\": [{\"role\": \"user\", \"content\": \"如果请病假，需要走什么流程？\"}]}))"
   ]
  },
  {
   "cell_type": "markdown",
   "id": "8f920317-27f3-4f8b-8e6d-c18732f80ed2",
   "metadata": {},
   "source": [
    "&emsp;&emsp;最后，我们实现完整的链来连接检索器。完整的架构图如下所示："
   ]
  },
  {
   "cell_type": "markdown",
   "id": "eb123da7-65cf-45ab-9c12-ee882f41c7a6",
   "metadata": {},
   "source": [
    "<div align=center><img src=\"https://muyu001.oss-cn-beijing.aliyuncs.com/img/image-20250113222612358.png\" width=80%></div>"
   ]
  },
  {
   "cell_type": "markdown",
   "id": "01cf0586-fe77-4391-b4ae-c91d7479485b",
   "metadata": {},
   "source": [
    "&emsp;&emsp;上述流程在`langChain`中的完整实现代码如下所示："
   ]
  },
  {
   "cell_type": "code",
   "execution_count": 32,
   "id": "12bd25fc-d032-40a4-b6d4-5f567b04fec1",
   "metadata": {},
   "outputs": [],
   "source": [
    "from langchain.schema.runnable import RunnableBranch, RunnablePassthrough\n",
    "\n",
    "question_with_history_and_context_str = \"\"\"\n",
    "你是一个可信赖的 HR 政策助手。你将回答有关员工福利、休假政策、绩效管理、招聘、入职以及其他与 HR 相关的话题。如果你不知道问题的答案，你会诚实地说你不知道。\n",
    "阅读讨论以获取之前对话的上下文。在聊天讨论中，你被称为“系统”，用户被称为“用户”。\n",
    "\n",
    "历史记录: {chat_history}\n",
    "\n",
    "以下是一些可能帮助你回答问题的上下文： {context}\n",
    "\n",
    "请直接回答，不要重复问题，不要以“问题的答案是”之类的开头，不要在答案前加上“AI”，不要说“这是答案”，不要提及上下文或问题。\n",
    "\n",
    "根据这个历史和上下文，回答这个问题： {question}\n",
    "\"\"\"\n",
    "\n",
    "question_with_history_and_context_prompt = PromptTemplate(\n",
    "  input_variables= [\"chat_history\", \"context\", \"question\"],\n",
    "  template = question_with_history_and_context_str\n",
    ")\n",
    "\n",
    "def format_context(docs):\n",
    "    return \"\\n\\n\".join([d.page_content for d in docs])\n",
    "\n",
    "\n",
    "# 定义不相关的链\n",
    "irrelevant_question_chain = (\n",
    "  RunnableLambda(lambda x: {\"result\": '我不能回答与 HR 政策无关的问题。'})\n",
    ")\n",
    "\n",
    "# 定义相关的链\n",
    "relevant_question_chain = (\n",
    "  RunnablePassthrough() \n",
    "  |\n",
    "  {\n",
    "    \"relevant_docs\": prompt | model | StrOutputParser() | retriever,\n",
    "    \"chat_history\": itemgetter(\"chat_history\"), \n",
    "    \"question\": itemgetter(\"question\")\n",
    "  }\n",
    " |\n",
    "  {\n",
    "    \"context\": itemgetter(\"relevant_docs\") | RunnableLambda(format_context),\n",
    "    \"chat_history\": itemgetter(\"chat_history\"), \n",
    "    \"question\": itemgetter(\"question\")\n",
    "  }\n",
    "  |\n",
    "  {\n",
    "    \"prompt\": question_with_history_and_context_prompt,         \n",
    "  }\n",
    "  |\n",
    "  {\n",
    "    \"result\": itemgetter(\"prompt\") | model | StrOutputParser(),\n",
    "  }\n",
    ")\n",
    "\n",
    "\n",
    "# 定义分支\n",
    "branch_node = RunnableBranch(\n",
    "  (lambda x: \"是\" in x[\"question_is_relevant\"].lower(), relevant_question_chain),\n",
    "  (lambda x: \"否\" in x[\"question_is_relevant\"].lower(), irrelevant_question_chain),\n",
    "  irrelevant_question_chain\n",
    ")\n",
    "\n",
    "full_chain = (\n",
    "  {\n",
    "    \"question_is_relevant\": guardrail_chain,\n",
    "    \"question\": itemgetter(\"messages\") | RunnableLambda(extract_question),\n",
    "    \"chat_history\": itemgetter(\"messages\") | RunnableLambda(extract_history),    \n",
    "  }\n",
    "  | branch_node\n",
    ")"
   ]
  },
  {
   "cell_type": "code",
   "execution_count": 33,
   "id": "81d098d5-5ec1-450c-91af-ee3c31cb06c0",
   "metadata": {},
   "outputs": [
    {
     "name": "stdout",
     "output_type": "stream",
     "text": [
      "用不相关的问题测试\n"
     ]
    }
   ],
   "source": [
    "import json\n",
    "\n",
    "non_relevant_dialog = {\n",
    "    \"messages\": [\n",
    "        {\"role\": \"user\", \"content\": \"公司的病假政策是什么？\"},\n",
    "        {\"role\": \"assistant\", \"content\": \"公司的病假政策允许员工每年休一定数量的病假。具体的细节和资格标准请参阅员工手册。\"},\n",
    "        {\"role\": \"user\", \"content\": \"你好，请你介绍一下你自己呀。\"}\n",
    "    ]\n",
    "}\n",
    "\n",
    "print(f'用不相关的问题测试')\n",
    "response = full_chain.invoke(non_relevant_dialog)"
   ]
  },
  {
   "cell_type": "code",
   "execution_count": 34,
   "id": "bb3b352d-29a1-4fa9-8d42-f50bb515227d",
   "metadata": {},
   "outputs": [
    {
     "data": {
      "text/plain": [
       "{'result': '我不能回答与 HR 政策无关的问题。'}"
      ]
     },
     "execution_count": 34,
     "metadata": {},
     "output_type": "execute_result"
    }
   ],
   "source": [
    "response"
   ]
  },
  {
   "cell_type": "code",
   "execution_count": 35,
   "id": "1137de68-ed00-4037-9f2a-19d7c42ad87b",
   "metadata": {},
   "outputs": [],
   "source": [
    "dialog = {\n",
    "    \"messages\": [\n",
    "        {\"role\": \"user\", \"content\": \"公司的病假政策是什么？\"},\n",
    "        {\"role\": \"assistant\", \"content\": \"公司的病假政策允许员工每年休一定数量的病假。具体的细节和资格标准请参阅员工手册。\"},\n",
    "        {\"role\": \"user\", \"content\": \"我应该如何提交病假的申请？\"}\n",
    "    ]\n",
    "}"
   ]
  },
  {
   "cell_type": "markdown",
   "id": "ec73af02-ae95-45ae-a99f-91e3addcb106",
   "metadata": {},
   "source": [
    "&emsp;&emsp;测试 `RAG` 检索链："
   ]
  },
  {
   "cell_type": "code",
   "execution_count": 36,
   "id": "87133117-3e36-4505-94a0-8d4cd3911425",
   "metadata": {},
   "outputs": [
    {
     "name": "stdout",
     "output_type": "stream",
     "text": [
      "[Document(id='207cfc21-d40f-4736-8c71-7b34f12643c4', metadata={'Header 1': '创新科技股份有限公司员工手册', 'Header 2': '第三章：工作时间与出勤'}, page_content='### 3.1 工作时间  \\n公司实行标准工作制，每周五天，每天8小时（上午9:00至下午6:00，包括1小时午休）。为适应不同岗位，公司提供灵活工作选项，如弹性上班时间（8:30-9:30间到岗）和远程办公（每周最多3天），需经主管批准。  \\n加班须事先申请，并按国家劳动法补偿：平日加班1.5倍工资，周末2倍，法定假日3倍。公司监控加班情况，避免员工过度劳累，年度加班上限为200小时。  \\n公司使用电子打卡系统记录时间，支持移动APP打卡。特殊岗位如研发，可采用成果导向制，强调输出而非时长。  \\n### 3.2 出勤要求  \\n员工必须准时出勤，迟到或早退定义为超过10分钟。连续三次迟到将口头警告，累计五次进入书面记录。旷工一天视为严重违纪。  \\n病假或事假须提前24小时通知，并提供医生证明或说明。年度出勤率低于95%将影响绩效奖金。公司提供弹性出勤政策，如育儿假调整时间。  \\n远程工作员工须每日报告进度，并参加视频会议。公司定期审计出勤数据，确保合规。  \\n### 3.3 假期与休假  \\n公司提供丰富的假期福利，遵守国家规定：  \\n- **法定假期**：包括元旦、春节、清明、劳动节、端午、中秋和国庆，共计11天。  \\n- **带薪年假**：服务1-10年者10天，10-20年15天，20年以上20天。未使用年假可顺延或补偿。  \\n- **病假**：带薪病假按服务年限计算，最长6个月。  \\n- **产假/陪产假**：女性158天，男性15天。  \\n- **其他**：丧假3天，婚假10天。  \\n休假申请通过在线系统提交，主管批准后生效。公司鼓励员工规划休假，维持工作生活平衡。示例：年假可分次使用，避免高峰期冲突。'), Document(id='b8960570-ac5f-4945-bf4a-cbb27dca9941', metadata={'Header 1': '创新科技股份有限公司员工手册', 'Header 2': '第十一章：离职程序'}, page_content='### 11.1 自愿离职  \\n提前30天通知，处理移交和结算。  \\n### 11.2 非自愿离职  \\n补偿按法计算，提供职业指导。  \\n### 11.3 退出访谈  \\n收集反馈，改进实践。'), Document(id='4086209b-57d0-4b18-84fd-781690b6099f', metadata={'Header 1': '创新科技股份有限公司员工手册', 'Header 2': '第十二章：附录'}, page_content='### 12.1 联系信息  \\n人力资源：hr@innovationtech.com，010-12345678。  \\n其他部门列表。  \\n### 12.2 表格与模板  \\n包括申请表、协议样本。  \\n### 12.3 确认声明  \\n我已阅读并同意遵守。  \\n员工签名：____________________ 日期：____________________  \\n（本手册已扩展，提供更详细指导。如需进一步修改，请告知。）')]\n"
     ]
    }
   ],
   "source": [
    "print(retrieve_document_chain.invoke({\"messages\": [{\"role\": \"user\", \"content\": \"我应该如何提交病假的申请？?\"}]}))"
   ]
  },
  {
   "cell_type": "code",
   "execution_count": 37,
   "id": "2882177e-22d9-4027-afb6-ef0fd6a07721",
   "metadata": {},
   "outputs": [
    {
     "name": "stdout",
     "output_type": "stream",
     "text": [
      "用相关的问题测试\n"
     ]
    }
   ],
   "source": [
    "print(f'用相关的问题测试')\n",
    "response = full_chain.invoke(dialog)"
   ]
  },
  {
   "cell_type": "code",
   "execution_count": 38,
   "id": "35c8ee3f-1c07-418c-aa81-28e615973cf8",
   "metadata": {},
   "outputs": [
    {
     "data": {
      "text/plain": [
       "{'result': '通过在线系统提交病假申请，并提供医生证明或说明，经主管批准后生效。'}"
      ]
     },
     "execution_count": 38,
     "metadata": {},
     "output_type": "execute_result"
    }
   ],
   "source": [
    "response"
   ]
  },
  {
   "cell_type": "markdown",
   "id": "9e2f6035-0b8e-4409-8841-54de204dfa93",
   "metadata": {},
   "source": [
    "&emsp;&emsp;这里大家就可以看到，通过添加安全护栏，可以稳定的实现一个智能`HR`助手，当用户提出与`HR`政策无关的问题时，会直接返回`我不能回答与 HR 政策无关的问题。`，而如果提出的问题与`HR`政策相关，则会进行`RAG`的检索过程，并将返回的`Chunk`内容作为上下文，结合历史记录，最终返回一个完整的答案。\n",
    "\n",
    "<div align=center><img src=\"https://muyu20241105.oss-cn-beijing.aliyuncs.com/images/202507071358137.png\" width=80%></div>"
   ]
  },
  {
   "cell_type": "markdown",
   "id": "5446752e-17a8-456b-a32c-529d4ffdda86",
   "metadata": {},
   "source": [
    "- 构建多轮对话聊天机器人"
   ]
  },
  {
   "cell_type": "code",
   "execution_count": 39,
   "id": "a976423b-65b3-4e49-bea4-e8eeee334abd",
   "metadata": {},
   "outputs": [],
   "source": [
    "def chat_with_hr_bot_loop(full_chain, max_history=50):\n",
    "    \"\"\"\n",
    "    与HR机器人多轮对话，输入 'exit' 或 'quit' 可退出。\n",
    "    \"\"\"\n",
    "    history = []\n",
    "\n",
    "    while True:\n",
    "        user_input = input(\"用户: \").strip()\n",
    "\n",
    "        # 判断是否退出\n",
    "        if user_input.lower() in [\"exit\", \"quit\"]:\n",
    "            print(\"已退出对话。\")\n",
    "            break\n",
    "\n",
    "        # 添加用户问题\n",
    "        history.append({\"role\": \"user\", \"content\": user_input})\n",
    "\n",
    "        # 调用full_chain\n",
    "        result = full_chain.invoke({\"messages\": history})\n",
    "\n",
    "        # 获取答案\n",
    "        answer = result[\"result\"]\n",
    "\n",
    "        # 输出答案\n",
    "        print(\"助理:\", answer)\n",
    "\n",
    "        # 添加到历史\n",
    "        history.append({\"role\": \"assistant\", \"content\": answer})\n",
    "\n",
    "        # 截断历史\n",
    "        if len(history) > max_history:\n",
    "            history = history[-max_history:]"
   ]
  },
  {
   "cell_type": "code",
   "execution_count": 41,
   "id": "b01e6cd5-7283-4bcc-b0bf-ae5c2174c9d7",
   "metadata": {},
   "outputs": [
    {
     "name": "stdout",
     "output_type": "stream",
     "text": [
      "用户:  请问公司有新人培训么\n"
     ]
    },
    {
     "name": "stdout",
     "output_type": "stream",
     "text": [
      "助理: 公司提供为期两周的新员工入职培训，内容包括公司文化介绍、安全协议培训、岗位职责讲解和团队建设活动，并配有导师制度帮助新人快速适应。\n"
     ]
    },
    {
     "name": "stdout",
     "output_type": "stream",
     "text": [
      "用户:  公司有哪些假期呢\n"
     ]
    },
    {
     "name": "stdout",
     "output_type": "stream",
     "text": [
      "助理: 公司提供以下假期福利：  \n",
      "- **法定假期**：元旦、春节、清明、劳动节、端午、中秋和国庆，共11天。  \n",
      "- **带薪年假**：服务1-10年10天，10-20年15天，20年以上20天。  \n",
      "- **病假**：带薪病假按服务年限计算，最长6个月。  \n",
      "- **产假/陪产假**：女性158天，男性15天。  \n",
      "- **其他**：丧假3天，婚假10天。  \n",
      "\n",
      "休假通过在线系统申请，需主管批准。\n"
     ]
    },
    {
     "name": "stdout",
     "output_type": "stream",
     "text": [
      "用户:  好的，对了，你叫什么名字呀？\n"
     ]
    },
    {
     "name": "stdout",
     "output_type": "stream",
     "text": [
      "助理: 我不能回答与 HR 政策无关的问题。\n"
     ]
    },
    {
     "name": "stdout",
     "output_type": "stream",
     "text": [
      "用户:  exit\n"
     ]
    },
    {
     "name": "stdout",
     "output_type": "stream",
     "text": [
      "已退出对话。\n"
     ]
    }
   ],
   "source": [
    "chat_with_hr_bot_loop(full_chain=full_chain)"
   ]
  },
  {
   "cell_type": "markdown",
   "id": "35fff356-c184-46ff-bf61-9ffa867fa241",
   "metadata": {},
   "source": [
    "### 4. 完整聊天机器人代码解释"
   ]
  },
  {
   "cell_type": "markdown",
   "id": "268c0707-ff78-43b5-aad5-94a237ddf561",
   "metadata": {},
   "source": [
    "#### 1️⃣ 载入模型与嵌入模型\n",
    "\n",
    "```python\n",
    "model = init_chat_model(model=\"deepseek-chat\", model_provider=\"deepseek\")  \n",
    "embed = OpenAIEmbeddings(\n",
    "    api_key=OPENAI_EMBEDDING_API_KEY,\n",
    "    base_url=OPENAI_EMBEDDING_BASE_URL,\n",
    "    model=\"text-embedding-3-small\"\n",
    ")\n",
    "```\n",
    "\n",
    "**含义：**\n",
    "\n",
    "* `model`: 用 DeepSeek Chat 模型做对话生成。\n",
    "* `embed`: 用 OpenAI 的 embedding 模型生成文档向量，用于后续检索。\n",
    "\n",
    "#### 2️⃣ 读取 Markdown 并切分\n",
    "\n",
    "```python\n",
    "markdown_splitter = MarkdownHeaderTextSplitter(headers_to_split_on=headers_to_split_on)\n",
    "md_header_splits = markdown_splitter.split_text(md_content)\n",
    "```\n",
    "\n",
    "**含义：**\n",
    "\n",
    "* 把 Markdown 根据标题（# 和 ##）分块切割，生成分段文档。\n",
    "\n",
    "#### 3️⃣ 创建和保存向量索引\n",
    "\n",
    "```python\n",
    "vector_store = FAISS.from_documents(md_header_splits, embedding=embed)\n",
    "vector_store.save_local(\"staff_handbook_db\")\n",
    "```\n",
    "\n",
    "**含义：**\n",
    "\n",
    "* 用 FAISS 向量库对切分好的文档建立索引，保存在本地文件夹。\n",
    "\n",
    "#### 4️⃣ 简单Prompt链\n",
    "\n",
    "```python\n",
    "prompt = PromptTemplate(\n",
    "  input_variables = [\"question\"],\n",
    "  template = \"你是一个乐于助人的智能小助理。擅长根据用户输入的问题给出一个简短的回答：: {question}\"\n",
    ")\n",
    "\n",
    "chain = (\n",
    "  prompt\n",
    "  | model\n",
    "  | StrOutputParser()\n",
    ")\n",
    "```\n",
    "\n",
    "**含义：**\n",
    "\n",
    "* 最简单的问答链，接收一个问题，模型直接生成回答。\n",
    "\n",
    "#### 5️⃣ 历史对话提取逻辑\n",
    "\n",
    "```python\n",
    "def extract_question(input):\n",
    "    return input[-1][\"content\"]\n",
    "\n",
    "def extract_history(input):\n",
    "    return input[:-1]\n",
    "```\n",
    "\n",
    "**含义：**\n",
    "\n",
    "* `extract_question`: 取最新一条用户消息\n",
    "* `extract_history`: 取前面的所有历史消息\n",
    "\n",
    "\n",
    "#### 6️⃣ 带历史记录的回答链\n",
    "\n",
    "这个部分用了 prompt\\_with\\_history：\n",
    "\n",
    "```python\n",
    "prompt_with_history_str = \"\"\"\n",
    "你是一个人力资源助理聊天机器人。请只回答HR相关问题。如果你不知道或者这个问题与人力资源无关，就不要回答。\n",
    "这是你与用户对话的历史记录: {chat_history}\n",
    "现在，请回答这个问题: {question}\n",
    "\"\"\"\n",
    "```\n",
    "\n",
    "**含义：**\n",
    "\n",
    "* 在回答时带上下文。\n",
    "\n",
    "对应的 `chain_with_history`：\n",
    "\n",
    "```python\n",
    "chain_with_history = (\n",
    "    {\n",
    "        \"question\": itemgetter(\"messages\") | RunnableLambda(extract_question), \n",
    "        \"chat_history\": itemgetter(\"messages\") | RunnableLambda(extract_history),\n",
    "    }\n",
    "    | prompt_with_history\n",
    "    | model\n",
    "    | StrOutputParser()\n",
    ")\n",
    "```\n",
    "\n",
    "**含义：**\n",
    "\n",
    "* 输入 `messages`\n",
    "* 分别提取历史和当前问题\n",
    "* 拼到 prompt\n",
    "* 模型输出答案\n",
    "\n",
    "#### 7️⃣ Guardrail（问题分类器）\n",
    "\n",
    "这个部分非常重要：\n",
    "\n",
    "```python\n",
    "hr_question_guardrail = \"\"\"\n",
    "你正在对文档进行分类...\n",
    "...\n",
    "只回答“是”或“否”。\n",
    "\"\"\"\n",
    "```\n",
    "\n",
    "**含义：**\n",
    "\n",
    "* 把输入问题进行**HR相关性判断**\n",
    "* 生成“是”或“否”\n",
    "\n",
    "对应 `guardrail_chain`：\n",
    "\n",
    "```python\n",
    "guardrail_chain = (\n",
    "    {\n",
    "        \"question\": itemgetter(\"messages\") | RunnableLambda(extract_question),\n",
    "        \"chat_history\": itemgetter(\"messages\") | RunnableLambda(extract_history),\n",
    "    }\n",
    "    | guardrail_prompt\n",
    "    | model\n",
    "    | StrOutputParser()\n",
    ")\n",
    "```\n",
    "\n",
    "**作用：**\n",
    "\n",
    "* 分析当前问题是否HR相关\n",
    "\n",
    "#### 8️⃣ Retriever（文档检索器）\n",
    "\n",
    "```python\n",
    "def get_retriever():\n",
    "    embed = OpenAIEmbeddings(...)\n",
    "    vector_store = FAISS.load_local(...)\n",
    "    retriever = vector_store.as_retriever(search_kwargs={'k': 3})\n",
    "    return retriever\n",
    "```\n",
    "\n",
    "**含义：**\n",
    "\n",
    "* 从本地向量库加载向量\n",
    "* 构建检索器返回Top 3相关片段\n",
    "\n",
    "#### 9️⃣ 构建带上下文的回答链\n",
    "\n",
    "这个链比较复杂，分为：\n",
    "\n",
    "✅ 不相关问题：\n",
    "\n",
    "```python\n",
    "irrelevant_question_chain = (\n",
    "  RunnableLambda(lambda x: {\"result\": '我不能回答与 HR 政策无关的问题。'})\n",
    ")\n",
    "```\n",
    "\n",
    "✅ 相关问题：\n",
    "\n",
    "```python\n",
    "relevant_question_chain = (\n",
    "  RunnablePassthrough() \n",
    "  |\n",
    "  {\n",
    "    \"relevant_docs\": prompt | model | StrOutputParser() | retriever,\n",
    "    \"chat_history\": itemgetter(\"chat_history\"), \n",
    "    \"question\": itemgetter(\"question\")\n",
    "  }\n",
    " |\n",
    "  {\n",
    "    \"context\": itemgetter(\"relevant_docs\") | RunnableLambda(format_context),\n",
    "    \"chat_history\": itemgetter(\"chat_history\"), \n",
    "    \"question\": itemgetter(\"question\")\n",
    "  }\n",
    " |\n",
    "  {\n",
    "    \"prompt\": question_with_history_and_context_prompt,         \n",
    "  }\n",
    " |\n",
    "  {\n",
    "    \"result\": itemgetter(\"prompt\") | model | StrOutputParser(),\n",
    "  }\n",
    ")\n",
    "```\n",
    "\n",
    "**含义：**\n",
    "\n",
    "* 如果问题相关：\n",
    "\n",
    "  * 调用检索器得到文档\n",
    "  * 提取历史记录\n",
    "  * 构造回答Prompt\n",
    "  * 再用模型生成最终答案\n",
    "\n",
    "#### 10️⃣ 分支逻辑\n",
    "\n",
    "```python\n",
    "branch_node = RunnableBranch(\n",
    "  (lambda x: \"是\" in x[\"question_is_relevant\"].lower(), relevant_question_chain),\n",
    "  (lambda x: \"否\" in x[\"question_is_relevant\"].lower(), irrelevant_question_chain),\n",
    "  irrelevant_question_chain\n",
    ")\n",
    "```\n",
    "\n",
    "**含义：**\n",
    "\n",
    "* 如果“是”，走相关问题回答\n",
    "* 如果“否”，返回拒答\n",
    "* 如果识别失败，默认拒答\n",
    "\n",
    "#### 11️⃣ Full Chain\n",
    "\n",
    "```python\n",
    "full_chain = (\n",
    "  {\n",
    "    \"question_is_relevant\": guardrail_chain,\n",
    "    \"question\": itemgetter(\"messages\") | RunnableLambda(extract_question),\n",
    "    \"chat_history\": itemgetter(\"messages\") | RunnableLambda(extract_history),    \n",
    "  }\n",
    "  | branch_node\n",
    ")\n",
    "```\n",
    "\n",
    "**含义：**\n",
    "\n",
    "* 把 `messages`一次性处理\n",
    "\n",
    "  * 分类判断\n",
    "    -分支选择\n",
    "    -生成回答"
   ]
  },
  {
   "cell_type": "markdown",
   "id": "db4836c4-2ed5-44ac-969f-e75ff5bdc86a",
   "metadata": {},
   "source": [
    "## 三、基于LangGraph搭建完整的HR政策聊天机器人"
   ]
  },
  {
   "cell_type": "code",
   "execution_count": 50,
   "id": "4e97218e-4708-49a6-bfbc-d82a2acd86f1",
   "metadata": {},
   "outputs": [],
   "source": [
    "\"\"\"\n",
    "LangGraph implementation of the full_chain HR-policy assistant (fixed).\n",
    "---------------------------------------------------------------------\n",
    "✓ 保留原逻辑：50 条历史、HR 分类、FAISS 检索、拒答。\n",
    "✓ 修复: LLM 返回 AIMessage 而非字符串导致的 AttributeError。\n",
    "Run: python langgraph_hr_bot.py\n",
    "\"\"\"\n",
    "from __future__ import annotations\n",
    "\n",
    "import os\n",
    "from typing import List, TypedDict, Optional\n",
    "\n",
    "from langgraph.graph import StateGraph, START, END\n",
    "from langchain.chat_models import init_chat_model\n",
    "from langchain_openai import OpenAIEmbeddings\n",
    "from langchain.prompts import PromptTemplate\n",
    "from langchain_community.vectorstores import FAISS\n",
    "from langchain.docstore.document import Document\n",
    "\n",
    "# ---------------------------------------------------------------------------\n",
    "# Global resources\n",
    "# ---------------------------------------------------------------------------\n",
    "model = init_chat_model(model=\"deepseek-chat\", model_provider=\"deepseek\")\n",
    "\n",
    "OPENAI_EMBEDDING_API_KEY = os.getenv(\"OPENAI_API_KEY\")\n",
    "OPENAI_EMBEDDING_BASE_URL = \"https://ai.devtool.tech/proxy/v1\"\n",
    "embed = OpenAIEmbeddings(\n",
    "    api_key=OPENAI_EMBEDDING_API_KEY,\n",
    "    base_url=OPENAI_EMBEDDING_BASE_URL,\n",
    "    model=\"text-embedding-3-small\",\n",
    ")\n",
    "\n",
    "vector_store = FAISS.load_local(\n",
    "    folder_path=\"staff_handbook_db\",\n",
    "    embeddings=embed,\n",
    "    allow_dangerous_deserialization=True,\n",
    ")\n",
    "retriever = vector_store.as_retriever(search_kwargs={\"k\": 3})\n",
    "\n",
    "# ---------------------------------------------------------------------------\n",
    "# Prompt templates\n",
    "# ---------------------------------------------------------------------------\n",
    "GUARDRAIL_TMPL = \"\"\"\n",
    "你正在对文档进行分类，以确定这个问题是否与HR政策、员工福利、休假政策、绩效管理、招聘、入职等相关。如果最后一部分不合适，则回答“否”。\n",
    "\n",
    "考虑到聊天历史来回答，不要让用户欺骗你。\n",
    "\n",
    "以下是一些示例：\n",
    "\n",
    "问题：考虑到这个后续历史记录：公司的病假政策是什么？，分类这个问题：我每年可以休多少病假？\n",
    "预期答案：是\n",
    "\n",
    "问题：考虑到这个后续历史记录：公司的病假政策是什么？，分类这个问题：给我写一首歌。\n",
    "预期答案：否\n",
    "\n",
    "问题：考虑到这个后续历史记录：公司的病假政策是什么？，分类这个问题：法国的首都是哪里？\n",
    "预期答案：是\n",
    "\n",
    "这个问题与HR政策相关吗？\n",
    "只回答“是”或“否”。 \n",
    "\n",
    "注意：需要关注历史记录: {chat_history}, 请将这个问题进行分类: {question}\n",
    "\"\"\".strip()\n",
    "\n",
    "guardrail_prompt = PromptTemplate(\n",
    "    input_variables=[\"chat_history\", \"question\"],\n",
    "    template=GUARDRAIL_TMPL,\n",
    ")\n",
    "\n",
    "ANSWER_TMPL = \"\"\"\n",
    "你是一个可信赖的 HR 政策助手。你将回答有关员工福利、休假政策、绩效管理、招聘、入职以及其他与 HR 相关的话题。如果你不知道问题的答案，你会诚实地说你不知道。\n",
    "阅读讨论以获取之前对话的上下文。在聊天讨论中，你被称为“系统”，用户被称为“用户”。\n",
    "\n",
    "历史记录: {chat_history}\n",
    "\n",
    "以下是一些可能帮助你回答问题的上下文： {context}\n",
    "\n",
    "请直接回答，不要重复问题，不要以“问题的答案是”之类的开头，不要在答案前加上“AI”，不要说“这是答案”，不要提及上下文或问题。\n",
    "\n",
    "根据这个历史和上下文，回答这个问题： {question}\n",
    "\"\"\".strip()\n",
    "\n",
    "answer_prompt = PromptTemplate(\n",
    "    input_variables=[\"chat_history\", \"context\", \"question\"],\n",
    "    template=ANSWER_TMPL,\n",
    ")\n",
    "\n",
    "# ---------------------------------------------------------------------------\n",
    "# Helpers\n",
    "# ---------------------------------------------------------------------------\n",
    "\n",
    "def _msg_list_to_text(messages: List[dict]) -> str:\n",
    "    return \"\\n\".join(f\"{m['role']}: {m['content']}\" for m in messages)\n",
    "\n",
    "def _docs_to_text(docs: List[Document]) -> str:\n",
    "    return \"\\n\\n\".join(d.page_content for d in docs)\n",
    "\n",
    "def _to_str(llm_output):\n",
    "    \"\"\"Ensure we always get a plain string from model outputs (AIMessage or str).\"\"\"\n",
    "    return llm_output.content if hasattr(llm_output, \"content\") else str(llm_output)\n",
    "\n",
    "# ---------------------------------------------------------------------------\n",
    "# State definition\n",
    "# ---------------------------------------------------------------------------\n",
    "class HRState(TypedDict, total=False):\n",
    "    messages: List[dict]\n",
    "    question: str\n",
    "    is_relevant: bool\n",
    "    context_docs: Optional[List[Document]]\n",
    "    answer_prompt: str\n",
    "    answer: str\n",
    "\n",
    "# ---------------------------------------------------------------------------\n",
    "# Nodes\n",
    "# ---------------------------------------------------------------------------\n",
    "\n",
    "def node_extract(state: HRState) -> HRState:\n",
    "    msgs = state[\"messages\"]\n",
    "    if len(msgs) > 50:\n",
    "        msgs = msgs[-50:]\n",
    "    state[\"messages\"] = msgs\n",
    "    state[\"question\"] = msgs[-1][\"content\"] if msgs else \"\"\n",
    "    return state\n",
    "\n",
    "\n",
    "def node_classify(state: HRState) -> HRState:\n",
    "    history_text = _msg_list_to_text(state[\"messages\"][:-1])\n",
    "    prompt = guardrail_prompt.format(chat_history=history_text, question=state[\"question\"])\n",
    "    resp = model.invoke(prompt)\n",
    "    is_relevant = \"是\" in _to_str(resp).lower()\n",
    "    state[\"is_relevant\"] = is_relevant\n",
    "    return state\n",
    "\n",
    "\n",
    "def node_retrieve(state: HRState) -> HRState:\n",
    "    docs = retriever.invoke(state[\"question\"])\n",
    "    state[\"context_docs\"] = docs\n",
    "    return state\n",
    "\n",
    "\n",
    "def node_compose_prompt(state: HRState) -> HRState:\n",
    "    history_text = _msg_list_to_text(state[\"messages\"][:-1])\n",
    "    context_text = _docs_to_text(state.get(\"context_docs\", []))\n",
    "    full_prompt = answer_prompt.format(\n",
    "        chat_history=history_text,\n",
    "        context=context_text,\n",
    "        question=state[\"question\"],\n",
    "    )\n",
    "    state[\"answer_prompt\"] = full_prompt\n",
    "    return state\n",
    "\n",
    "\n",
    "def node_answer_generate(state: HRState) -> HRState:\n",
    "    resp = model.invoke(state[\"answer_prompt\"])\n",
    "    state[\"answer\"] = _to_str(resp)\n",
    "    return state\n",
    "\n",
    "\n",
    "def node_deny(state: HRState) -> HRState:\n",
    "    state[\"answer\"] = \"我不能回答与 HR 政策无关的问题。\"\n",
    "    return state\n",
    "\n",
    "# ---------------------------------------------------------------------------\n",
    "# Graph assembly\n",
    "# ---------------------------------------------------------------------------\n",
    "\n",
    "graph = StateGraph(HRState)\n",
    "\n",
    "graph.add_node(\"extract\", node_extract)\n",
    "graph.add_node(\"classify\", node_classify)\n",
    "graph.add_node(\"retrieve\", node_retrieve)\n",
    "graph.add_node(\"compose_prompt\", node_compose_prompt)\n",
    "graph.add_node(\"answer_generate\", node_answer_generate)\n",
    "graph.add_node(\"deny\", node_deny)\n",
    "\n",
    "graph.add_edge(START, \"extract\")\n",
    "graph.add_edge(\"extract\", \"classify\")\n",
    "\n",
    "graph.add_conditional_edges(\n",
    "    \"classify\", lambda s: \"retrieve\" if s[\"is_relevant\"] else \"deny\"\n",
    ")\n",
    "\n",
    "graph.add_edge(\"retrieve\", \"compose_prompt\")\n",
    "graph.add_edge(\"compose_prompt\", \"answer_generate\")\n",
    "graph.add_edge(\"answer_generate\", END)\n",
    "graph.add_edge(\"deny\", END)\n",
    "\n",
    "hr_bot = graph.compile()"
   ]
  },
  {
   "cell_type": "code",
   "execution_count": 49,
   "id": "3e979974-802b-4786-be84-44d86ba430ae",
   "metadata": {
    "scrolled": true
   },
   "outputs": [
    {
     "data": {
      "text/plain": [
       "{'messages': [{'role': 'user', 'content': '请问公司如何请病假。'}],\n",
       " 'question': '请问公司如何请病假。',\n",
       " 'is_relevant': True,\n",
       " 'context_docs': [Document(id='207cfc21-d40f-4736-8c71-7b34f12643c4', metadata={'Header 1': '创新科技股份有限公司员工手册', 'Header 2': '第三章：工作时间与出勤'}, page_content='### 3.1 工作时间  \\n公司实行标准工作制，每周五天，每天8小时（上午9:00至下午6:00，包括1小时午休）。为适应不同岗位，公司提供灵活工作选项，如弹性上班时间（8:30-9:30间到岗）和远程办公（每周最多3天），需经主管批准。  \\n加班须事先申请，并按国家劳动法补偿：平日加班1.5倍工资，周末2倍，法定假日3倍。公司监控加班情况，避免员工过度劳累，年度加班上限为200小时。  \\n公司使用电子打卡系统记录时间，支持移动APP打卡。特殊岗位如研发，可采用成果导向制，强调输出而非时长。  \\n### 3.2 出勤要求  \\n员工必须准时出勤，迟到或早退定义为超过10分钟。连续三次迟到将口头警告，累计五次进入书面记录。旷工一天视为严重违纪。  \\n病假或事假须提前24小时通知，并提供医生证明或说明。年度出勤率低于95%将影响绩效奖金。公司提供弹性出勤政策，如育儿假调整时间。  \\n远程工作员工须每日报告进度，并参加视频会议。公司定期审计出勤数据，确保合规。  \\n### 3.3 假期与休假  \\n公司提供丰富的假期福利，遵守国家规定：  \\n- **法定假期**：包括元旦、春节、清明、劳动节、端午、中秋和国庆，共计11天。  \\n- **带薪年假**：服务1-10年者10天，10-20年15天，20年以上20天。未使用年假可顺延或补偿。  \\n- **病假**：带薪病假按服务年限计算，最长6个月。  \\n- **产假/陪产假**：女性158天，男性15天。  \\n- **其他**：丧假3天，婚假10天。  \\n休假申请通过在线系统提交，主管批准后生效。公司鼓励员工规划休假，维持工作生活平衡。示例：年假可分次使用，避免高峰期冲突。'),\n",
       "  Document(id='b292e8ec-a30c-47cf-ada0-0a4834a90f3c', metadata={'Header 1': '创新科技股份有限公司员工手册', 'Header 2': '第七章：健康与安全'}, page_content='### 7.1 安全政策  \\n公司遵守 OSHA 和国家安全标准，提供培训、PPE 和设施。办公室配备灭火器、急救箱和监控。  \\n员工报告隐患，公司每月审计。安全委员会监督执行。  \\n### 7.2 健康促进  \\n推广健康：健身活动、健康讲座和营养指导。疫情协议包括口罩和远程选项。  \\n年度健康检查免费，公司支持戒烟计划。  \\n### 7.3 紧急程序  \\n紧急时：警报、疏散到指定点。提供培训和演习，联系人名单在门户。  \\n公司保险覆盖工伤。'),\n",
       "  Document(id='a4dd78b1-49b6-4b18-966f-90d18b0794aa', metadata={'Header 1': '创新科技股份有限公司员工手册', 'Header 2': '第四章：薪酬与福利'}, page_content='### 4.1 薪酬结构  \\n公司薪酬体系竞争性强，基于市场调研、岗位价值和个人表现。结构包括：  \\n- **基本工资**：固定部分，占总薪酬70%。  \\n- **绩效奖金**：根据KPI发放，最高基本工资30%。  \\n- **津贴**：交通补贴（每月500元）、餐补（每日20元）和通讯费（每月100元）。  \\n- **股权激励**：适用于中高层，基于公司业绩。  \\n年度薪酬审查于12月进行，考虑通胀和贡献。员工可通过绩效对话协商调整。公司确保薪酬公平，避免性别或资历歧视。  \\n### 4.2 福利计划  \\n公司提供全面福利，提升员工生活质量：  \\n- **社会保险**：五险一金，全额缴纳。  \\n- **补充医疗**：覆盖门诊和住院，年度限额10万元。  \\n- **健康福利**：年度体检、健身卡补贴（每年2000元）和心理咨询服务。  \\n- **教育援助**：报销职业培训费用，上限5000元/年。  \\n- **家庭支持**：儿童教育补贴和弹性工作制。  \\n- **退休计划**：企业年金，匹配员工贡献5%。  \\n福利选项弹性化，员工可通过积分系统选择偏好。公司每年审视福利，基于反馈优化。  \\n### 4.3 报销政策  \\n业务费用报销需遵守严格程序：  \\n- **差旅费**：机票、住宿和交通，按标准限额（经济舱、三星酒店）。  \\n- **培训费**：课程和材料，需预批准。  \\n- **其他**：办公用品和娱乐，月上限1000元。  \\n员工提交电子收据，主管审核，人力资源部支付。个人费用禁止报销，违规扣款并警告。公司使用ERP系统跟踪报销，确保透明。')],\n",
       " 'answer_prompt': '你是一个可信赖的 HR 政策助手。你将回答有关员工福利、休假政策、绩效管理、招聘、入职以及其他与 HR 相关的话题。如果你不知道问题的答案，你会诚实地说你不知道。\\n阅读讨论以获取之前对话的上下文。在聊天讨论中，你被称为“系统”，用户被称为“用户”。\\n\\n历史记录: \\n\\n以下是一些可能帮助你回答问题的上下文： ### 3.1 工作时间  \\n公司实行标准工作制，每周五天，每天8小时（上午9:00至下午6:00，包括1小时午休）。为适应不同岗位，公司提供灵活工作选项，如弹性上班时间（8:30-9:30间到岗）和远程办公（每周最多3天），需经主管批准。  \\n加班须事先申请，并按国家劳动法补偿：平日加班1.5倍工资，周末2倍，法定假日3倍。公司监控加班情况，避免员工过度劳累，年度加班上限为200小时。  \\n公司使用电子打卡系统记录时间，支持移动APP打卡。特殊岗位如研发，可采用成果导向制，强调输出而非时长。  \\n### 3.2 出勤要求  \\n员工必须准时出勤，迟到或早退定义为超过10分钟。连续三次迟到将口头警告，累计五次进入书面记录。旷工一天视为严重违纪。  \\n病假或事假须提前24小时通知，并提供医生证明或说明。年度出勤率低于95%将影响绩效奖金。公司提供弹性出勤政策，如育儿假调整时间。  \\n远程工作员工须每日报告进度，并参加视频会议。公司定期审计出勤数据，确保合规。  \\n### 3.3 假期与休假  \\n公司提供丰富的假期福利，遵守国家规定：  \\n- **法定假期**：包括元旦、春节、清明、劳动节、端午、中秋和国庆，共计11天。  \\n- **带薪年假**：服务1-10年者10天，10-20年15天，20年以上20天。未使用年假可顺延或补偿。  \\n- **病假**：带薪病假按服务年限计算，最长6个月。  \\n- **产假/陪产假**：女性158天，男性15天。  \\n- **其他**：丧假3天，婚假10天。  \\n休假申请通过在线系统提交，主管批准后生效。公司鼓励员工规划休假，维持工作生活平衡。示例：年假可分次使用，避免高峰期冲突。\\n\\n### 7.1 安全政策  \\n公司遵守 OSHA 和国家安全标准，提供培训、PPE 和设施。办公室配备灭火器、急救箱和监控。  \\n员工报告隐患，公司每月审计。安全委员会监督执行。  \\n### 7.2 健康促进  \\n推广健康：健身活动、健康讲座和营养指导。疫情协议包括口罩和远程选项。  \\n年度健康检查免费，公司支持戒烟计划。  \\n### 7.3 紧急程序  \\n紧急时：警报、疏散到指定点。提供培训和演习，联系人名单在门户。  \\n公司保险覆盖工伤。\\n\\n### 4.1 薪酬结构  \\n公司薪酬体系竞争性强，基于市场调研、岗位价值和个人表现。结构包括：  \\n- **基本工资**：固定部分，占总薪酬70%。  \\n- **绩效奖金**：根据KPI发放，最高基本工资30%。  \\n- **津贴**：交通补贴（每月500元）、餐补（每日20元）和通讯费（每月100元）。  \\n- **股权激励**：适用于中高层，基于公司业绩。  \\n年度薪酬审查于12月进行，考虑通胀和贡献。员工可通过绩效对话协商调整。公司确保薪酬公平，避免性别或资历歧视。  \\n### 4.2 福利计划  \\n公司提供全面福利，提升员工生活质量：  \\n- **社会保险**：五险一金，全额缴纳。  \\n- **补充医疗**：覆盖门诊和住院，年度限额10万元。  \\n- **健康福利**：年度体检、健身卡补贴（每年2000元）和心理咨询服务。  \\n- **教育援助**：报销职业培训费用，上限5000元/年。  \\n- **家庭支持**：儿童教育补贴和弹性工作制。  \\n- **退休计划**：企业年金，匹配员工贡献5%。  \\n福利选项弹性化，员工可通过积分系统选择偏好。公司每年审视福利，基于反馈优化。  \\n### 4.3 报销政策  \\n业务费用报销需遵守严格程序：  \\n- **差旅费**：机票、住宿和交通，按标准限额（经济舱、三星酒店）。  \\n- **培训费**：课程和材料，需预批准。  \\n- **其他**：办公用品和娱乐，月上限1000元。  \\n员工提交电子收据，主管审核，人力资源部支付。个人费用禁止报销，违规扣款并警告。公司使用ERP系统跟踪报销，确保透明。\\n\\n请直接回答，不要重复问题，不要以“问题的答案是”之类的开头，不要在答案前加上“AI”，不要说“这是答案”，不要提及上下文或问题。\\n\\n根据这个历史和上下文，回答这个问题： 请问公司如何请病假。',\n",
       " 'answer': '病假需提前24小时通知主管，并提供医生证明。带薪病假时长根据服务年限计算，最长不超过6个月。申请通过在线系统提交，经批准后生效。'}"
      ]
     },
     "execution_count": 49,
     "metadata": {},
     "output_type": "execute_result"
    }
   ],
   "source": [
    "hr_bot.invoke({\"messages\": [{\"role\": \"user\", \"content\": \"请问公司如何请病假。\"}]})"
   ]
  },
  {
   "cell_type": "code",
   "execution_count": 52,
   "id": "5a5d491a-de47-4bc2-a89c-f7dbcc573c4b",
   "metadata": {
    "scrolled": true
   },
   "outputs": [
    {
     "data": {
      "text/plain": [
       "{'messages': [{'role': 'user', 'content': '请问公司员工的薪酬结构是？'}],\n",
       " 'question': '请问公司员工的薪酬结构是？',\n",
       " 'is_relevant': True,\n",
       " 'context_docs': [Document(id='a4dd78b1-49b6-4b18-966f-90d18b0794aa', metadata={'Header 1': '创新科技股份有限公司员工手册', 'Header 2': '第四章：薪酬与福利'}, page_content='### 4.1 薪酬结构  \\n公司薪酬体系竞争性强，基于市场调研、岗位价值和个人表现。结构包括：  \\n- **基本工资**：固定部分，占总薪酬70%。  \\n- **绩效奖金**：根据KPI发放，最高基本工资30%。  \\n- **津贴**：交通补贴（每月500元）、餐补（每日20元）和通讯费（每月100元）。  \\n- **股权激励**：适用于中高层，基于公司业绩。  \\n年度薪酬审查于12月进行，考虑通胀和贡献。员工可通过绩效对话协商调整。公司确保薪酬公平，避免性别或资历歧视。  \\n### 4.2 福利计划  \\n公司提供全面福利，提升员工生活质量：  \\n- **社会保险**：五险一金，全额缴纳。  \\n- **补充医疗**：覆盖门诊和住院，年度限额10万元。  \\n- **健康福利**：年度体检、健身卡补贴（每年2000元）和心理咨询服务。  \\n- **教育援助**：报销职业培训费用，上限5000元/年。  \\n- **家庭支持**：儿童教育补贴和弹性工作制。  \\n- **退休计划**：企业年金，匹配员工贡献5%。  \\n福利选项弹性化，员工可通过积分系统选择偏好。公司每年审视福利，基于反馈优化。  \\n### 4.3 报销政策  \\n业务费用报销需遵守严格程序：  \\n- **差旅费**：机票、住宿和交通，按标准限额（经济舱、三星酒店）。  \\n- **培训费**：课程和材料，需预批准。  \\n- **其他**：办公用品和娱乐，月上限1000元。  \\n员工提交电子收据，主管审核，人力资源部支付。个人费用禁止报销，违规扣款并警告。公司使用ERP系统跟踪报销，确保透明。'),\n",
       "  Document(id='7138fd4e-5784-4a08-aa2c-cff5bb13d2f7', metadata={'Header 1': '创新科技股份有限公司员工手册', 'Header 2': '第五章：绩效评估'}, page_content='### 5.1 评估程序  \\n公司采用综合绩效评估系统，每半年一次，包括：  \\n1. **目标设定**：年初定义SMART目标。  \\n2. **中期审查**：反馈进展。  \\n3. **年度评估**：自我评估、主管评分和360度反馈。  \\n评估维度：目标达成（50%）、技能发展（20%）、团队贡献（20%）和价值观体现（10%）。结果分级：优秀、良好、合格、需改进。  \\n评估影响薪酬、奖金和晋升。公司提供工具如绩效软件，支持实时跟踪。  \\n### 5.2 培训与发展  \\n公司投资员工成长，年度培训预算每人8000元。程序包括：  \\n- **内部培训**：技能workshop和领导力课程。  \\n- **外部机会**：研讨会、在线平台如Coursera。  \\n- **职业路径**：导师指导、轮岗和晋升计划。  \\n绩效不佳者进入PIP（绩效改进计划），持续90天，包括目标和支持。若无改善，可能降职或解雇。公司鼓励终身学习，提供证书奖励。'),\n",
       "  Document(id='207cfc21-d40f-4736-8c71-7b34f12643c4', metadata={'Header 1': '创新科技股份有限公司员工手册', 'Header 2': '第三章：工作时间与出勤'}, page_content='### 3.1 工作时间  \\n公司实行标准工作制，每周五天，每天8小时（上午9:00至下午6:00，包括1小时午休）。为适应不同岗位，公司提供灵活工作选项，如弹性上班时间（8:30-9:30间到岗）和远程办公（每周最多3天），需经主管批准。  \\n加班须事先申请，并按国家劳动法补偿：平日加班1.5倍工资，周末2倍，法定假日3倍。公司监控加班情况，避免员工过度劳累，年度加班上限为200小时。  \\n公司使用电子打卡系统记录时间，支持移动APP打卡。特殊岗位如研发，可采用成果导向制，强调输出而非时长。  \\n### 3.2 出勤要求  \\n员工必须准时出勤，迟到或早退定义为超过10分钟。连续三次迟到将口头警告，累计五次进入书面记录。旷工一天视为严重违纪。  \\n病假或事假须提前24小时通知，并提供医生证明或说明。年度出勤率低于95%将影响绩效奖金。公司提供弹性出勤政策，如育儿假调整时间。  \\n远程工作员工须每日报告进度，并参加视频会议。公司定期审计出勤数据，确保合规。  \\n### 3.3 假期与休假  \\n公司提供丰富的假期福利，遵守国家规定：  \\n- **法定假期**：包括元旦、春节、清明、劳动节、端午、中秋和国庆，共计11天。  \\n- **带薪年假**：服务1-10年者10天，10-20年15天，20年以上20天。未使用年假可顺延或补偿。  \\n- **病假**：带薪病假按服务年限计算，最长6个月。  \\n- **产假/陪产假**：女性158天，男性15天。  \\n- **其他**：丧假3天，婚假10天。  \\n休假申请通过在线系统提交，主管批准后生效。公司鼓励员工规划休假，维持工作生活平衡。示例：年假可分次使用，避免高峰期冲突。')],\n",
       " 'answer_prompt': '你是一个可信赖的 HR 政策助手。你将回答有关员工福利、休假政策、绩效管理、招聘、入职以及其他与 HR 相关的话题。如果你不知道问题的答案，你会诚实地说你不知道。\\n阅读讨论以获取之前对话的上下文。在聊天讨论中，你被称为“系统”，用户被称为“用户”。\\n\\n历史记录: \\n\\n以下是一些可能帮助你回答问题的上下文： ### 4.1 薪酬结构  \\n公司薪酬体系竞争性强，基于市场调研、岗位价值和个人表现。结构包括：  \\n- **基本工资**：固定部分，占总薪酬70%。  \\n- **绩效奖金**：根据KPI发放，最高基本工资30%。  \\n- **津贴**：交通补贴（每月500元）、餐补（每日20元）和通讯费（每月100元）。  \\n- **股权激励**：适用于中高层，基于公司业绩。  \\n年度薪酬审查于12月进行，考虑通胀和贡献。员工可通过绩效对话协商调整。公司确保薪酬公平，避免性别或资历歧视。  \\n### 4.2 福利计划  \\n公司提供全面福利，提升员工生活质量：  \\n- **社会保险**：五险一金，全额缴纳。  \\n- **补充医疗**：覆盖门诊和住院，年度限额10万元。  \\n- **健康福利**：年度体检、健身卡补贴（每年2000元）和心理咨询服务。  \\n- **教育援助**：报销职业培训费用，上限5000元/年。  \\n- **家庭支持**：儿童教育补贴和弹性工作制。  \\n- **退休计划**：企业年金，匹配员工贡献5%。  \\n福利选项弹性化，员工可通过积分系统选择偏好。公司每年审视福利，基于反馈优化。  \\n### 4.3 报销政策  \\n业务费用报销需遵守严格程序：  \\n- **差旅费**：机票、住宿和交通，按标准限额（经济舱、三星酒店）。  \\n- **培训费**：课程和材料，需预批准。  \\n- **其他**：办公用品和娱乐，月上限1000元。  \\n员工提交电子收据，主管审核，人力资源部支付。个人费用禁止报销，违规扣款并警告。公司使用ERP系统跟踪报销，确保透明。\\n\\n### 5.1 评估程序  \\n公司采用综合绩效评估系统，每半年一次，包括：  \\n1. **目标设定**：年初定义SMART目标。  \\n2. **中期审查**：反馈进展。  \\n3. **年度评估**：自我评估、主管评分和360度反馈。  \\n评估维度：目标达成（50%）、技能发展（20%）、团队贡献（20%）和价值观体现（10%）。结果分级：优秀、良好、合格、需改进。  \\n评估影响薪酬、奖金和晋升。公司提供工具如绩效软件，支持实时跟踪。  \\n### 5.2 培训与发展  \\n公司投资员工成长，年度培训预算每人8000元。程序包括：  \\n- **内部培训**：技能workshop和领导力课程。  \\n- **外部机会**：研讨会、在线平台如Coursera。  \\n- **职业路径**：导师指导、轮岗和晋升计划。  \\n绩效不佳者进入PIP（绩效改进计划），持续90天，包括目标和支持。若无改善，可能降职或解雇。公司鼓励终身学习，提供证书奖励。\\n\\n### 3.1 工作时间  \\n公司实行标准工作制，每周五天，每天8小时（上午9:00至下午6:00，包括1小时午休）。为适应不同岗位，公司提供灵活工作选项，如弹性上班时间（8:30-9:30间到岗）和远程办公（每周最多3天），需经主管批准。  \\n加班须事先申请，并按国家劳动法补偿：平日加班1.5倍工资，周末2倍，法定假日3倍。公司监控加班情况，避免员工过度劳累，年度加班上限为200小时。  \\n公司使用电子打卡系统记录时间，支持移动APP打卡。特殊岗位如研发，可采用成果导向制，强调输出而非时长。  \\n### 3.2 出勤要求  \\n员工必须准时出勤，迟到或早退定义为超过10分钟。连续三次迟到将口头警告，累计五次进入书面记录。旷工一天视为严重违纪。  \\n病假或事假须提前24小时通知，并提供医生证明或说明。年度出勤率低于95%将影响绩效奖金。公司提供弹性出勤政策，如育儿假调整时间。  \\n远程工作员工须每日报告进度，并参加视频会议。公司定期审计出勤数据，确保合规。  \\n### 3.3 假期与休假  \\n公司提供丰富的假期福利，遵守国家规定：  \\n- **法定假期**：包括元旦、春节、清明、劳动节、端午、中秋和国庆，共计11天。  \\n- **带薪年假**：服务1-10年者10天，10-20年15天，20年以上20天。未使用年假可顺延或补偿。  \\n- **病假**：带薪病假按服务年限计算，最长6个月。  \\n- **产假/陪产假**：女性158天，男性15天。  \\n- **其他**：丧假3天，婚假10天。  \\n休假申请通过在线系统提交，主管批准后生效。公司鼓励员工规划休假，维持工作生活平衡。示例：年假可分次使用，避免高峰期冲突。\\n\\n请直接回答，不要重复问题，不要以“问题的答案是”之类的开头，不要在答案前加上“AI”，不要说“这是答案”，不要提及上下文或问题。\\n\\n根据这个历史和上下文，回答这个问题： 请问公司员工的薪酬结构是？',\n",
       " 'answer': '公司薪酬结构包括：  \\n1. **基本工资**：固定部分，占总薪酬70%；  \\n2. **绩效奖金**：根据KPI发放，最高为基本工资30%；  \\n3. **津贴**：交通补贴（每月500元）、餐补（每日20元）、通讯费（每月100元）；  \\n4. **股权激励**：适用于中高层，与公司业绩挂钩。  \\n\\n年度薪酬审查在12月进行，综合考虑通胀和员工贡献，支持通过绩效对话协商调整。'}"
      ]
     },
     "execution_count": 52,
     "metadata": {},
     "output_type": "execute_result"
    }
   ],
   "source": [
    "hr_bot.invoke({\"messages\": [{\"role\": \"user\", \"content\": \"请问公司员工的薪酬结构是？\"}]})"
   ]
  },
  {
   "cell_type": "code",
   "execution_count": 53,
   "id": "bb738399-4269-4dfe-aada-353cb24bb66a",
   "metadata": {},
   "outputs": [
    {
     "data": {
      "text/plain": [
       "{'messages': [{'role': 'user', 'content': '请问今天天气如何？'}],\n",
       " 'question': '请问今天天气如何？',\n",
       " 'is_relevant': False,\n",
       " 'answer': '我不能回答与 HR 政策无关的问题。'}"
      ]
     },
     "execution_count": 53,
     "metadata": {},
     "output_type": "execute_result"
    }
   ],
   "source": [
    "hr_bot.invoke({\"messages\": [{\"role\": \"user\", \"content\": \"请问今天天气如何？\"}]})"
   ]
  },
  {
   "cell_type": "markdown",
   "id": "8b75e329-f2d6-43a8-9c03-88293a42839e",
   "metadata": {},
   "source": [
    "- 完整结构如下："
   ]
  },
  {
   "cell_type": "raw",
   "id": "75d1cf94-4218-48c0-a95f-309e34a2c109",
   "metadata": {},
   "source": [
    "【开始】 START\n",
    "    ↓\n",
    "【节点】Extract（提取问题 + 截取最近50条对话）\n",
    "    ↓\n",
    "【节点】Classify（使用护栏Prompt判断问题是否属于HR范围）\n",
    "    ↓\n",
    "【分支判断】\n",
    "    ├─ 如果【是HR相关】：\n",
    "    │\n",
    "    │   ↓\n",
    "    │ 【节点】Retrieve（用FAISS向量检索获取相关文档）\n",
    "    │     ↓\n",
    "    │ 【节点】ComposePrompt（把上下文和对话拼接成完整Prompt）\n",
    "    │     ↓\n",
    "    │ 【节点】AnswerGenerate（调用模型生成回答）\n",
    "    │     ↓\n",
    "    │ 【结束】END\n",
    "    │\n",
    "    └─ 如果【不是HR相关】：\n",
    "          ↓\n",
    "        【节点】Deny（返回“我不能回答与HR政策无关的问题。”）\n",
    "          ↓\n",
    "        【结束】END\n"
   ]
  },
  {
   "cell_type": "markdown",
   "id": "39233f2a-1c22-4fe2-897b-36c8992a26a3",
   "metadata": {},
   "source": [
    "完整代码解释如下："
   ]
  },
  {
   "cell_type": "markdown",
   "id": "139891c9-a7b8-4b01-855a-66edccc7dcd9",
   "metadata": {},
   "source": [
    "#### 🟢 **一、文件头部与依赖导入**\n",
    "\n",
    "```python\n",
    "from __future__ import annotations\n",
    "import os\n",
    "from typing import List, TypedDict, Optional\n",
    "```\n",
    "\n",
    "* `__future__ import annotations`：允许 Python 3.7+ 推迟类型注解的求值，避免循环依赖问题。\n",
    "* `os`：用于获取环境变量。\n",
    "* `typing`：定义类型提示。\n",
    "\n",
    "```python\n",
    "from langgraph.graph import StateGraph, START, END\n",
    "from langchain.chat_models import init_chat_model\n",
    "from langchain_openai import OpenAIEmbeddings\n",
    "from langchain.prompts import PromptTemplate\n",
    "from langchain_community.vectorstores import FAISS\n",
    "from langchain.docstore.document import Document\n",
    "```\n",
    "\n",
    "这些是**LangChain**和**LangGraph**的核心依赖：\n",
    "\n",
    "* `StateGraph`：LangGraph的状态图，用来定义对话流程。\n",
    "* `init_chat_model`：初始化聊天模型（这里用DeepSeek）。\n",
    "* `OpenAIEmbeddings`：用于生成文本Embedding。\n",
    "* `FAISS`：用于向量检索。\n",
    "* `PromptTemplate`：用于定义Prompt模板。\n",
    "\n",
    "#### 🟢 **二、模型与检索器初始化**\n",
    "\n",
    "##### 1）初始化聊天模型\n",
    "\n",
    "```python\n",
    "model = init_chat_model(model=\"deepseek-chat\", model_provider=\"deepseek\")\n",
    "```\n",
    "\n",
    "这里创建了一个 DeepSeek Chat 模型，用于后续生成回复。\n",
    "\n",
    "##### 2）Embedding模型\n",
    "\n",
    "```python\n",
    "OPENAI_EMBEDDING_API_KEY = os.getenv(\"OPENAI_API_KEY\")\n",
    "OPENAI_EMBEDDING_BASE_URL = \"https://ai.devtool.tech/proxy/v1\"\n",
    "embed = OpenAIEmbeddings(\n",
    "    api_key=OPENAI_EMBEDDING_API_KEY,\n",
    "    base_url=OPENAI_EMBEDDING_BASE_URL,\n",
    "    model=\"text-embedding-3-small\",\n",
    ")\n",
    "```\n",
    "\n",
    "* 从环境变量中获取API Key。\n",
    "* 指定了自定义代理（`base_url`）。\n",
    "* 使用`text-embedding-3-small`模型生成Embedding向量。\n",
    "\n",
    "##### 3）加载FAISS检索库\n",
    "\n",
    "```python\n",
    "vector_store = FAISS.load_local(\n",
    "    folder_path=\"staff_handbook_db\",\n",
    "    embeddings=embed,\n",
    "    allow_dangerous_deserialization=True,\n",
    ")\n",
    "retriever = vector_store.as_retriever(search_kwargs={\"k\": 3})\n",
    "```\n",
    "\n",
    "* 加载之前已创建的FAISS数据库（存有员工手册向量）。\n",
    "* `as_retriever`把它变成检索器，查询返回最相关的3条内容。\n",
    "\n",
    "---\n",
    "\n",
    "#### 🟢 **三、Prompt模板**\n",
    "\n",
    "##### 1）护栏（分类）Prompt\n",
    "\n",
    "```python\n",
    "GUARDRAIL_TMPL = \"\"\"\n",
    "...\n",
    "\"\"\".strip()\n",
    "```\n",
    "\n",
    "这是一个**分类Prompt**，目的是判断问题是否属于HR范围，回答“是”或“否”。\n",
    "\n",
    "对应的封装：\n",
    "\n",
    "```python\n",
    "guardrail_prompt = PromptTemplate(\n",
    "    input_variables=[\"chat_history\", \"question\"],\n",
    "    template=GUARDRAIL_TMPL,\n",
    ")\n",
    "```\n",
    "\n",
    "##### 2）答案生成Prompt\n",
    "\n",
    "```python\n",
    "ANSWER_TMPL = \"\"\"\n",
    "...\n",
    "\"\"\".strip()\n",
    "```\n",
    "\n",
    "这是回答问题的Prompt，要求：\n",
    "\n",
    "* 不重复问题。\n",
    "* 不说“这是答案”。\n",
    "* 不提上下文。\n",
    "\n",
    "封装：\n",
    "\n",
    "```python\n",
    "answer_prompt = PromptTemplate(\n",
    "    input_variables=[\"chat_history\", \"context\", \"question\"],\n",
    "    template=ANSWER_TMPL,\n",
    ")\n",
    "```\n",
    "\n",
    "#### 🟢 **四、辅助函数**\n",
    "\n",
    "1. **把消息列表变成字符串**\n",
    "\n",
    "```python\n",
    "def _msg_list_to_text(messages: List[dict]) -> str:\n",
    "    return \"\\n\".join(f\"{m['role']}: {m['content']}\" for m in messages)\n",
    "```\n",
    "\n",
    "作用：把对话历史格式化成字符串。\n",
    "\n",
    "2. **把文档列表变成字符串**\n",
    "\n",
    "```python\n",
    "def _docs_to_text(docs: List[Document]) -> str:\n",
    "    return \"\\n\\n\".join(d.page_content for d in docs)\n",
    "```\n",
    "\n",
    "作用：拼接检索到的文档文本。\n",
    "\n",
    "3. **确保返回纯文本**\n",
    "\n",
    "```python\n",
    "def _to_str(llm_output):\n",
    "    return llm_output.content if hasattr(llm_output, \"content\") else str(llm_output)\n",
    "```\n",
    "\n",
    "作用：兼容LLM返回的不同类型（AIMessage或str）。\n",
    "\n",
    "\n",
    "#### 🟢 **五、状态定义**\n",
    "\n",
    "```python\n",
    "class HRState(TypedDict, total=False):\n",
    "    messages: List[dict]\n",
    "    question: str\n",
    "    is_relevant: bool\n",
    "    context_docs: Optional[List[Document]]\n",
    "    answer_prompt: str\n",
    "    answer: str\n",
    "```\n",
    "\n",
    "这是LangGraph的**对话状态**，用于在流程里保存：\n",
    "\n",
    "* 当前对话消息\n",
    "* 用户问题\n",
    "* 是否相关\n",
    "* 检索文档\n",
    "* 生成用的Prompt\n",
    "* 最终答案\n",
    "\n",
    "#### 🟢 **六、流程节点**\n",
    "\n",
    "每个“节点”是对话中的一个逻辑步骤。\n",
    "\n",
    "---\n",
    "\n",
    "##### 1）提取问题\n",
    "\n",
    "```python\n",
    "def node_extract(state: HRState) -> HRState:\n",
    "    msgs = state[\"messages\"]\n",
    "    if len(msgs) > 50:\n",
    "        msgs = msgs[-50:]  # 只保留最新50条消息\n",
    "    state[\"messages\"] = msgs\n",
    "    state[\"question\"] = msgs[-1][\"content\"] if msgs else \"\"\n",
    "    return state\n",
    "```\n",
    "\n",
    "作用：提取用户问题，并保留最近对话。\n",
    "\n",
    "##### 2）分类\n",
    "\n",
    "```python\n",
    "def node_classify(state: HRState) -> HRState:\n",
    "    history_text = _msg_list_to_text(state[\"messages\"][:-1])\n",
    "    prompt = guardrail_prompt.format(chat_history=history_text, question=state[\"question\"])\n",
    "    resp = model.invoke(prompt)\n",
    "    is_relevant = \"是\" in _to_str(resp).lower()\n",
    "    state[\"is_relevant\"] = is_relevant\n",
    "    return state\n",
    "```\n",
    "\n",
    "作用：\n",
    "\n",
    "* 用分类Prompt判断问题是否属于HR范围。\n",
    "* 把“是/否”结果写入状态。\n",
    "\n",
    "##### 3）检索\n",
    "\n",
    "```python\n",
    "def node_retrieve(state: HRState) -> HRState:\n",
    "    docs = retriever.invoke(state[\"question\"])\n",
    "    state[\"context_docs\"] = docs\n",
    "    return state\n",
    "```\n",
    "\n",
    "作用：用检索器找到最相关文档。\n",
    "\n",
    "---\n",
    "\n",
    "##### 4）生成回答Prompt\n",
    "\n",
    "```python\n",
    "def node_compose_prompt(state: HRState) -> HRState:\n",
    "    history_text = _msg_list_to_text(state[\"messages\"][:-1])\n",
    "    context_text = _docs_to_text(state.get(\"context_docs\", []))\n",
    "    full_prompt = answer_prompt.format(\n",
    "        chat_history=history_text,\n",
    "        context=context_text,\n",
    "        question=state[\"question\"],\n",
    "    )\n",
    "    state[\"answer_prompt\"] = full_prompt\n",
    "    return state\n",
    "```\n",
    "\n",
    "作用：把检索到的文档和对话历史拼接成完整的回答Prompt。\n",
    "\n",
    "##### 5）生成答案\n",
    "\n",
    "```python\n",
    "def node_answer_generate(state: HRState) -> HRState:\n",
    "    resp = model.invoke(state[\"answer_prompt\"])\n",
    "    state[\"answer\"] = _to_str(resp)\n",
    "    return state\n",
    "```\n",
    "\n",
    "作用：调用模型生成最终答案。\n",
    "\n",
    "##### 6）拒答\n",
    "\n",
    "```python\n",
    "def node_deny(state: HRState) -> HRState:\n",
    "    state[\"answer\"] = \"我不能回答与 HR 政策无关的问题。\"\n",
    "    return state\n",
    "```\n",
    "\n",
    "作用：如果问题不相关，返回统一拒答。\n",
    "\n",
    "#### 🟢 **七、组装LangGraph流程**\n",
    "\n",
    "```python\n",
    "graph = StateGraph(HRState)\n",
    "\n",
    "graph.add_node(\"extract\", node_extract)\n",
    "graph.add_node(\"classify\", node_classify)\n",
    "graph.add_node(\"retrieve\", node_retrieve)\n",
    "graph.add_node(\"compose_prompt\", node_compose_prompt)\n",
    "graph.add_node(\"answer_generate\", node_answer_generate)\n",
    "graph.add_node(\"deny\", node_deny)\n",
    "```\n",
    "\n",
    "先把所有节点注册进Graph。\n",
    "\n",
    "\n",
    "##### 定义流程顺序\n",
    "\n",
    "```python\n",
    "graph.add_edge(START, \"extract\")\n",
    "graph.add_edge(\"extract\", \"classify\")\n",
    "```\n",
    "\n",
    "从START到extract，再到classify。\n",
    "\n",
    "\n",
    "##### 分类后的分支\n",
    "\n",
    "```python\n",
    "graph.add_conditional_edges(\n",
    "    \"classify\", lambda s: \"retrieve\" if s[\"is_relevant\"] else \"deny\"\n",
    ")\n",
    "```\n",
    "\n",
    "如果相关，走“retrieve”，否则走“deny”。\n",
    "\n",
    "\n",
    "##### 回答分支\n",
    "\n",
    "```python\n",
    "graph.add_edge(\"retrieve\", \"compose_prompt\")\n",
    "graph.add_edge(\"compose_prompt\", \"answer_generate\")\n",
    "graph.add_edge(\"answer_generate\", END)\n",
    "graph.add_edge(\"deny\", END)\n",
    "```\n",
    "\n",
    "最后统一到END。\n",
    "\n",
    "##### 编译Graph\n",
    "\n",
    "```python\n",
    "hr_bot = graph.compile()\n",
    "```\n",
    "\n",
    "将定义好的流程图编译成可运行的LangGraph应用。"
   ]
  },
  {
   "cell_type": "markdown",
   "id": "71599bc9-55e4-4d0d-92d0-62fa5fb0a434",
   "metadata": {},
   "source": [
    "<center><img src=\"https://ml2022.oss-cn-hangzhou.aliyuncs.com/img/image-20250711200035117.png\" alt=\"image-20250711200035117\" style=\"zoom:50%;\" />"
   ]
  },
  {
   "cell_type": "markdown",
   "id": "14a8a502-47af-451d-abb3-03c1dec8e8f3",
   "metadata": {},
   "source": [
    "> 注，这里关于将LangGraph项目部署上线以及前端应用的相关内容，可以参考《LangGraph技术实战公开课》：https://www.bilibili.com/video/BV1Kx3CzyE6Q/\n",
    "> <center><img src=\"https://ml2022.oss-cn-hangzhou.aliyuncs.com/img/image-20250727222842762.png\" alt=\"image-20250727222842762\" style=\"zoom:33%;\" />"
   ]
  },
  {
   "cell_type": "markdown",
   "id": "15b2fce1-6f9c-435c-a083-f3ae5bb2b581",
   "metadata": {},
   "source": [
    "---"
   ]
  },
  {
   "cell_type": "markdown",
   "id": "ffc8f8ea-d907-4740-8396-b15ea1e3bfa5",
   "metadata": {},
   "source": [
    "# 【赠送&参考】5. 本地部署企业级 RAG 系统"
   ]
  },
  {
   "cell_type": "markdown",
   "id": "6dc74d8d-6eba-419a-acb3-b0c40b82ed52",
   "metadata": {},
   "source": [
    "&emsp;&emsp;`LangChain-ChatChat`（原名 `LangChain-ChatGLM`）是一款基于 `LangChain` 框架和本地大模型的知识库问答（`RAG`）应用。它面向需要脱机部署的用户，尤其关注 中文场景下的私有化大模型应用 需求，目标是通过现成的开源模型和本地知识库构建完整的问答助手。项目支持多种开源 `LLM`（如 `ChatGLM`、`Qwen3`、`DeepSeek` 等）和多种模型推理框架（如 `Xinference`、`Ollama`、`FastChat` 等），也可调用 `OpenAI` 等在线 `API`，开发者可选择本地部署或在线服务。总之，`ChatChat` 致力于提供一个易用的知识库增强问答系统，可以帮助企业在本地私有数据上利用大模型进行检索式生成和多轮对话。是学习`LangChain`的绝佳项目案例。"
   ]
  },
  {
   "cell_type": "markdown",
   "id": "9d991f14-1c91-4590-b56b-24c67f8d0a27",
   "metadata": {},
   "source": [
    "## 5.1 LangChain-ChatChat项目介绍"
   ]
  },
  {
   "cell_type": "markdown",
   "id": "ca2bff71-bafa-43be-bc8b-d97f26d90e53",
   "metadata": {},
   "source": [
    "&emsp;&emsp;`LangChain-ChatChat` 于 2023 年 4 月 以 “`LangChain-ChatGLM`” 名称发布第一个版本（`0.1.0`），首次支持基于 `ChatGLM-6B` 的本地知识库问答。随后 8 月 项目更名为 `LangChain-ChatChat` 并发布了 `0.2.0` 版，引入了 `FastChat` 模型加载方案，支持更多的模型和数据库。10 月 发布了 `0.2.5` 版，加入了代理（`Agent`）功能模块，项目在创始人公园等举办的开源黑客松中获得了第三名。到 2023 年 12 月 时，项目在 `GitHub` 上的 `star` 数已超过 `2` 万。2024 年 6 月 发布了 `0.3.0` 版，引入了全新架构和更多特性。此后小版本迭代于2024 年 7 月推出（最新 `PyPI` 版为 `0.3.1.3`）。截至现在，项目在 `GitHub` 上已有 `35.5k Stars`，活跃的社区和持续更新表明该项目在中文开源社区中具有很高的人气和影响力。官方地址：https://github.com/chatchat-space/Langchain-Chatchat\n",
    "\n",
    "<div align=center><img src=\"https://muyu20241105.oss-cn-beijing.aliyuncs.com/images/202507071606358.png\" width=80%></div>"
   ]
  },
  {
   "cell_type": "markdown",
   "id": "84f3488b-3f5d-4fe0-bfc2-b0fc6c410dc8",
   "metadata": {},
   "source": [
    "&emsp;&emsp;`LangChain-ChatChat` 提供了丰富的对话及问答功能，包括：通用对话管理：支持多轮对话、会话历史保存、角色提示词自定义等功能。`Web UI` 可同时管理多个会话，每个会话可设置不同的系统指令和参数。具体核心功能如下：\n",
    "\n",
    "- **本地知识库 QA**：通过“知识库对话”功能，将用户上传的文档、网页内容等构建向量化知识库，用户提问时从本地知识库检索相关信息并生成回答。支持多种文件格式（`TXT`、`DOCX`、`PDF`、`Markdown` 等）和知识库管理命令（如 `chatchat kb -r` 初始化、添加文件等）。\n",
    "\n",
    "- **文档检索问答（File RAG）**：与知识库 QA 类似，但针对单个或选定文件进行分块检索，支持 `BM25+KNN` 等混合检索算法，实现对长文档或 `PDF` 的精确问答。\n",
    "\n",
    "- **搜索引擎对话**：集成了可选的搜索引擎（如 `Searx` 等）作为知识补充，可在对话中检索实时网络信息，并作为上下文提供给模型。\n",
    "\n",
    "- **数据库问答**：`0.3.x` 新增了直接对接数据库的能力，用户可以配置数据库连接，系统将根据用户提问生成 `SQL` 查询并返回结果（需使用支持 `Function Call` 的模型）。\n",
    "\n",
    "- **多模态功能**：支持图片对话和文本生成图像。例如可上传图片让模型进行描述或分析（推荐使用 `Qwen-VL-Chat` 等视觉语言模型），或使用模型自带的文生图功能生成图片。\n",
    "\n",
    "- **工具/插件机制（Agent）**：`0.3.x` 核心功能由 `Agent` 实现，用户可在配置中启用 `Agent` 模式，并选择多个工具（如 `Wolfram`、`翻译`、`计算器`、`网络检索` 等）。当启用 `Agent` 时，`LLM` 会根据请求自动调用合适的工具；也可手动选择单个工具进行 `API` 调用。这一机制使系统能够扩展各种“插件”功能，如事实查询、代码运行、表格操作等。\n",
    "\n",
    "- **UI 前端**：内置基于 `Streamlit` 的网页界面，提供聊天交互、模型选择、参数配置等功能。`UI` 支持多会话标签、上下文导出、记忆管理等，方便用户进行实验和演示。\n",
    "\n",
    "- **权限/多用户管理**：当前版本主要面向个人或小团队部署，并未专门实现复杂的角色权限体系。系统默认允许本地访问，用户需在配置中调整监听地址（如改为 `0.0.0.0`）才能远程访问。"
   ]
  },
  {
   "cell_type": "markdown",
   "id": "fbefb191-32ff-49a8-9f0b-f530b74e50c7",
   "metadata": {},
   "source": [
    "<div align=center><img src=\"https://muyu20241105.oss-cn-beijing.aliyuncs.com/images/202507071615376.png\" width=80%></div>"
   ]
  },
  {
   "cell_type": "markdown",
   "id": "4709083b-68f8-4604-b2d1-500b7c1656e7",
   "metadata": {},
   "source": [
    "&emsp;&emsp;实现上述功能的核心底层框架就是`LangChain`。\n",
    "\n",
    "&emsp;&emsp;`LangChain-ChatChat` 的核心架构是一个标准的 `RAG` 管道：加载文档→文本切分→向量化检索→合并上下文→`LLM` 生成回答。具体来说，系统首先通过多种文件解析器读取文档内容，然后用文本切分器（如基于句段或固定长度切分）将内容拆分为小块，对每块计算文本向量。用户提问后，同样将问题向量化，在向量数据库中检索与问题最相似的 `TopK` 文本块，将检索结果作为上下文与问题一并组织到提示词中，最后交给大模型生成答案。如下图所示："
   ]
  },
  {
   "cell_type": "markdown",
   "id": "4df881a1-e9f6-405b-b9fe-a10278ec0422",
   "metadata": {},
   "source": [
    "<div align=center><img src=\"https://muyu20241105.oss-cn-beijing.aliyuncs.com/images/202507071615377.png\" width=80%></div>"
   ]
  },
  {
   "cell_type": "markdown",
   "id": "5134789e-0091-42c4-a7af-45a95bc4220f",
   "metadata": {},
   "source": [
    "&emsp;&emsp;下图即为该流程详细示意图，`LangChain-ChatChat` 内置了整套检索问答流程，由 `LangChain` 负责串联各组件、管理上下文和对话记忆。 系统技术栈方面，`ChatChat` 基于 `Python3.8+` 开发，核心依赖 `LangChain` 框架。它通过 `FastAPI` 暴露后端服务接口，也提供基于 `Streamlit` 的 `Web UI` 供用户交互。在模型支持上，从 `0.3.0` 版本起，所有模型（包括 `LLM`、`Embedding`、`可视化模型` 等）均通过模型推理框架接入，例如 `Xinference`、`LocalAI`、`Ollama`、`FastChat` 或 `One API` 等。这些框架可以加载如 `GLM-4-Chat`、`Qwen-2`、`LLaMA3`、`Vicuna`、`Alpaca`、`Koala`、`RWKV` 等多种开源大模型，并支持 `GPU/CPU` 异构部署和加速（如 `GPTQ`、`vLLM`、`TensorRT` 等）。系统内部还使用了数据库或文件系统来存储知识库元数据，默认使用 `SQLite+FAISS` 向量库，用户可通过配置接入其他矢量数据库（如 `Chroma`、`Milvus` 等）。整体运行时，通过 `chatchat init` 命令生成配置、初始化知识库，通过 `chatchat start` 启动服务，用户既可以以 `API` 形式调用，也可在浏览器中使用内置的多会话聊天界面。\n",
    "\n",
    "<div align=center><img src=\"https://muyu20241105.oss-cn-beijing.aliyuncs.com/images/202507071615378.png\" width=80%></div>"
   ]
  },
  {
   "cell_type": "markdown",
   "id": "1795f9d7-ca48-424e-bfc9-0b464f4c60e0",
   "metadata": {},
   "source": [
    "<center><img src=\"https://ml2022.oss-cn-hangzhou.aliyuncs.com/img/image-20250708202542740.png\" alt=\"image-20250708202542740\" style=\"zoom:50%;\" />"
   ]
  },
  {
   "cell_type": "markdown",
   "id": "9f340928-c61d-4f3b-b4b7-c6677ab8790c",
   "metadata": {},
   "source": [
    "<center><img src=\"https://ml2022.oss-cn-hangzhou.aliyuncs.com/img/image-20250708202733396.png\" alt=\"image-20250708202733396\" style=\"zoom:50%;\" />"
   ]
  },
  {
   "cell_type": "markdown",
   "id": "8c9aa29f-44af-489e-a7ed-3327bea054f6",
   "metadata": {},
   "source": [
    "## 5.2 本地私有化部署"
   ]
  },
  {
   "cell_type": "markdown",
   "id": "7ad2229d-2acf-4ad1-a846-a8425ad051cd",
   "metadata": {},
   "source": [
    "&emsp;&emsp;在熟悉了`langchain-chatchat`的架构和功能后，我们接下来详细介绍本地部署的完整流程。\n",
    "\n",
    "&emsp;&emsp;首先，`LangChain-ChatChat` 支持多种安装部署方法，包括`pip`安装、`Docker` 容器部署和源码编译。这里我们选择源码安装，我们针对该项目的必要配置文件进行了梳理和修改，完整的项目代码大家可以从百度网盘中免费获取。"
   ]
  },
  {
   "cell_type": "markdown",
   "id": "955f1cae-b512-4bcc-8fef-7dce7c7e2f6c",
   "metadata": {},
   "source": [
    "<center><img src=\"https://ml2022.oss-cn-hangzhou.aliyuncs.com/img/image-20250708201553433.png\" alt=\"image-20250708201553433\" style=\"zoom:50%;\" />"
   ]
  },
  {
   "cell_type": "markdown",
   "id": "8dbbae7f-a4bc-4356-b7de-e945835115ad",
   "metadata": {},
   "source": [
    "<center><img src=\"https://ml2022.oss-cn-hangzhou.aliyuncs.com/img/634ffcbc916b5e6a2b68a084a561e19.png\" alt=\"634ffcbc916b5e6a2b68a084a561e19\" style=\"zoom: 50%;\" />"
   ]
  },
  {
   "cell_type": "markdown",
   "id": "e954bfb5-f878-4d9b-aff6-28076efb6ab1",
   "metadata": {},
   "source": [
    "&emsp;&emsp;我们此次实现所采用的模型接入与Embedding加载方案，核心在于对底层源码进行了针对性改写与优化，并特别解决了Windows环境下的兼容性问题。这些改动虽然在功能层面看似并非“大幅重构”，但涵盖了大量细节级的适配工作，例如模型初始化逻辑的调整、路径解析的完善以及跨平台依赖的统一处理。\n",
    "\n",
    "&emsp;&emsp;通过这一系列精细化改造，我们不仅实现了对DeepSeek及硅基流动提供的免费Embedding资源的灵活接入，也保证了在不同系统环境（包括Windows和Linux）下都能保持一致的运行体验。值得一提的是，这套方案同样支持基于Ollama本地部署的对话模型和Embedding模型的接入，极大地提升了系统在私有化场景下的兼容性和扩展性。整体而言，这些改写虽然聚焦在“看似简单的适配层”，但实际上为后续在多模型、跨平台环境中稳定落地打下了坚实的基础。"
   ]
  },
  {
   "cell_type": "markdown",
   "id": "79cf014f-fcb6-4c81-b1d0-f4131b9b1a6e",
   "metadata": {},
   "source": [
    "- **Step 1: 创建虚拟环境**"
   ]
  },
  {
   "cell_type": "markdown",
   "id": "1ab52538-fe1b-4137-9695-61fb1b6c1893",
   "metadata": {},
   "source": [
    "&emsp;&emsp;`Langchain-Chatchat` 自 `0.3.0` 版本起，为方便支持用户使用 `pip` 方式安装部署，以及为避免环境中依赖包版本冲突等问题， 在源代码/开发部署中不再继续使用 `requirements.txt` 管理项目依赖库，转为使用 `Poetry` 进行环境管理。\n",
    "\n",
    "&emsp;&emsp;因此，我们需要通过`Conda`创建一个独立的环境，并安装`Poetry`。\n",
    "\n",
    "```bash\n",
    "    conda create -n langchain_chat python=3.11\n",
    "```\n",
    "\n",
    "<div align=center><img src=\"https://muyu20241105.oss-cn-beijing.aliyuncs.com/images/202507071806720.png\" width=80%></div>"
   ]
  },
  {
   "cell_type": "markdown",
   "id": "406c17bf-265d-4f0b-b9ad-34a8371e082f",
   "metadata": {},
   "source": [
    "> Poetry 是一款现代化的 Python 包管理和项目构建工具，旨在为开发者提供一种简单一致、可复现的依赖管理与发布流程。与传统的 pip 和 setup.py 相比，Poetry通过引入声明式的 pyproject.toml 配置文件，实现了项目依赖、开发依赖、版本锁定以及构建配置的统一管理。Poetry不仅支持对项目依赖进行精确版本约束和哈希校验，确保在不同环境中安装的依赖完全一致，还内置了虚拟环境自动管理机制，能够在每个项目目录下创建隔离的运行环境，从而避免依赖冲突和环境污染。通过简单的命令，开发者可以快速完成项目的初始化、依赖安装、版本更新、打包构建和发布到PyPI等操作，大幅提升了Python项目的可维护性和可移植性。"
   ]
  },
  {
   "cell_type": "markdown",
   "id": "a1450941-e038-4ae6-abbf-0e4731dbaac1",
   "metadata": {},
   "source": [
    "- **Step 2. 安装Poetry**\n",
    "\n",
    "&emsp;&emsp;接下来进入新创建的虚拟环境，并安装`Poetry`。\n",
    "\n",
    "```bash\n",
    "    conda activate langchain_chat\n",
    "    pip install poetry\n",
    "```\n",
    "<div align=center><img src=\"https://muyu20241105.oss-cn-beijing.aliyuncs.com/images/202507071806722.png\" width=80%></div>"
   ]
  },
  {
   "cell_type": "markdown",
   "id": "9bcf6627-6977-42f1-9f65-8c7856d83bd4",
   "metadata": {},
   "source": [
    "- **Step 3. 安装项目依赖**\n",
    "\n",
    "&emsp;&emsp;首先通过`pip`安装`langchain-chatchat`的依赖库。\n",
    "\n",
    "```bash\n",
    "    pip install langchain-chatchat -U  -i https://pypi.tuna.tsinghua.edu.cn/simple \n",
    "```\n",
    "\n",
    "<div align=center><img src=\"https://muyu20241105.oss-cn-beijing.aliyuncs.com/images/202507071806723.png\" width=80%></div>\n",
    "\n",
    "&emsp;&emsp;然后通过`Poetry`安装所有第三方依赖包：\n",
    "\n",
    "```bash\n",
    "   cd langchain-chatchat-master\n",
    "   cd .\\libs\\chatchat-server\\\n",
    "   pip install -e .\n",
    "```\n",
    "\n",
    "<div align=center><img src=\"https://muyu20241105.oss-cn-beijing.aliyuncs.com/images/202507071806724.png\" width=80%></div>"
   ]
  },
  {
   "cell_type": "markdown",
   "id": "0f4c7675-d9d3-429f-936e-81fef738324d",
   "metadata": {},
   "source": [
    "- **Step 4. 配置环境变量**\n",
    "\n",
    "&emsp;&emsp;接下来，需要在当前开发时所使用 `IDE` 指定项目源代码根目录，具体来说：就是将主项目目录(Langchain-Chatchat/libs/chatchat-server/)设置为源代码根目录。执行以下命令之前，请先设置当前目录和项目数据目录：\n",
    "\n",
    "```bash\n",
    "   # 如果是 Linux 系统\n",
    "   export E:\\01_muyu\\11_TrafficVideo\\Langchain-Chatchat-master\\libs\\chatchat-server\\data\n",
    "\n",
    "   # 如果是 Windows 系统\n",
    "   set E:\\01_muyu\\11_TrafficVideo\\Langchain-Chatchat-master\\libs\\chatchat-server\\dataset E:\\01_muyu\\11_TrafficVideo\\Langchain-Chatchat-master\\libs\\chatchat-server\\data\n",
    "```\n",
    "\n",
    "<div align=center><img src=\"https://muyu20241105.oss-cn-beijing.aliyuncs.com/images/202507071806725.png\" width=80%></div>"
   ]
  },
  {
   "cell_type": "markdown",
   "id": "547409ce-3358-4891-9b66-311685e8e686",
   "metadata": {},
   "source": [
    "- **Step 5. 初始化项目**\n",
    "\n",
    "&emsp;&emsp;在完成项目依赖安装后，通过`chatchat --help`命令查看项目帮助信息, 如下所示：\n",
    "\n",
    "```bash\n",
    "   chatchat --help\n",
    "```\n",
    "\n",
    "<div align=center><img src=\"https://muyu20241105.oss-cn-beijing.aliyuncs.com/images/202507071806726.png\" width=80%></div>\n",
    "\n",
    "&emsp;&emsp;通过`chatchat init`命令初始化项目，如下所示：\n",
    "\n",
    "```bash\n",
    "   chatchat init\n",
    "```\n",
    "\n",
    "<div align=center><img src=\"https://muyu20241105.oss-cn-beijing.aliyuncs.com/images/202507071806727.png\" width=80%></div>"
   ]
  },
  {
   "cell_type": "markdown",
   "id": "1aab2a0f-e995-42d2-a9a0-a006d428b441",
   "metadata": {},
   "source": [
    "- **Step 6. 修改配置信息**\n",
    "\n",
    "&emsp;&emsp;接下来，我们需要修改项目文件中的`model_settings.yaml` 文件，依次填写使用的对话模型和`Embedding`模型的配置信息。其中对话模型我们使用`deepseek`，`Embedding`模型我们使用`BAAI/bge-large-zh-v1.5`。可以在轨基流动进行免费申请和使用：https://cloud.siliconflow.cn/sft-cm3fr8u8r020q9zj5bxhqnewo/models?types=embedding\n",
    "\n",
    "<div align=center><img src=\"https://muyu20241105.oss-cn-beijing.aliyuncs.com/images/202507071806730.png\" width=80%></div>"
   ]
  },
  {
   "cell_type": "markdown",
   "id": "6e9d020a-b4d2-4931-aaa5-f634bcd5735e",
   "metadata": {},
   "source": [
    "&emsp;&emsp;此外，在进行`LangChain`开发之前，还需要准备一个可以进行调用的大模型，这里我们选择使用`DeepSeek`的大模型，并使用`DeepSeek`官方的`API_KEK`进行调用。如果初次使用，需要现在`DeepSeek`官网上进行注册并创建一个新的`API_Key`，其官方地址为：https://platform.deepseek.com/usage"
   ]
  },
  {
   "cell_type": "markdown",
   "id": "662689e8-881b-42bc-a679-8937b6887aa6",
   "metadata": {},
   "source": [
    "<div align=center><img src=\"https://muyu20241105.oss-cn-beijing.aliyuncs.com/images/202506091257041.png\" width=60%></div>"
   ]
  },
  {
   "cell_type": "markdown",
   "id": "2032499f-6f7b-4916-92f2-088ab46647cc",
   "metadata": {},
   "source": [
    "&emsp;&emsp;注册好`DeepSeek`的`API_KEY`后，首先在项目同级目录下创建一个`env`文件，用于存储`DeepSeek`的`API_KEY`，如下所示："
   ]
  },
  {
   "cell_type": "markdown",
   "id": "1e7f50aa-3e71-4897-9dfc-3ca04cb15693",
   "metadata": {},
   "source": [
    "<div align=center><img src=\"https://muyu20241105.oss-cn-beijing.aliyuncs.com/images/202506091301526.png\" width=60%></div>"
   ]
  },
  {
   "cell_type": "markdown",
   "id": "1f6bbcaf-211d-4689-b810-d39668eb4991",
   "metadata": {},
   "source": [
    "&emsp;&emsp;接下来通过`python-dotenv`库读取`env`文件中的`API_KEY`，使其加载到当前的运行环境中，代码如下："
   ]
  },
  {
   "cell_type": "code",
   "execution_count": null,
   "id": "4b2b5a50-8248-4816-9dee-acefa33e2850",
   "metadata": {},
   "outputs": [
    {
     "name": "stdout",
     "output_type": "stream",
     "text": [
      "Collecting python-dotenv\n",
      "  Using cached python_dotenv-1.1.0-py3-none-any.whl.metadata (24 kB)\n",
      "Using cached python_dotenv-1.1.0-py3-none-any.whl (20 kB)\n",
      "Installing collected packages: python-dotenv\n",
      "Successfully installed python-dotenv-1.1.0\n"
     ]
    }
   ],
   "source": [
    "! pip install python-dotenv"
   ]
  },
  {
   "cell_type": "code",
   "execution_count": null,
   "id": "9cb0695f-be11-441b-bdc3-58cacde33cc9",
   "metadata": {},
   "outputs": [],
   "source": [
    "import os\n",
    "from dotenv import load_dotenv \n",
    "load_dotenv(override=True)\n",
    "\n",
    "DeepSeek_API_KEY = os.getenv(\"DEEPSEEK_API_KEY\")\n",
    "# print(DeepSeek_API_KEY)  # 可以通过打印查看"
   ]
  },
  {
   "cell_type": "markdown",
   "id": "d92eefbd-f3f7-45ed-b10e-58bf65bb589f",
   "metadata": {},
   "source": [
    "&emsp;&emsp;我们在当前的运行环境下不使用`LangChain`，直接使用`DeepSeek`的`API`进行网络连通性测试，测试代码如下："
   ]
  },
  {
   "cell_type": "code",
   "execution_count": 4,
   "id": "36175411-0182-4ee8-a0e3-859148a30cfe",
   "metadata": {
    "scrolled": true
   },
   "outputs": [],
   "source": [
    "# ! pip install openai"
   ]
  },
  {
   "cell_type": "code",
   "execution_count": null,
   "id": "8fc0daa2-02ea-48c1-89cb-a2d5141bdd46",
   "metadata": {},
   "outputs": [
    {
     "name": "stdout",
     "output_type": "stream",
     "text": [
      "你好！我是一个乐于助人的AI助手，随时准备为你提供各种帮助。无论是解答问题、提供建议、协助学习、处理日常事务，还是陪你聊天解闷，我都会尽力满足你的需求。  \n",
      "\n",
      "我的知识涵盖广泛的主题，包括但不限于科技、历史、文化、健康、编程、旅行等。如果你有任何疑问或需要帮助，尽管告诉我！  \n",
      "\n",
      "没有复杂的设定，我的目标就是简单、直接地为你提供有用的信息和支持。所以，有什么我可以帮你的吗？ 😊\n"
     ]
    }
   ],
   "source": [
    "from openai import OpenAI\n",
    "\n",
    "# 初始化DeepSeek的API客户端\n",
    "client = OpenAI(api_key=DeepSeek_API_KEY, base_url=\"https://api.deepseek.com\")\n",
    "\n",
    "# 调用DeepSeek的API，生成回答\n",
    "response = client.chat.completions.create(\n",
    "    model=\"deepseek-chat\",\n",
    "    messages=[\n",
    "        {\"role\": \"system\", \"content\": \"你是乐于助人的助手，请根据用户的问题给出回答\"},\n",
    "        {\"role\": \"user\", \"content\": \"你好，请你介绍一下你自己。\"},\n",
    "    ],\n",
    ")\n",
    "\n",
    "# 打印模型最终的响应结果\n",
    "print(response.choices[0].message.content)"
   ]
  },
  {
   "cell_type": "markdown",
   "id": "e2e58a74-1b1e-49db-80bd-dc36e7b1f2e8",
   "metadata": {},
   "source": [
    "&emsp;&emsp;如果可以正常收到`DeepSeek`模型的响应，则说明`DeepSeek`的`API`已经可以正常使用且网络连通性正常。"
   ]
  },
  {
   "cell_type": "markdown",
   "id": "b35e95ec-53de-481c-840b-c1d059273190",
   "metadata": {},
   "source": [
    "&emsp;&emsp;然后，需要修改的配置信息如下：\n",
    "\n",
    "<div align=center><img src=\"https://muyu20241105.oss-cn-beijing.aliyuncs.com/images/202507071806728.png\" width=80%></div>\n",
    "\n",
    "<div align=center><img src=\"https://muyu20241105.oss-cn-beijing.aliyuncs.com/images/202507071806729.png\" width=80%></div>"
   ]
  },
  {
   "cell_type": "markdown",
   "id": "b6aa8a06-ff61-4c63-bde6-a8569f20aa2b",
   "metadata": {},
   "source": [
    "- **Step 7. 初始化知识库**\n",
    "\n",
    "&emsp;&emsp;在完成项目初始化后，我们就可以开始初始化知识库了。该项目提供了一个默认的`knowledge_base`知识库，可以通过如下命令进行初始化。注意：这个前提是已经正确的配置了`model_settings.yaml`文件中对话模型和`Embedding`模型的配置信息。\n",
    "\n",
    "```bash\n",
    "   python -m chatchat.cli kb --recreate-vs\n",
    "```\n",
    "\n",
    "<div align=center><img src=\"https://muyu20241105.oss-cn-beijing.aliyuncs.com/images/202507071806731.png\" width=80%></div>\n"
   ]
  },
  {
   "cell_type": "markdown",
   "id": "1e677c8f-2e14-4646-848d-51a247afb18a",
   "metadata": {},
   "source": [
    "- **Step 8. 启动服务**\n",
    "\n",
    "&emsp;&emsp;在完成项目初始化和知识库初始化后，我们就可以开始启动服务了。执行如下代码：\n",
    "\n",
    "```bash\n",
    "   python -m chatchat.cli start -a\n",
    "```\n",
    "\n",
    "<div align=center><img src=\"https://muyu20241105.oss-cn-beijing.aliyuncs.com/images/202507071806732.png\" width=80%></div>\n",
    "\n",
    "\n",
    "&emsp;&emsp;启动成功后，会自动打开浏览器，并显示如下界面：（如果浏览器没有自动打开，请手动打开浏览器，并输入`http://127.0.0.1:8501`）\n",
    "\n",
    "<div align=center><img src=\"https://muyu20241105.oss-cn-beijing.aliyuncs.com/images/202507071806733.png\" width=80%></div>"
   ]
  },
  {
   "cell_type": "markdown",
   "id": "5b404ca2-e050-4e8b-8dc0-b9b7e15dabab",
   "metadata": {},
   "source": [
    "&emsp;&emsp;功能演示视频如下："
   ]
  },
  {
   "cell_type": "code",
   "execution_count": 3,
   "id": "ec9e7368-9790-4712-8d32-95ddf00f3241",
   "metadata": {},
   "outputs": [
    {
     "data": {
      "text/html": [
       "<video src=\"https://ml2022.oss-cn-hangzhou.aliyuncs.com/langchain-chatchat%E6%BC%94%E7%A4%BA%E8%A7%86%E9%A2%91.mp4\" controls  width=\"800\"  height=\"400\">\n",
       "      Your browser does not support the <code>video</code> element.\n",
       "    </video>"
      ],
      "text/plain": [
       "<IPython.core.display.Video object>"
      ]
     },
     "execution_count": 3,
     "metadata": {},
     "output_type": "execute_result"
    }
   ],
   "source": [
    "Video(\"https://ml2022.oss-cn-hangzhou.aliyuncs.com/langchain-chatchat%E6%BC%94%E7%A4%BA%E8%A7%86%E9%A2%91.mp4\", width=800, height=400)"
   ]
  },
  {
   "cell_type": "code",
   "execution_count": null,
   "id": "bf054d54-83f4-4cca-85e8-02d2287b9803",
   "metadata": {},
   "outputs": [],
   "source": []
  }
 ],
 "metadata": {
  "kernelspec": {
   "display_name": "py310",
   "language": "python",
   "name": "python3"
  },
  "language_info": {
   "codemirror_mode": {
    "name": "ipython",
    "version": 3
   },
   "file_extension": ".py",
   "mimetype": "text/x-python",
   "name": "python",
   "nbconvert_exporter": "python",
   "pygments_lexer": "ipython3",
   "version": "3.10.18"
  }
 },
 "nbformat": 4,
 "nbformat_minor": 5
}
