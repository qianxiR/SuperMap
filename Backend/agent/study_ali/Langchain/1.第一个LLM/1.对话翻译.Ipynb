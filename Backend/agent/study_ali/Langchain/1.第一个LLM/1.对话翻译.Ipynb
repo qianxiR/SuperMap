{
 "cells": [
  {
   "cell_type": "code",
   "execution_count": 52,
   "id": "b3644202",
   "metadata": {},
   "outputs": [],
   "source": [
    "import getpass\n",
    "import os\n",
    "\n",
    "if not os.getenv(\"DASHSCOPE_API_KEY\"):\n",
    "    os.environ[\"DASHSCOPE_API_KEY\"] = getpass.getpass(\"Enter your Dashscope API key: \")\n"
   ]
  },
  {
   "cell_type": "code",
   "execution_count": 53,
   "id": "bd605289",
   "metadata": {},
   "outputs": [
    {
     "name": "stdout",
     "output_type": "stream",
     "text": [
      "I'm so happy today.\n"
     ]
    }
   ],
   "source": [
    "import urllib3\n",
    "from langchain_community.chat_models import ChatTongyi\n",
    "import os\n",
    "\n",
    "# 禁用HTTPS验证\n",
    "os.environ['PYTHONHTTPSVERIFY'] = '0'\n",
    "# 创建LLM实例\n",
    "llm = ChatTongyi(\n",
    "    model_name=\"qwen-plus\",\n",
    "    max_tokens=3000,\n",
    "    timeout=60,\n",
    "    max_retries=3,\n",
    "    temperature=0.7,\n",
    "    verify=False\n",
    ")\n",
    "\n",
    "messages = [\n",
    "    (\n",
    "        \"system\",\n",
    "        \"You are a helpful assistant that translates Chinese to English. \"\n",
    "        \"Translate the user sentence.\",\n",
    "    ),\n",
    "\n",
    "    (   \"human\",\n",
    "        \"今天太开心了\"),\n",
    "\n",
    "]\n",
    "\n",
    "ai_msg = llm.invoke(messages)##接受各种格式的输入（字符串、消息列表、PromptValue等）,返回一个 BaseMessage 对象作为模型的响应\n",
    "print(ai_msg.content)\n"
   ]
  },
  {
   "cell_type": "code",
   "execution_count": 54,
   "id": "669a0c42",
   "metadata": {},
   "outputs": [
    {
     "name": "stdout",
     "output_type": "stream",
     "text": [
      "content='我喜欢编程。' additional_kwargs={} response_metadata={'model_name': 'qwen-plus', 'finish_reason': 'stop', 'request_id': '7b310755-5b86-4c09-bd9e-2d976f9c74af', 'token_usage': {'input_tokens': 32, 'output_tokens': 3, 'total_tokens': 35, 'prompt_tokens_details': {'cached_tokens': 0}}} id='run--10147619-a37a-4ba7-b97d-cd4eff182f59-0'\n"
     ]
    }
   ],
   "source": [
    "from langchain_core.prompts import ChatPromptTemplate\n",
    "\n",
    "prompt = ChatPromptTemplate(\n",
    "    [\n",
    "        (\n",
    "            \"system\",\n",
    "            \"You are a helpful assistant that translates\"\n",
    "            \"{input_language} to {output_language}.\",\n",
    "        ),\n",
    "        (\"human\", \"{input}\"),\n",
    "    ]\n",
    ")\n",
    "\n",
    "chain = prompt | llm#使用管道操作符 | 将提示模板和语言模型连接，形成：输入 → 模板处理 → LLM生成 → 输出\n",
    "\n",
    "ai_message= chain.invoke(\n",
    "    {\n",
    "        \"input_language\": \"English\",\n",
    "        \"output_language\": \"Chinese\",\n",
    "        \"input\": \"I love programming.\",\n",
    "    }\n",
    ")\n",
    "'''\n",
    "    实际效果：\n",
    "    将 {input_language} 替换为 \"English\"\n",
    "    将 {output_language} 替换为 \"German\"\n",
    "    将 {input} 替换为 \"I love programming.\"\n",
    "'''\n",
    "print(ai_message)\n"
   ]
  },
  {
   "cell_type": "code",
   "execution_count": null,
   "id": "334276d2",
   "metadata": {},
   "outputs": [],
   "source": []
  }
 ],
 "metadata": {
  "kernelspec": {
   "display_name": "qgis-env",
   "language": "python",
   "name": "python3"
  },
  "language_info": {
   "codemirror_mode": {
    "name": "ipython",
    "version": 3
   },
   "file_extension": ".py",
   "mimetype": "text/x-python",
   "name": "python",
   "nbconvert_exporter": "python",
   "pygments_lexer": "ipython3",
   "version": "3.12.11"
  }
 },
 "nbformat": 4,
 "nbformat_minor": 5
}
